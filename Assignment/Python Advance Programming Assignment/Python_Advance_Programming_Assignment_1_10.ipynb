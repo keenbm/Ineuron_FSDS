{
  "nbformat": 4,
  "nbformat_minor": 0,
  "metadata": {
    "colab": {
      "name": "Python Advance Programming Assignment 1-10.ipynb",
      "provenance": [],
      "collapsed_sections": [
        "lz1cV-EhAb40"
      ],
      "authorship_tag": "ABX9TyM+l+wiZGsFlEthuHQ5ReTt",
      "include_colab_link": true
    },
    "kernelspec": {
      "name": "python3",
      "display_name": "Python 3"
    },
    "language_info": {
      "name": "python"
    }
  },
  "cells": [
    {
      "cell_type": "markdown",
      "metadata": {
        "id": "view-in-github",
        "colab_type": "text"
      },
      "source": [
        "<a href=\"https://colab.research.google.com/github/keenbm/Ineuron_FSDS/blob/main/Assignment/Python%20Advance%20Programming%20Assignment/Python_Advance_Programming_Assignment_1_10.ipynb\" target=\"_parent\"><img src=\"https://colab.research.google.com/assets/colab-badge.svg\" alt=\"Open In Colab\"/></a>"
      ]
    },
    {
      "cell_type": "markdown",
      "source": [
        "``` \n",
        "Python Advance Programming Assignment 1-25\n",
        "Name : Bhavikkumar Modi\n",
        "E-mail : bmodi700@gmail.com\n",
        "```"
      ],
      "metadata": {
        "id": "9IHAMvvg_lsQ"
      }
    },
    {
      "cell_type": "markdown",
      "source": [
        "```\n",
        "Assignment/Python Advance Programming Assignment/\n",
        "```\n"
      ],
      "metadata": {
        "id": "aqIfIRiN_lsR"
      }
    },
    {
      "cell_type": "markdown",
      "source": [
        "Question 1. Write a function that takes a list of lists and returns the value of all of the\n",
        "symbols in it, where each symbol adds or takes something from the total\n",
        "score. Symbol values:\n",
        "\n",
        "'# = 5\n",
        "\n",
        "O = 3\n",
        "\n",
        "X = 1\n",
        "\n",
        "! = -1\n",
        "\n",
        "!! = -3\n",
        "\n",
        "!!! = -5\n",
        "\n",
        "A list of lists containing 2 #s, a O, and a !!! would equal (0 + 5 + 5 + 3 - 5) 8.\n",
        "If the final score is negative, return 0 (e.g. 3 #s, 3 !!s, 2 !!!s and a X would be\n",
        "(0 + 5 + 5 + 5 - 3 - 3 - 3 - 5 - 5 + 1) -3, so return 0.\n",
        "\n",
        "Examples\n",
        "\n",
        "check_score([\n",
        "[&quot;#&quot;, &quot;!&quot;],\n",
        "[&quot;!!&quot;, &quot;X&quot;]\n",
        "]) ➞ 2\n",
        "\n",
        "check_score([\n",
        "[&quot;!!!&quot;, &quot;O&quot;, &quot;!&quot;],\n",
        "[&quot;X&quot;, &quot;#&quot;, &quot;!!!&quot;],\n",
        "[&quot;!!&quot;, &quot;X&quot;, &quot;O&quot;]\n",
        "]) ➞ 0"
      ],
      "metadata": {
        "id": "CSUEl0yA52eg"
      }
    },
    {
      "cell_type": "code",
      "source": [
        "def check_score(list):\n",
        "  import numpy as np\n",
        "  newlist=np.concatenate(list) \n",
        "  dict1={\"#\" : 5, \"O\" : 3,\"X\" : 1,\n",
        "         \"!\" : -1, \"!!\" : -3 ,\"!!!\" : -5}\n",
        "  sumlist=[]\n",
        "  for i in newlist:\n",
        "    sumlist.append(dict1[i])\n",
        "  \n",
        "  return sum(sumlist)"
      ],
      "metadata": {
        "id": "ecxFhGVA5z_C"
      },
      "execution_count": null,
      "outputs": []
    },
    {
      "cell_type": "code",
      "source": [
        "#inp=input(\"Enter List with value seperated with || : \").split(\"||\")\n",
        "#print(inp)\n",
        "check_score([[\"#\", \"!\"], [\"!!\", \"X\"]])"
      ],
      "metadata": {
        "colab": {
          "base_uri": "https://localhost:8080/"
        },
        "id": "dhafp_2TCtCg",
        "outputId": "7f0be550-9021-4bbe-f339-82f6d393e6e7"
      },
      "execution_count": null,
      "outputs": [
        {
          "output_type": "execute_result",
          "data": {
            "text/plain": [
              "2"
            ]
          },
          "metadata": {},
          "execution_count": 35
        }
      ]
    },
    {
      "cell_type": "markdown",
      "source": [
        "Question 2: \n",
        "Create a function that takes a variable number of arguments, each\n",
        "argument representing the number of items in a group, and returns the\n",
        "number of permutations (combinations) of items that you could get by taking\n",
        "one item from each group.\n",
        "\n",
        "Examples\n",
        "\n",
        "combinations(2, 3) ➞ 6\n",
        "\n",
        "combinations(3, 7, 4) ➞ 84\n",
        "\n",
        "combinations(2, 3, 4, 5) ➞ 120\n",
        "\n"
      ],
      "metadata": {
        "id": "mWFrdq019kXP"
      }
    },
    {
      "cell_type": "code",
      "source": [
        "def combination(*argv):\n",
        "  ans=1\n",
        "  for i in argv:\n",
        "    ans=ans*i\n",
        "  return ans\n",
        "combination(2, 3, 4, 5) "
      ],
      "metadata": {
        "colab": {
          "base_uri": "https://localhost:8080/"
        },
        "id": "HR3aYRlvIcQU",
        "outputId": "9733c460-6a73-48db-ffc2-c63357adec95"
      },
      "execution_count": null,
      "outputs": [
        {
          "output_type": "execute_result",
          "data": {
            "text/plain": [
              "120"
            ]
          },
          "metadata": {},
          "execution_count": 45
        }
      ]
    },
    {
      "cell_type": "markdown",
      "source": [
        "Question 3 : Create a function that takes a string as an argument and returns the Morse\n",
        "code equivalent.\n",
        "\n",
        "Examples\n",
        "\n",
        "encode_morse(&quot;EDABBIT CHALLENGE&quot;) ➞ &quot;. -.. .- -... -... .. - -.-. .... .- .-.. .-..\n",
        ". -. --. .&quot;\n",
        "\n",
        "encode_morse(&quot;HELP ME !&quot;) ➞ &quot;.... . .-.. .--. -- . -.-.--&quot;\n",
        "\n",
        "This dictionary can be used for coding:\n",
        "char_to_dots = {\n",
        "&#39;A&#39;: &#39;.-&#39;, &#39;B&#39;: &#39;-...&#39;, &#39;C&#39;: &#39;-.-.&#39;, &#39;D&#39;: &#39;-..&#39;, &#39;E&#39;: &#39;.&#39;, &#39;F&#39;: &#39;..-.&#39;,\n",
        "&#39;G&#39;: &#39;--.&#39;, &#39;H&#39;: &#39;....&#39;, &#39;I&#39;: &#39;..&#39;, &#39;J&#39;: &#39;.---&#39;, &#39;K&#39;: &#39;-.-&#39;, &#39;L&#39;: &#39;.-..&#39;,\n",
        "&#39;M&#39;: &#39;--&#39;, &#39;N&#39;: &#39;-.&#39;, &#39;O&#39;: &#39;---&#39;, &#39;P&#39;: &#39;.--.&#39;, &#39;Q&#39;: &#39;--.-&#39;, &#39;R&#39;: &#39;.-.&#39;,\n",
        "&#39;S&#39;: &#39;...&#39;, &#39;T&#39;: &#39;-&#39;, &#39;U&#39;: &#39;..-&#39;, &#39;V&#39;: &#39;...-&#39;, &#39;W&#39;: &#39;.--&#39;, &#39;X&#39;: &#39;-..-&#39;,\n",
        "&#39;Y&#39;: &#39;-.--&#39;, &#39;Z&#39;: &#39;--..&#39;, &#39; &#39;: &#39; &#39;, &#39;0&#39;: &#39;-----&#39;,\n",
        "&#39;1&#39;: &#39;.----&#39;, &#39;2&#39;: &#39;..---&#39;, &#39;3&#39;: &#39;...--&#39;, &#39;4&#39;: &#39;....-&#39;, &#39;5&#39;: &#39;.....&#39;,\n",
        "&#39;6&#39;: &#39;-....&#39;, &#39;7&#39;: &#39;--...&#39;, &#39;8&#39;: &#39;---..&#39;, &#39;9&#39;: &#39;----.&#39;,\n",
        "&#39;&amp;&#39;: &#39;.-...&#39;, &quot;&#39;&quot;: &#39;.----.&#39;, &#39;@&#39;: &#39;.--.-.&#39;, &#39;)&#39;: &#39;-.--.-&#39;, &#39;(&#39;: &#39;-.--.&#39;,\n",
        "&#39;:&#39;: &#39;---...&#39;, &#39;,&#39;: &#39;--..--&#39;, &#39;=&#39;: &#39;-...-&#39;, &#39;!&#39;: &#39;-.-.--&#39;, &#39;.&#39;: &#39;.-.-.-&#39;,\n",
        "&#39;-&#39;: &#39;-....-&#39;, &#39;+&#39;: &#39;.-.-.&#39;, &#39;&quot;&#39;: &#39;.-..-.&#39;, &#39;?&#39;: &#39;..--..&#39;, &#39;/&#39;: &#39;-..-.&#39;\n",
        "}"
      ],
      "metadata": {
        "id": "rpcQhP9t9oqn"
      }
    },
    {
      "cell_type": "code",
      "source": [
        "def encode_morse(input_string):\n",
        "  output_string=[]\n",
        "  char_to_dots = { 'A': '.-', 'B': '-...', 'C': '-.-.', 'D': '-..', 'E': '.', \n",
        "                'F': '..-.', 'G': '--.', 'H': '....', 'I': '..', 'J': '.---', \n",
        "                'K': '-.-', 'L': '.-..', 'M': '--', 'N': '-.', 'O': '---', \n",
        "                'P': '.--.', 'Q': '--.-', 'R': '.-.', 'S': '...', 'T': '-',\n",
        "                'U': '..-', 'V': '...-', 'W': '.--', 'X': '-..-', 'Y': '-.--',\n",
        "                'Z': '--..', ' ': ' ', '0': '-----', '1': '.----', '2': '..---', \n",
        "                '3': '...--', '4': '....-', '5': '.....', '6': '-....', \n",
        "                '7': '--...', '8': '---..', '9': '----.', '&': '.-...',\n",
        "                \"'\": '.----.', '@': '.--.-.', ')': '-.--.-', '(': '-.--.', \n",
        "                ':': '---...', ',': '--..--', '=': '-...-', '!': '-.-.--', \n",
        "                '.': '.-.-.-', '-': '-....-', '+': '.-.-.', '\"': '.-..-.', \n",
        "                '?': '..--..', '/': '-..-.' }\n",
        "  for i in input_string:\n",
        "    output_string.append(char_to_dots[i])\n",
        "    output_string.append(\" \")\n",
        " \n",
        "  return \"\".join(output_string)"
      ],
      "metadata": {
        "id": "_Wkl6zWXJpnG"
      },
      "execution_count": null,
      "outputs": []
    },
    {
      "cell_type": "code",
      "source": [
        "encode_morse(\"EDABBIT CHALLENGE\")"
      ],
      "metadata": {
        "id": "DJMl_wA990IQ",
        "colab": {
          "base_uri": "https://localhost:8080/",
          "height": 35
        },
        "outputId": "597b0791-3247-439f-fb45-27d9c1051512"
      },
      "execution_count": null,
      "outputs": [
        {
          "output_type": "execute_result",
          "data": {
            "application/vnd.google.colaboratory.intrinsic+json": {
              "type": "string"
            },
            "text/plain": [
              "'. -.. .- -... -... .. -   -.-. .... .- .-.. .-.. . -. --. . '"
            ]
          },
          "metadata": {},
          "execution_count": 55
        }
      ]
    },
    {
      "cell_type": "markdown",
      "source": [
        "Question 4 : Write a function that takes a number and returns True if it&#39;s a prime; False otherwise. The number can be 2^64-1 (2 to the power of 63, not XOR). With the standard technique it would be O(2^64-1), which is much too large for the 10 second time limit.\n",
        "\n",
        "\n",
        "Examples\n",
        "\n",
        "prime(7) ➞ True\n",
        "\n",
        "prime(56963) ➞ True\n",
        "\n",
        "prime(5151512515524) ➞ False"
      ],
      "metadata": {
        "id": "XWaqJoxA-APl"
      }
    },
    {
      "cell_type": "code",
      "source": [
        "def prime(inp_num):\n",
        "  from math import sqrt\n",
        "  n=56963\n",
        "  prime_flag = 0\n",
        "\n",
        "  if(n > 1):\n",
        "      for i in range(2, int(sqrt(n)) + 1):\n",
        "          if (n % i == 0):\n",
        "              prime_flag = 1\n",
        "              break\n",
        "      if (prime_flag == 0):\n",
        "          print(\"true\")\n",
        "      else:\n",
        "          print(\"false\")\n",
        "  else:\n",
        "      print(\"false\")\n",
        "\n",
        "prime(56963)"
      ],
      "metadata": {
        "id": "JzpsHTd4-EZR",
        "colab": {
          "base_uri": "https://localhost:8080/"
        },
        "outputId": "f7c9a52c-9cea-4000-d25f-2c0d083fd167"
      },
      "execution_count": null,
      "outputs": [
        {
          "output_type": "stream",
          "name": "stdout",
          "text": [
            "true\n"
          ]
        }
      ]
    },
    {
      "cell_type": "markdown",
      "source": [
        "Question : 5. Create a function that converts a word to a bitstring and then to a boolean\n",
        "list based on the following criteria:\n",
        "\n",
        "  1. Locate the position of the letter in the English alphabet (from 1 to 26).\n",
        "  2. Odd positions will be represented as 1 and 0 otherwise.\n",
        "  3. Convert the represented positions to boolean values, 1 for True and 0\n",
        "      for False.\n",
        "  4. Store the conversions into an array.\n",
        "\n",
        "Examples\n",
        "\n",
        "to_boolean_list(&quot;deep&quot;) ➞ [False, True, True, False]\n",
        "\n",
        "'# deep converts to 0110\n",
        "\n",
        "'# d is the 4th alphabet - 0\n",
        "\n",
        "'# e is the 5th alphabet - 1\n",
        "\n",
        "'# e is the 5th alphabet - 1\n",
        "\n",
        "'# p is the 16th alphabet - 0\n",
        "\n",
        "to_boolean_list(&quot;loves&quot;) ➞ [False, True, False, True, True]\n",
        "\n",
        "to_boolean_list(&quot;tesh&quot;) ➞ [False, True, True, False]"
      ],
      "metadata": {
        "id": "u5LV-ZR7-JeW"
      }
    },
    {
      "cell_type": "code",
      "source": [
        "def to_boolean_list(inp_str):\n",
        "  out_list=[]\n",
        "  import string\n",
        "  for i in inp_str:\n",
        "    if (string.ascii_lowercase.index(i)+1)%2==0:\n",
        "      out_list.append(False)\n",
        "    else:\n",
        "      out_list.append(True)\n",
        "  return out_list\n",
        "to_boolean_list(\"loves\")"
      ],
      "metadata": {
        "colab": {
          "base_uri": "https://localhost:8080/"
        },
        "id": "85j8chBxPk2Z",
        "outputId": "2bbc9989-5792-4a07-9813-dde11ca606de"
      },
      "execution_count": null,
      "outputs": [
        {
          "output_type": "execute_result",
          "data": {
            "text/plain": [
              "[False, True, False, True, True]"
            ]
          },
          "metadata": {},
          "execution_count": 75
        }
      ]
    },
    {
      "cell_type": "markdown",
      "source": [
        "``` \n",
        "Python Advance Programming Assignment 2\n",
        "Name : Bhavikkumar Modi\n",
        "E-mail : bmodi700@gmail.com\n",
        "```"
      ],
      "metadata": {
        "id": "CkdYl2Mg_cBC"
      }
    },
    {
      "cell_type": "markdown",
      "source": [
        "```\n",
        "Assignment/Python Advance Programming Assignment/\n",
        "```\n"
      ],
      "metadata": {
        "id": "YmzA89NZ_iWe"
      }
    },
    {
      "cell_type": "markdown",
      "source": [
        "Question 1: Write a function that takes a positive integer num and calculates how many dots exist in a pentagonal shape around the center dot on the Nth iteration.\n",
        "\n",
        "In the image below you can see the first iteration is only a single dot. On the second, there are 6 dots. On the third, there are 16 dots, and on the fourth there are 31 dots.\n",
        "\n",
        "\n",
        "\n",
        "\n",
        "\n",
        "\n",
        "\n",
        "\n",
        "Return the number of dots that exist in the whole pentagon on the Nth iteration.\n",
        "\n",
        "Examples\n",
        "\n",
        "pentagonal(1) ➞ 1\n",
        "\n",
        "pentagonal(2) ➞ 6\n",
        "\n",
        "pentagonal(3) ➞ 16\n",
        "\n",
        "pentagonal(8) ➞ 141\n"
      ],
      "metadata": {
        "id": "Xcb3gtduAST_"
      }
    },
    {
      "cell_type": "code",
      "source": [
        "def pentagonal(num):\n",
        "  \n",
        "  return (5*(num**2)-(5*num)+2)/2\n",
        "\n",
        "num=int(input(\"Enter Nth iteration : \"))\n",
        "print(f\" Penrtagonal dot for {num} itr is {pentagonal(num)}\")"
      ],
      "metadata": {
        "id": "YynSCU98TAjJ",
        "colab": {
          "base_uri": "https://localhost:8080/"
        },
        "outputId": "5587adab-0346-48ef-a0f6-3034acee2f5c"
      },
      "execution_count": null,
      "outputs": [
        {
          "output_type": "stream",
          "name": "stdout",
          "text": [
            "Enter Nth iteration : 6\n",
            " Penrtagonal dot for 6 itr is 76.0\n"
          ]
        }
      ]
    },
    {
      "cell_type": "markdown",
      "source": [
        "Question 2: .  Make a function that encrypts a given input with these steps:\n",
        "\n",
        "Input: \"apple\"\n",
        "\n",
        "Step 1: Reverse the input: \"elppa\"\n",
        "\n",
        "Step 2: Replace all vowels using the following chart:\n",
        "\n",
        "a => 0\n",
        "e => 1\n",
        "i => 2\n",
        "o => 2\n",
        "u => 3\n",
        "\n",
        "'# \"1lpp0\"\n",
        "\n",
        "Step 3: Add \"aca\" to the end of the word: \"1lpp0aca\"\n",
        "\n",
        "Output: \"1lpp0aca\"\n",
        "\n",
        "Examples\n",
        "\n",
        "encrypt(\"banana\") ➞ \"0n0n0baca\"\n",
        "\n",
        "encrypt(\"karaca\") ➞ \"0c0r0kaca\"\n",
        "\n",
        "encrypt(\"burak\") ➞ \"k0r3baca\"\n",
        "\n",
        "encrypt(\"alpaca\") ➞ \"0c0pl0aca\""
      ],
      "metadata": {
        "id": "VgTFNzKxS-pC"
      }
    },
    {
      "cell_type": "code",
      "source": [
        "def encrypt(inp_str):\n",
        "  inp_str=inp_str[::-1]\n",
        "  dct1={\"a\":\"0\",\"e\":\"1\",\"i\":\"2\",\n",
        "        \"o\":\"2\",\"u\":\"3\"}\n",
        "  out_str=[]\n",
        "  for i in inp_str:\n",
        "    if i in dct1:\n",
        "      out_str.append(dct1[i])\n",
        "    else:\n",
        "      out_str.append(i)\n",
        "  out_str.append(\"aca\")\n",
        "\n",
        "  return \"\".join(out_str)\n",
        "\n",
        "inp_str=input(\"Enter string : \")\n",
        "print(f\"Encription for {inp_str} is {encrypt(inp_str)}\")"
      ],
      "metadata": {
        "id": "GhCn30oKTBKX",
        "colab": {
          "base_uri": "https://localhost:8080/"
        },
        "outputId": "13832c67-bac6-4b7d-dffa-0ff9e9460d74"
      },
      "execution_count": null,
      "outputs": [
        {
          "output_type": "stream",
          "name": "stdout",
          "text": [
            "Enter string : apple\n",
            "Encription for apple is 1lpp0aca\n"
          ]
        }
      ]
    },
    {
      "cell_type": "markdown",
      "source": [
        "Question 3:. Given the month and year as numbers, return whether that month contains a Friday 13th.(i.e You can check Python's datetime module)\n",
        "\n",
        "Examples\n",
        "\n",
        "has_friday_13(3, 2020) ➞ True\n",
        "\n",
        "has_friday_13(10, 2017) ➞ True\n",
        "\n",
        "has_friday_13(1, 1985) ➞ False"
      ],
      "metadata": {
        "id": "JdD9WasPASgd"
      }
    },
    {
      "cell_type": "code",
      "source": [
        "def has_friday_13(month,year):\n",
        "  import datetime    \n",
        "  if datetime.datetime.strptime('13 '+' '+month+' '+year, '%d %m %Y').weekday()==4:\n",
        "    return True\n",
        "  else:\n",
        "    return False\n",
        "\n",
        "month, year = input('Enter the month & year: ').split(\" \")  \n",
        "has_friday_13(month, year)"
      ],
      "metadata": {
        "id": "EU0W3DMPTBsi",
        "colab": {
          "base_uri": "https://localhost:8080/"
        },
        "outputId": "590a9183-1c4b-4fa1-c36e-d45501f8195f"
      },
      "execution_count": null,
      "outputs": [
        {
          "name": "stdout",
          "output_type": "stream",
          "text": [
            "Enter the month & year: 3 2020\n"
          ]
        },
        {
          "output_type": "execute_result",
          "data": {
            "text/plain": [
              "True"
            ]
          },
          "metadata": {},
          "execution_count": 20
        }
      ]
    },
    {
      "cell_type": "markdown",
      "source": [
        "Question 4: . Write a regular expression that will help us count how many bad cookies are produced every day. You must use RegEx negative lookbehind.\n",
        "\n",
        "Example\n",
        "\n",
        "lst = [\"bad cookie\", \"good cookie\", \"bad cookie\", \"good cookie\", \"good cookie\"]\n",
        "pattern = \"yourregularexpressionhere\"\n",
        "\n",
        "len(re.findall(pattern, \", \".join(lst))) ➞ 2"
      ],
      "metadata": {
        "id": "omugVr-nASpP"
      }
    },
    {
      "cell_type": "code",
      "source": [
        "import re\n",
        "\n",
        "lst = [\"bad cookie\", \"good cookie\", \"bad cookie\", \"good cookie\", \"good cookie\"]\n",
        "pattern=\"bad cookie\"\n",
        "len(re.findall(pattern,\",\".join(lst)))"
      ],
      "metadata": {
        "id": "CJh5KdEsTCLT",
        "colab": {
          "base_uri": "https://localhost:8080/"
        },
        "outputId": "5b9f7d18-bb3f-4c21-f5da-8c9104e0ee11"
      },
      "execution_count": null,
      "outputs": [
        {
          "output_type": "execute_result",
          "data": {
            "text/plain": [
              "2"
            ]
          },
          "metadata": {},
          "execution_count": 36
        }
      ]
    },
    {
      "cell_type": "markdown",
      "source": [
        "Question 5 :. Given a list of words in the singular form, return a set of those words in the plural form if they appear more than once in the list.\n",
        "\n",
        "Examples\n",
        "\n",
        "pluralize([\"cow\", \"pig\", \"cow\", \"cow\"]) ➞ { \"cows\", \"pig\" }\n",
        "\n",
        "pluralize([\"table\", \"table\", \"table\"]) ➞ { \"tables\" }\n",
        "\n",
        "pluralize([\"chair\", \"pencil\", \"arm\"]) ➞ { \"chair\", \"pencil\", \"arm\" }"
      ],
      "metadata": {
        "id": "6jR2F12oASxO"
      }
    },
    {
      "cell_type": "code",
      "source": [
        ""
      ],
      "metadata": {
        "id": "GW7POwxfq9yN"
      },
      "execution_count": null,
      "outputs": []
    },
    {
      "cell_type": "code",
      "source": [
        "def pluralize(inp_list):\n",
        "  ans=set({})\n",
        "  set_a=set(inp_list)\n",
        "  for i in set_a:\n",
        "    if inp_list.count(i)>1:\n",
        "      ans.add((i+\"s\"))\n",
        "    else:\n",
        "      ans.add((i))\n",
        "  return ans\n",
        "\n",
        "pluralize([\"table\", \"table\", \"table\"])"
      ],
      "metadata": {
        "id": "gPqRm2rcTCtk",
        "colab": {
          "base_uri": "https://localhost:8080/"
        },
        "outputId": "c3ac8f60-a6b1-41b5-95e0-1f5db4bbc415"
      },
      "execution_count": null,
      "outputs": [
        {
          "output_type": "execute_result",
          "data": {
            "text/plain": [
              "{'tables'}"
            ]
          },
          "metadata": {},
          "execution_count": 27
        }
      ]
    },
    {
      "cell_type": "markdown",
      "source": [
        "``` \n",
        "Python Advance Programming Assignment 3\n",
        "Name : Bhavikkumar Modi\n",
        "E-mail : bmodi700@gmail.com\n",
        "```"
      ],
      "metadata": {
        "id": "bdT6HLIG_pl5"
      }
    },
    {
      "cell_type": "markdown",
      "source": [
        "```\n",
        "Assignment/Python Advance Programming Assignment/\n",
        "```\n"
      ],
      "metadata": {
        "id": "x8FSOr3p_pl5"
      }
    },
    {
      "cell_type": "markdown",
      "source": [
        "Question 1: Create a function to perform basic arithmetic operations that includes addition, subtraction, multiplication and division on a string number (e.g. \"12 + 24\" or \"23 - 21\" or \"12 // 12\" or \"12 * 21\").\n",
        "\n",
        "Here, we have 1 followed by a space, operator followed by another space and 2. For the challenge, we are going to have only two numbers between 1 valid operator. The return value should be a number.\n",
        "\n",
        "eval() is not allowed. In case of division, whenever the second number equals \"0\" return -1.\n",
        "\n",
        "For example:\n",
        "\n",
        "\"15 // 0\"  ➞ -1\n",
        "\n",
        "Examples\n",
        "\n",
        "arithmetic_operation(\"12 + 12\") ➞ 24 // 12 + 12 = 24\n",
        "\n",
        "arithmetic_operation(\"12 - 12\") ➞ 24 // 12 - 12 = 0\n",
        "\n",
        "arithmetic_operation(\"12 * 12\") ➞ 144 // 12 * 12 = 144\n",
        "\n",
        "arithmetic_operation(\"12 // 0\") ➞ -1 // 12 / 0 = -1"
      ],
      "metadata": {
        "id": "eCYm81bhAVq5"
      }
    },
    {
      "cell_type": "code",
      "source": [
        "St=\"12+12\"\n",
        "pattern=\"[[:punct:]]\"\n",
        "re.findall(pattern,St)"
      ],
      "metadata": {
        "id": "SDP1uJHvTku3",
        "colab": {
          "base_uri": "https://localhost:8080/"
        },
        "outputId": "7299df53-810f-4b54-a1c7-87ba729f7bf3"
      },
      "execution_count": null,
      "outputs": [
        {
          "output_type": "execute_result",
          "data": {
            "text/plain": [
              "[]"
            ]
          },
          "metadata": {},
          "execution_count": 37
        }
      ]
    },
    {
      "cell_type": "markdown",
      "source": [
        "Question 2: Write a function that takes the coordinates of three points in the form of a 2d array and returns the perimeter of the triangle. The given points are the vertices of a triangle on a two-dimensional plane.\n",
        "\n",
        "Examples\n",
        "\n",
        "perimeter( [ [15, 7], [5, 22], [11, 1] ] ) ➞ 47.08\n",
        "\n",
        "perimeter( [ [0, 0], [0, 1], [1, 0] ] ) ➞ 3.42\n",
        "\n",
        "perimeter( [ [-10, -10], [10, 10 ], [-10, 10] ] ) ➞ 68.28\n",
        "\n"
      ],
      "metadata": {
        "id": "OODMfWPpAVq5"
      }
    },
    {
      "cell_type": "code",
      "source": [
        "import math\n",
        "\n",
        "def distance2D(xA,yA,xB,yB):\n",
        "    return math.sqrt((xA-xB)*(xA-xB)+(yA-yB)*(yA-yB))\n",
        "\n",
        "def perimeter(xA,yA,xB,yB,xC,yC):\n",
        "    return distance2D(xA,yA,xB,yB)+distance2D(xA,yA,xC,yC)+distance2D(xC,yC,xB,yB)\n",
        "    \n",
        "perimeter(15,7,5,22,11,1)"
      ],
      "metadata": {
        "id": "lp2FQOfaTlOz",
        "colab": {
          "base_uri": "https://localhost:8080/"
        },
        "outputId": "251149c4-3c72-44a5-b3ba-3bb21160afe9"
      },
      "execution_count": null,
      "outputs": [
        {
          "output_type": "execute_result",
          "data": {
            "text/plain": [
              "47.07918859608948"
            ]
          },
          "metadata": {},
          "execution_count": 41
        }
      ]
    },
    {
      "cell_type": "markdown",
      "source": [
        "Question 3: A city skyline can be represented as a 2-D list with 1s representing buildings. In the example below, the height of the tallest building is 4 (second-most right column).\n",
        "\n",
        "[[0, 0, 0, 0, 0, 0],\n",
        "\n",
        "[0, 0, 0, 0, 1, 0],\n",
        "\n",
        "[0, 0, 1, 0, 1, 0],\n",
        "\n",
        "[0, 1, 1, 1, 1, 0],\n",
        "\n",
        "[1, 1, 1, 1, 1, 1]]\n",
        "\n",
        "Create a function that takes a skyline (2-D list of 0's and 1's) and returns the height of the tallest skyscraper.\n",
        "\n",
        "Examples\n",
        "\n",
        "tallest_skyscraper([\n",
        "  [0, 0, 0, 0],\n",
        "\n",
        "  [0, 1, 0, 0],\n",
        "\n",
        "  [0, 1, 1, 0],\n",
        "\n",
        "  [1, 1, 1, 1]\n",
        "\n",
        "]) ➞ 3\n",
        "\n",
        "tallest_skyscraper([\n",
        "  [0, 1, 0, 0],\n",
        "\n",
        "  [0, 1, 0, 0],\n",
        "\n",
        "  [0, 1, 1, 0],\n",
        "\n",
        "  [1, 1, 1, 1]\n",
        "\n",
        "]) ➞ 4\n",
        "\n",
        "tallest_skyscraper([\n",
        "  [0, 0, 0, 0],\n",
        "\n",
        "  [0, 0, 0, 0],\n",
        "\n",
        "  [1, 1, 1, 0],\n",
        "\n",
        "  [1, 1, 1, 1]\n",
        "\n",
        "\n",
        "]) ➞ 2"
      ],
      "metadata": {
        "id": "zMfYuHIoAVq6"
      }
    },
    {
      "cell_type": "code",
      "source": [
        "def tallest_skyscraper(lst):\n",
        "  ans=0\n",
        "  for sub_lst in lst:\n",
        "    a=4\n",
        "    for i in sub_lst:\n",
        "      if i==1:\n",
        "        return a\n",
        "    a=a-1\n",
        "tallest_skyscraper([[0, 1, 0, 0],[0, 1, 0, 0],[0, 1, 1, 0],[1, 1, 1, 1]])"
      ],
      "metadata": {
        "id": "ZLO_tJ-LTlzC",
        "colab": {
          "base_uri": "https://localhost:8080/"
        },
        "outputId": "074a1ad6-06a2-45be-90f2-cd754bb8d582"
      },
      "execution_count": null,
      "outputs": [
        {
          "output_type": "execute_result",
          "data": {
            "text/plain": [
              "4"
            ]
          },
          "metadata": {},
          "execution_count": 46
        }
      ]
    },
    {
      "cell_type": "markdown",
      "source": [
        "Question 4: A financial institution provides professional services to banks and claims charges from the customers based on the number of man-days provided. Internally, it has set a scheme to motivate and reward staff to meet and exceed targeted billable utilization and revenues by paying a bonus for each day claimed from customers in excess of a threshold target.\n",
        "\n",
        "This quarterly scheme is calculated with a threshold target of 32 days per quarter, and the incentive payment for each billable day in excess of such threshold target is shown as follows:\n",
        "\n",
        "Days\t                             Bonus\n",
        "\n",
        "0 to 32 days\t                   Zero\n",
        "\n",
        "33 to 40 days\t         SGD$325 per billable day\n",
        "\n",
        "41 to 48 days\t         SGD$550 per billable day\n",
        "\n",
        "Greater than 48 days      SGD$600 per billable day\n",
        "\n",
        "\n",
        "Please note that incentive payment is calculated progressively. As an example, if an employee reached total billable days of 45 in a quarter, his/her incentive payment is computed as follows:\n",
        "\n",
        "32*0 + 8*325 + 5*550 = 5350\n",
        "\n",
        "Write a function to read the billable days of an employee and return the bonus he/she has obtained in that quarter.\n",
        "\n",
        "Examples\n",
        "\n",
        "bonus(15) ➞ 0\n",
        "\n",
        "bonus(37) ➞ 1625\n",
        "\n",
        "bonus(50) ➞ 8200"
      ],
      "metadata": {
        "id": "34FngNkQAVq6"
      }
    },
    {
      "cell_type": "code",
      "source": [
        "def bonus(day):\n",
        "  if day<=32:\n",
        "    return 0\n",
        "  elif day>32 and day<=40:\n",
        "    return (day-32)*325\n",
        "  elif day>40 and day<=48:\n",
        "    return (8*325)+((day-40)*550)\n",
        "  elif day>48:\n",
        "    return (8*325)+(8*550)+((day-48)*600)\n",
        "\n",
        "bonus(50)\n",
        "\n"
      ],
      "metadata": {
        "id": "-ArSyqpATmRs",
        "colab": {
          "base_uri": "https://localhost:8080/"
        },
        "outputId": "87105fbf-ffea-48c3-9edb-981201086f02"
      },
      "execution_count": null,
      "outputs": [
        {
          "output_type": "execute_result",
          "data": {
            "text/plain": [
              "8200"
            ]
          },
          "metadata": {},
          "execution_count": 57
        }
      ]
    },
    {
      "cell_type": "markdown",
      "source": [
        "Question 5 : A number is said to be Disarium if the sum of its digits raised to their respective positions is the number itself.\n",
        "\n",
        "Create a function that determines whether a number is a Disarium or not.\n",
        "\n",
        "Examples\n",
        "\n",
        "is_disarium(75) ➞ False\n",
        "\n",
        "'# 7^1 + 5^2 = 7 + 25 = 32\n",
        "\n",
        "is_disarium(135) ➞ True\n",
        "\n",
        "'# 1^1 + 3^2 + 5^3 = 1 + 9 + 125 = 135\n",
        "\n",
        "is_disarium(544) ➞ False\n",
        "\n",
        "is_disarium(518) ➞ True\n",
        "\n",
        "is_disarium(466) ➞ False\n",
        "\n",
        "is_disarium(8) ➞ True\n"
      ],
      "metadata": {
        "id": "DHLaGrFMAVq6"
      }
    },
    {
      "cell_type": "code",
      "source": [
        "def is_disarium(num):\n",
        "  sum=0\n",
        "  for j,i in enumerate(str(num)):\n",
        "    #print(\"i\",i)\n",
        "    sum=sum+(int(i)**(1+j))\n",
        "    #print(sum)\n",
        "  if sum==num:\n",
        "    return True\n",
        "  else:\n",
        "    return False \n",
        "\n",
        "is_disarium(135)"
      ],
      "metadata": {
        "id": "gm18NWZMTmxe",
        "colab": {
          "base_uri": "https://localhost:8080/"
        },
        "outputId": "1591b37c-9e69-403e-b873-0ad238125fe4"
      },
      "execution_count": null,
      "outputs": [
        {
          "output_type": "execute_result",
          "data": {
            "text/plain": [
              "True"
            ]
          },
          "metadata": {},
          "execution_count": 72
        }
      ]
    },
    {
      "cell_type": "markdown",
      "source": [
        "``` \n",
        "Python Advance Programming Assignment 4\n",
        "Name : Bhavikkumar Modi\n",
        "E-mail : bmodi700@gmail.com\n",
        "```"
      ],
      "metadata": {
        "id": "DWhS36J-_qP_"
      }
    },
    {
      "cell_type": "markdown",
      "source": [
        "```\n",
        "Assignment/Python Advance Programming Assignment/\n",
        "```\n"
      ],
      "metadata": {
        "id": "P2fM1eJy_qP_"
      }
    },
    {
      "cell_type": "markdown",
      "source": [
        "Question 1:  In mathematics, the Fibonacci numbers, commonly denoted Fn, form a sequence, called the Fibonacci sequence, such that each number is the sum of the two preceding ones, starting from 0 and 1:\n",
        "\n",
        "\n",
        "\n",
        "\n",
        "\n",
        "\n",
        "\n",
        "\n",
        "\n",
        "\n",
        "The beginning of the sequence is this:\n",
        "\n",
        "0, 1, 1, 2, 3, 5, 8, 13, 21, 34, 55, 89, 144, ...\n",
        "\n",
        "The function fastFib(num) returns the fibonacci number Fn, of the given num as an argument.\n",
        "\n",
        "Examples\n",
        "\n",
        "fib_fast(5) ➞ 5\n",
        "\n",
        "fib_fast(10) ➞ 55\n",
        "\n",
        "fib_fast(20) ➞ 6765\n",
        "\n",
        "fib_fast(50) ➞ 12586269025"
      ],
      "metadata": {
        "id": "lDC6-b2GAWiT"
      }
    },
    {
      "cell_type": "code",
      "source": [
        " \n",
        "def fib_fas(n):\n",
        "    if n<= 0:\n",
        "        print(\"Incorrect input\")\n",
        "   \n",
        "    elif n == 1:\n",
        "        return 0\n",
        "    elif n == 2:\n",
        "        return 1\n",
        "    else:\n",
        "        return fib_fas(n-1)+fib_fas(n-2)\n",
        " \n",
        " \n",
        "print(fib_fas(10))"
      ],
      "metadata": {
        "id": "soKZAl6UT_-8",
        "colab": {
          "base_uri": "https://localhost:8080/"
        },
        "outputId": "5a95186b-0865-47a9-c0e1-86d70fef7478"
      },
      "execution_count": null,
      "outputs": [
        {
          "output_type": "stream",
          "name": "stdout",
          "text": [
            "34\n"
          ]
        }
      ]
    },
    {
      "cell_type": "markdown",
      "source": [
        "Question 2: Create a function that takes a strings characters as ASCII and returns each characters hexadecimal value as a string.\n",
        "\n",
        "Examples\n",
        "\n",
        "convert_to_hex(\"hello world\") ➞ \"68 65 6c 6c 6f 20 77 6f 72 6c 64\"\n",
        "\n",
        "convert_to_hex(\"Big Boi\") ➞ \"42 69 67 20 42 6f 69\"\n",
        "\n",
        "convert_to_hex(\"Marty Poppinson\") ➞ \"4d 61 72 74 79 20 50 6f 70 70 69 6e 73 6f 6e\""
      ],
      "metadata": {
        "id": "biCc48rYAWiU"
      }
    },
    {
      "cell_type": "code",
      "source": [
        "def convert_to_hex(inp_str):\n",
        "  ans_str=[]\n",
        "  return ans_str\n",
        "\n",
        "inp_str=input(\"Enter String : \")\n",
        "convert_to_hex(inp_str)"
      ],
      "metadata": {
        "id": "0fqTk5BVUAdD",
        "colab": {
          "base_uri": "https://localhost:8080/"
        },
        "outputId": "215ee96f-2d6e-45a6-ec27-1f8b5942559c"
      },
      "execution_count": null,
      "outputs": [
        {
          "name": "stdout",
          "output_type": "stream",
          "text": [
            "Enter String : hello world\n"
          ]
        },
        {
          "output_type": "execute_result",
          "data": {
            "text/plain": [
              "[]"
            ]
          },
          "metadata": {},
          "execution_count": 7
        }
      ]
    },
    {
      "cell_type": "code",
      "source": [
        "\n",
        "def convert_to_hex(ascii):\n",
        " \n",
        "  \n",
        "    hexa = \"\"\n",
        " \n",
        "    \n",
        "    for i in range(len(ascii)):\n",
        " \n",
        "        \n",
        "        ch = ascii[i]\n",
        " \n",
        "       \n",
        "        in1 = ord(ch)\n",
        "   \n",
        "        \n",
        "        part = hex(in1).lstrip(\"0x\").rstrip(\"L\")\n",
        " \n",
        "        \n",
        "        hexa += part\n",
        " \n",
        "    \n",
        "    return hexa\n",
        "   \n",
        "print(convert_to_hex(\"hello world\"))\n",
        " "
      ],
      "metadata": {
        "colab": {
          "base_uri": "https://localhost:8080/"
        },
        "id": "17IeaAUh4ZcT",
        "outputId": "9637201b-fab4-4454-9379-fcca48a939ec"
      },
      "execution_count": null,
      "outputs": [
        {
          "output_type": "stream",
          "name": "stdout",
          "text": [
            "68656c6c6f20776f726c64\n"
          ]
        }
      ]
    },
    {
      "cell_type": "markdown",
      "source": [
        "Question 3 : Someone has attempted to censor my strings by replacing every vowel with a *, l*k* th*s. Luckily, I've been able to find the vowels that were removed.\n",
        "\n",
        "Given a censored string and a string of the censored vowels, return the original uncensored string.\n",
        "\n",
        "Example\n",
        "\n",
        "uncensor(\"Wh*r* d*d my v*w*ls g*?\", \"eeioeo\") ➞ \"Where did my vowels go?\"\n",
        "\n",
        "uncensor(\"abcd\", \"\") ➞ \"abcd\"\n",
        "\n",
        "uncensor(\"*PP*RC*S*\", \"UEAE\") ➞ \"UPPERCASE\""
      ],
      "metadata": {
        "id": "jC5Of_wQAWiU"
      }
    },
    {
      "cell_type": "code",
      "source": [
        "def uncensor(strng,keys):\n",
        "  ans_str=\"\"\n",
        "  keys=list(keys)\n",
        "  for i in strng:\n",
        "    if i!=\"*\":\n",
        "      ans_str=ans_str+i\n",
        "    else:\n",
        "      ans_str=ans_str+keys[0]\n",
        "      keys=keys[1:]\n",
        "  \n",
        "  return ans_str\n",
        "\n",
        "uncensor(\"Wh*r* d*d my v*w*ls g*?\", \"eeioeo\")"
      ],
      "metadata": {
        "id": "3smbwFRSUA5_",
        "colab": {
          "base_uri": "https://localhost:8080/",
          "height": 35
        },
        "outputId": "2fb91d4d-251c-4992-cb35-558b2f081848"
      },
      "execution_count": null,
      "outputs": [
        {
          "output_type": "execute_result",
          "data": {
            "application/vnd.google.colaboratory.intrinsic+json": {
              "type": "string"
            },
            "text/plain": [
              "'Where did my vowels go?'"
            ]
          },
          "metadata": {},
          "execution_count": 15
        }
      ]
    },
    {
      "cell_type": "markdown",
      "source": [
        "Question 4: Write a function that takes an IP address and returns the domain name using PTR DNS records.\n",
        "\n",
        "Example\n",
        "\n",
        "get_domain(\"8.8.8.8\") ➞ \"dns.google\"\n",
        "\n",
        "get_domain(\"8.8.4.4\") ➞ \"dns.google\""
      ],
      "metadata": {
        "id": "cb7uh7BmAWiU"
      }
    },
    {
      "cell_type": "code",
      "source": [
        "def get_domain(ip_address):\n",
        "  import socket\n",
        "  result=socket.gethostbyaddr(ip_address)\n",
        "  return list(result)[0]\n",
        "\n",
        "ans=get_domain(\"8.8.8.8\")\n",
        "\n",
        "print(f\"DNS is : {ans}\")"
      ],
      "metadata": {
        "id": "ch0uewtOUBXq",
        "colab": {
          "base_uri": "https://localhost:8080/"
        },
        "outputId": "8b60f983-5705-4b05-8018-24acee107e43"
      },
      "execution_count": null,
      "outputs": [
        {
          "output_type": "stream",
          "name": "stdout",
          "text": [
            "DNS is : dns.google\n"
          ]
        }
      ]
    },
    {
      "cell_type": "markdown",
      "source": [
        "Question 5: Create a function that takes an integer n and returns the factorial of factorials. See below examples for a better understanding:\n",
        "\n",
        "Examples\n",
        "\n",
        "fact_of_fact(4) ➞ 288\n",
        "'# 4! * 3! * 2! * 1! = 288\n",
        "\n",
        "fact_of_fact(5) ➞ 34560\n",
        "\n",
        "fact_of_fact(6) ➞ 24883200"
      ],
      "metadata": {
        "id": "4KrwYrovAWiU"
      }
    },
    {
      "cell_type": "code",
      "source": [
        "def fact_of_fact(num):\n",
        "  \n",
        "  flag2=[]\n",
        "  for i in range(num,0,-1):\n",
        "    flag1=1\n",
        "    for j in range(i,0,-1):\n",
        "      flag1=flag1*j\n",
        "    flag2.append(flag1)\n",
        "  ans=1\n",
        "  for k in flag2:\n",
        "    ans=ans*k\n",
        "\n",
        "  return ans\n",
        "print(f\"Factorial of factorial is : {fact_of_fact(5)}\")\n",
        "   \n",
        "# Driver code to check above generator function\n"
      ],
      "metadata": {
        "id": "fA6AjOHfUB5e",
        "colab": {
          "base_uri": "https://localhost:8080/"
        },
        "outputId": "470940fb-7103-4eeb-bbfa-fa75b022d8ca"
      },
      "execution_count": null,
      "outputs": [
        {
          "output_type": "stream",
          "name": "stdout",
          "text": [
            "Factorial of factorial is : 34560\n"
          ]
        }
      ]
    },
    {
      "cell_type": "markdown",
      "source": [
        "``` \n",
        "Python Advance Programming Assignment 5\n",
        "Name : Bhavikkumar Modi\n",
        "E-mail : bmodi700@gmail.com\n",
        "```"
      ],
      "metadata": {
        "id": "W8mKVq1T_qXI"
      }
    },
    {
      "cell_type": "markdown",
      "source": [
        "```\n",
        "Assignment/Python Advance Programming Assignment/\n",
        "```\n"
      ],
      "metadata": {
        "id": "AmOcClf__qXI"
      }
    },
    {
      "cell_type": "markdown",
      "source": [
        "Question 1. Create a function that takes a number n (integer greater than zero) as an argument, and returns 2 if n is odd and 8 if n is even.\n",
        "\n",
        "You can only use the following arithmetic operators: addition of numbers +, subtraction of numbers -, multiplication of number *, division of number /, and exponentiation **.\n",
        "\n",
        "You are not allowed to use any other methods in this challenge (i.e. no if statements, comparison operators, etc).\n",
        "\n",
        "Examples\n",
        "\n",
        "f(1) ➞ 2\n",
        "\n",
        "f(2) ➞ 8\n",
        "\n",
        "f(3) ➞ 2\n"
      ],
      "metadata": {
        "id": "SaMK0-omAXM2"
      }
    },
    {
      "cell_type": "code",
      "source": [
        "def f(num):\n",
        "  if num<=0:\n",
        "    return \"Invalid NUmber\"\n",
        "  elif num%2==0:\n",
        "    return 2\n",
        "  else:\n",
        "    return 8\n",
        "f(8)"
      ],
      "metadata": {
        "colab": {
          "base_uri": "https://localhost:8080/"
        },
        "id": "ufaiPWm_680P",
        "outputId": "5a1991f8-43ab-4ece-a789-9769f487c531"
      },
      "execution_count": null,
      "outputs": [
        {
          "output_type": "execute_result",
          "data": {
            "text/plain": [
              "2"
            ]
          },
          "metadata": {},
          "execution_count": 24
        }
      ]
    },
    {
      "cell_type": "markdown",
      "source": [
        "Question 2. Create a function that returns the majority vote in a list. A majority vote is an element that occurs > N/2 times in a list (where N is the length of the list).\n",
        "\n",
        "Examples\n",
        "\n",
        "majority_vote([\"A\", \"A\", \"B\"]) ➞ \"A\"\n",
        "\n",
        "majority_vote([\"A\", \"A\", \"A\", \"B\", \"C\", \"A\"]) ➞ \"A\"\n",
        "\n",
        "majority_vote([\"A\", \"B\", \"B\", \"A\", \"C\", \"C\"]) ➞ None"
      ],
      "metadata": {
        "id": "8Oojg3JMAXM3"
      }
    },
    {
      "cell_type": "code",
      "source": [
        "def majority_vote(lst):\n",
        "  s1=set(lst)\n",
        "  coun=0\n",
        "  ans=\"\"\n",
        "  for i in lst:\n",
        "    cnt=lst.count(i)\n",
        "    if cnt>coun:\n",
        "      coun=cnt\n",
        "      ans=i\n",
        "  return ans\n",
        "\n",
        "majority_vote([\"L\", \"B\", \"D\", \"B\", \"C\", \"A\"])\n",
        "\n",
        "\n"
      ],
      "metadata": {
        "colab": {
          "base_uri": "https://localhost:8080/",
          "height": 35
        },
        "id": "HQTKWO4w7YFH",
        "outputId": "14fd5611-359a-4742-a4aa-b5358b474731"
      },
      "execution_count": null,
      "outputs": [
        {
          "output_type": "execute_result",
          "data": {
            "application/vnd.google.colaboratory.intrinsic+json": {
              "type": "string"
            },
            "text/plain": [
              "'B'"
            ]
          },
          "metadata": {},
          "execution_count": 28
        }
      ]
    },
    {
      "cell_type": "markdown",
      "source": [
        "Question 3. Create a function that takes a string txt and censors any word from a given list lst. The text removed must be replaced by the given character char.\n",
        "\n",
        "Examples\n",
        "\n",
        "censor_string(\"Today is a Wednesday!\", [\"Today\", \"a\"], \"-\") ➞ \"----- is - Wednesday!\"\n",
        "\n",
        "censor_string(\"The cow jumped over the moon.\", [\"cow\", \"over\"], \"*\"), \"The *** jumped **** the moon.\")\n",
        "\n",
        "censor_string(\"Why did the chicken cross the road?\", [\"Did\", \"chicken\", \"road\"], \"*\") ➞ \"Why *** the ******* cross the ****?\""
      ],
      "metadata": {
        "id": "JBOYazPIAXM3"
      }
    },
    {
      "cell_type": "code",
      "source": [
        "def censor_string(string,key,replacer):\n",
        "  list1=list(string.split(\" \"))\n",
        "  #print(list1)\n",
        "  #print(key)\n",
        "  for i,j in enumerate(list1):\n",
        "    if j in key:\n",
        "      list1[i]=replacer\n",
        "      #print(list1)\n",
        "  return \" \".join(list1)\n",
        "\n",
        "\n",
        "censor_string(\"Today is a Wednesday!\", [\"Today\", \"a\"], \"-\") "
      ],
      "metadata": {
        "colab": {
          "base_uri": "https://localhost:8080/",
          "height": 105
        },
        "id": "FiiccmFy8JpI",
        "outputId": "e38afdcf-8c75-42a6-ee77-cb007784cd90"
      },
      "execution_count": null,
      "outputs": [
        {
          "output_type": "stream",
          "name": "stdout",
          "text": [
            "['Today', 'is', 'a', 'Wednesday!']\n",
            "['Today', 'a']\n",
            "['-', 'is', 'a', 'Wednesday!']\n",
            "['-', 'is', '-', 'Wednesday!']\n"
          ]
        },
        {
          "output_type": "execute_result",
          "data": {
            "application/vnd.google.colaboratory.intrinsic+json": {
              "type": "string"
            },
            "text/plain": [
              "'- is - Wednesday!'"
            ]
          },
          "metadata": {},
          "execution_count": 30
        }
      ]
    },
    {
      "cell_type": "markdown",
      "source": [
        "Question 4. In mathematics a Polydivisible Number (or magic number) is a number in a given number base with digits abcde... that has the following properties:\n",
        "\n",
        "-  Its first digit a is not 0.\n",
        "- The number formed by its first two digits ab is a multiple of 2.\n",
        "- The number formed by its first three digits abc is a multiple of 3.\n",
        "- The number formed by its first four digits abcd is a multiple of 4.\n",
        "\n",
        "Create a function which takes an integer n and returns True if the given number is a Polydivisible Number and False otherwise.\n",
        "\n",
        "Examples\n",
        "\n",
        "is_polydivisible(1232) ➞ True\n",
        "'# 1     / 1 = 1\n",
        "'# 12    / 2 = 6\n",
        "'# 123   / 3 = 41\n",
        "'# 1232  / 4 = 308\n",
        "\n",
        "is_polydivisible(123220 ) ➞ False\n",
        "'# 1   / 1 = 1\n",
        "'# 12   / 2 = 6\n",
        "'# 123   / 3 = 41\n",
        "'# 1232   / 4 = 308\n",
        "'# 12322   / 5 = 2464.4         # Not a Whole Number\n",
        "'# 123220   /6 = 220536.333...  # Not a Whole Number"
      ],
      "metadata": {
        "id": "xviyoSECAXM3"
      }
    },
    {
      "cell_type": "code",
      "source": [
        "def is_polydivisible(num):\n",
        "  list1=list(str(num))\n",
        "  x=1\n",
        "  if int(str(num)[0])==0:\n",
        "      return False\n",
        "  for i in range(1,len(str(num))):\n",
        "    if int(str(num)[0:i])%x==0:\n",
        "      x=x+1\n",
        "      pass\n",
        "    else:\n",
        "      return False\n",
        "    #print(i)\n",
        "  return True\n",
        "\n",
        "is_polydivisible(123220)"
      ],
      "metadata": {
        "colab": {
          "base_uri": "https://localhost:8080/"
        },
        "id": "6FBYIb_2G414",
        "outputId": "0f5b0dfb-a10c-4923-e6c3-c88a6d08e6f7"
      },
      "execution_count": null,
      "outputs": [
        {
          "output_type": "execute_result",
          "data": {
            "text/plain": [
              "False"
            ]
          },
          "metadata": {},
          "execution_count": 53
        }
      ]
    },
    {
      "cell_type": "markdown",
      "source": [
        "``` \n",
        "Python Advance Programming Assignment 6\n",
        "Name : Bhavikkumar Modi\n",
        "E-mail : bmodi700@gmail.com\n",
        "```"
      ],
      "metadata": {
        "id": "EPPgwS1W_qdF"
      }
    },
    {
      "cell_type": "markdown",
      "source": [
        "```\n",
        "Assignment/Python Advance Programming Assignment/\n",
        "```\n"
      ],
      "metadata": {
        "id": "WJKqgAQ9_qdG"
      }
    },
    {
      "cell_type": "markdown",
      "source": [
        "1. You are given two strings s and t. String t is generated by randomly shuffling string s and then adding one more letter at a random position. Return the letter that was added to t.\n",
        "\n",
        "Examples\n",
        "\n",
        "find_the_difference(\"abcd\", \"abcde\") ➞ \"e\"\n",
        "\n",
        "find_the_difference(\"\", \"y\") ➞ \"y\"\n",
        "\n",
        "find_the_difference(\"ae\", \"aea\") ➞ \"a\""
      ],
      "metadata": {
        "id": "4I51Wt2P5r-C"
      }
    },
    {
      "cell_type": "code",
      "source": [
        "def find_the_difference(str1,str2):\n",
        "  for i in str2:\n",
        "    if i not in str1:\n",
        "      return i\n",
        "    else:\n",
        "      pass\n",
        "\n",
        "find_the_difference(\"abcd\", \"abcde\")"
      ],
      "metadata": {
        "id": "I9hCb5r553GO",
        "colab": {
          "base_uri": "https://localhost:8080/",
          "height": 35
        },
        "outputId": "0ff25f94-3655-437e-979d-36de24277caf"
      },
      "execution_count": null,
      "outputs": [
        {
          "output_type": "execute_result",
          "data": {
            "application/vnd.google.colaboratory.intrinsic+json": {
              "type": "string"
            },
            "text/plain": [
              "'e'"
            ]
          },
          "metadata": {},
          "execution_count": 6
        }
      ]
    },
    {
      "cell_type": "markdown",
      "source": [
        "2. Given a function that accepts unlimited arguments, check and count how many data types are in those arguments. Finally return the total in a list.\n",
        "\n",
        "List order is:\n",
        "\n",
        "[int, str, bool, list, tuple, dictionary]\n",
        "\n",
        "Examples\n",
        "\n",
        "count_datatypes(1, 45, \"Hi\", False) ➞ [2, 1, 1, 0, 0, 0]\n",
        "\n",
        "count_datatypes([10, 20], (\"t\", \"Ok\"), 2, 3, 1) ➞ [3, 0, 0, 1, 1, 0]\n",
        "\n",
        "count_datatypes(\"Hello\", \"Bye\", True, True, False, {\"1\": \"One\", \"2\": \"Two\"}, [1, 3], {\"Brayan\": 18}, 25, 23) ➞ [2, 2, 3, 1, 0, 2]\n",
        "\n",
        "count_datatypes(4, 21, (\"ES\", \"EN\"), (\"a\", \"b\"), False, [1, 2, 3], [4, 5, 6]) ➞ [2, 0, 1, 2, 2, 0]"
      ],
      "metadata": {
        "id": "EGtMEiuK5sze"
      }
    },
    {
      "cell_type": "code",
      "source": [
        "from typing import DefaultDict\n",
        "def count_datatypes(*argv):\n",
        "  ans_list=[0,0,0,0,0,0]\n",
        "  #[int, str, bool, list, tuple, dictionary]\n",
        "  for val in argv:\n",
        "    #print(val)\n",
        "    if type(val)==int:\n",
        "      ans_list[0]=ans_list[0]+1\n",
        "    elif type(val)==str:\n",
        "      ans_list[1]=ans_list[1]+1\n",
        "    elif type(val)==bool:\n",
        "      ans_list[2]=ans_list[2]+1 \n",
        "    elif type(val)==list:\n",
        "      ans_list[3]=ans_list[3]+1\n",
        "    elif type(val)==tuple:\n",
        "      ans_list[4]=ans_list[4]+1\n",
        "    elif type(val)==DefaultDict:\n",
        "      ans_list[5]=ans_list[5]+1\n",
        "  \n",
        "  return ans_list\n",
        "\n",
        "\n",
        "count_datatypes(\"Hello\", \"Bye\", True, True, False, {\"1\": \"One\", \"2\": \"Two\"}, [1, 3], {\"Brayan\": 18}, 25, 23)"
      ],
      "metadata": {
        "colab": {
          "base_uri": "https://localhost:8080/"
        },
        "id": "3l6G8bLSWzfY",
        "outputId": "59140d24-6ccd-414b-d4ae-869014bb7b8c"
      },
      "execution_count": null,
      "outputs": [
        {
          "output_type": "stream",
          "name": "stdout",
          "text": [
            "Hello\n",
            "Bye\n",
            "True\n",
            "True\n",
            "False\n",
            "{'1': 'One', '2': 'Two'}\n",
            "[1, 3]\n",
            "{'Brayan': 18}\n",
            "25\n",
            "23\n"
          ]
        },
        {
          "output_type": "execute_result",
          "data": {
            "text/plain": [
              "[2, 2, 3, 1, 0, 0]"
            ]
          },
          "metadata": {},
          "execution_count": 14
        }
      ]
    },
    {
      "cell_type": "markdown",
      "source": [
        "3. A Fibonacci string is a precedence of the Fibonacci series. It works with any two characters of the English alphabet (as opposed to the numbers 0 and 1 in the Fibonacci series) as the initial items and concatenates them together as it progresses in a similar fashion as the Fibonacci series.\n",
        "\n",
        "Examples\n",
        "\n",
        "fib_str(3, [\"j\", \"h\"]) ➞ \"j, h, hj\"\n",
        "\n",
        "fib_str(5, [\"e\", \"a\"]) ➞ \"e, a, ae, aea, aeaae\"\n",
        "\n",
        "fib_str(6, [\"n\", \"k\"]) ➞ \"n, k, kn, knk, knkkn, knkknknk\""
      ],
      "metadata": {
        "id": "ZuU_cizb5y85"
      }
    },
    {
      "cell_type": "code",
      "source": [
        "def fib_str(num, inp_lis):\n",
        "  #ans_str=\",\".join(inp_lis)\n",
        "  temp_lst=inp_lis\n",
        "  print(temp_lst)\n",
        "  temp_str=\"\"\n",
        "  \n",
        "  for i in range(2,num):\n",
        "    temp_str=\"\".join(temp_lst[-1:-3:-1])\n",
        "    #print(temp_str)\n",
        "    temp_lst.append(temp_str)\n",
        "  return temp_lst\n",
        "\n",
        "fib_str(6, [\"n\", \"k\"]) "
      ],
      "metadata": {
        "colab": {
          "base_uri": "https://localhost:8080/"
        },
        "id": "wXs_uu-ZYMKm",
        "outputId": "8d3aa3cf-a594-4add-a6b3-d227509d9a30"
      },
      "execution_count": null,
      "outputs": [
        {
          "output_type": "stream",
          "name": "stdout",
          "text": [
            "['n', 'k']\n",
            "kn\n",
            "knk\n",
            "knkkn\n",
            "knkknknk\n"
          ]
        },
        {
          "output_type": "execute_result",
          "data": {
            "text/plain": [
              "['n', 'k', 'kn', 'knk', 'knkkn', 'knkknknk']"
            ]
          },
          "metadata": {},
          "execution_count": 64
        }
      ]
    },
    {
      "cell_type": "markdown",
      "source": [
        "4. Given an integer between 0 and 26, make a variable (self.answer). That variable would be assigned to a string in this format:\n",
        "\n",
        "\"nines:your answer, threes:your answer, ones:your answer\"\n",
        "\n",
        "You need to find out how many ones, threes, and nines it would at least take for the number of each to add up to the given integer when multiplied by one, three or nine (depends).\n",
        "\n",
        "Examples\n",
        "\n",
        "ones_threes_nines(10) ➞ \"nines:1, threes:0, ones:1\"\n",
        "\n",
        "ones_threes_nines(15) ➞ \"nines:1, threes:2, ones:0\"\n",
        "\n",
        "ones_threes_nines(22) ➞ \"nines:2, threes:1, ones:1\""
      ],
      "metadata": {
        "id": "OIkb5axE51r_"
      }
    },
    {
      "cell_type": "code",
      "source": [
        "def ones_threes_nines(num):\n",
        "    nines = num // 9\n",
        "    threes = (num%9) // 3\n",
        "    ones = num % 3\n",
        "    print(\"Nines:\", nines)\n",
        "    print(\"Threes:\", threes)\n",
        "    print(\"Ones:\", ones)\n",
        "    return nines,threes,ones\n",
        "ans=ones_threes_nines(22)\n",
        "print(f\"nines : {ans[0]} , threes : {ans[1]}, ones: {ans[2]}\")"
      ],
      "metadata": {
        "colab": {
          "base_uri": "https://localhost:8080/"
        },
        "id": "YBVCtQuzlDOY",
        "outputId": "8c9cef41-5d75-49e2-9969-55fe33a2b13c"
      },
      "execution_count": null,
      "outputs": [
        {
          "output_type": "stream",
          "name": "stdout",
          "text": [
            "Nines: 2\n",
            "Threes: 1\n",
            "Ones: 1\n",
            "nines : 2 , threes : 1, ones: 1\n"
          ]
        }
      ]
    },
    {
      "cell_type": "code",
      "source": [
        "22//9"
      ],
      "metadata": {
        "colab": {
          "base_uri": "https://localhost:8080/"
        },
        "id": "_zjKe41Aka2v",
        "outputId": "01f03f13-5f0c-4759-e092-2e1d2e7116c2"
      },
      "execution_count": null,
      "outputs": [
        {
          "output_type": "execute_result",
          "data": {
            "text/plain": [
              "2"
            ]
          },
          "metadata": {},
          "execution_count": 70
        }
      ]
    },
    {
      "cell_type": "markdown",
      "source": [
        "5. The Fibonacci sequence is a classic use case for recursive functions since the value of the sequence at a given index is dependent on the sum of the last two values. However, the recursion tree created by solving the Fibonacci sequence recursively can grow quite fast. Therefore it can be important to think about the implications of running a function recursively. Depending on the size of n needed and the capabilities of the system in question you might want to take a different approach.\n",
        "\n",
        "Write a non-recursive function that takes an integer n and returns the Fibonacci sequence's value at index n.\n",
        "\n",
        "Examples\n",
        "\n",
        "fib(6) ➞ 8\n",
        "'# 0 + 1 = 1, 1 + 1 = 2, 1 + 2 = 3, 2 + 3 = 5, 3 + 5 = 8\n",
        "\n",
        "fib(1) ➞ 1\n",
        "\n",
        "fib(2) ➞ 1\n"
      ],
      "metadata": {
        "id": "_-BARpfAAX_L"
      }
    },
    {
      "cell_type": "code",
      "source": [
        "def recur_fibo(n):\n",
        "   if n <= 1:\n",
        "       return n\n",
        "   else:\n",
        "       return(recur_fibo(n-1) + recur_fibo(n-2))\n",
        "\n",
        "nterms = 10\n",
        "\n",
        "# check if the number of terms is valid\n",
        "if nterms <= 0:\n",
        "   print(\"Plese enter a positive integer\")\n",
        "else:\n",
        "   print(\"Fibonacci sequence:\")\n",
        "   for i in range(nterms):\n",
        "       print(recur_fibo(i))"
      ],
      "metadata": {
        "id": "jbTEBd6enWJn",
        "colab": {
          "base_uri": "https://localhost:8080/"
        },
        "outputId": "d76cdc61-4cdb-4caa-a067-11f6ea13b347"
      },
      "execution_count": 1,
      "outputs": [
        {
          "output_type": "stream",
          "name": "stdout",
          "text": [
            "Fibonacci sequence:\n",
            "0\n",
            "1\n",
            "1\n",
            "2\n",
            "3\n",
            "5\n",
            "8\n",
            "13\n",
            "21\n",
            "34\n"
          ]
        }
      ]
    },
    {
      "cell_type": "markdown",
      "source": [
        "``` \n",
        "Python Advance Programming Assignment 7\n",
        "Name : Bhavikkumar Modi\n",
        "E-mail : bmodi700@gmail.com\n",
        "```"
      ],
      "metadata": {
        "id": "EXVYKxEw_qhj"
      }
    },
    {
      "cell_type": "markdown",
      "source": [
        "```\n",
        "Assignment/Python Advance Programming Assignment/\n",
        "```\n"
      ],
      "metadata": {
        "id": "8MdqzA-t_qhj"
      }
    },
    {
      "cell_type": "markdown",
      "source": [
        "1. Write a function that counts how many concentric layers a rug.\n",
        "\n",
        "Examples\n",
        "\n",
        "count_layers([\n",
        "  \"AAAA\",\n",
        "  \"ABBA\",\n",
        "  \"AAAA\"\n",
        "]) ➞ 2\n",
        "\n",
        "count_layers([\n",
        "  \"AAAAAAAAA\",\n",
        "  \"ABBBBBBBA\",\n",
        "  \"ABBAAABBA\",\n",
        "  \"ABBBBBBBA\",\n",
        "  \"AAAAAAAAA\"\n",
        "]) ➞ 3\n",
        "\n",
        "count_layers([\n",
        "  \"AAAAAAAAAAA\",\n",
        "  \"AABBBBBBBAA\",\n",
        "  \"AABCCCCCBAA\",\n",
        "  \"AABCAAACBAA\",\n",
        "  \"AABCADACBAA\",\n",
        "  \"AABCAAACBAA\",\n",
        "  \"AABCCCCCBAA\",\n",
        "  \"AABBBBBBBAA\",\n",
        "  \"AAAAAAAAAAA\"\n",
        "]) ➞ 5"
      ],
      "metadata": {
        "id": "Z7f6U5BqxcGG"
      }
    },
    {
      "cell_type": "code",
      "source": [
        "def count_layers(inp_lst):\n",
        "  \n",
        "  return len(set(inp_lst))\n",
        "count_layers([ \"AAAAAAAAAAA\", \"AABBBBBBBAA\", \"AABCCCCCBAA\", \"AABCAAACBAA\", \"AABCADACBAA\", \"AABCAAACBAA\", \"AABCCCCCBAA\", \"AABBBBBBBAA\", \"AAAAAAAAAAA\" ])"
      ],
      "metadata": {
        "colab": {
          "base_uri": "https://localhost:8080/"
        },
        "id": "dtQfBjFDxcv_",
        "outputId": "e0246c76-a635-41af-e019-934b0185d8b4"
      },
      "execution_count": 4,
      "outputs": [
        {
          "output_type": "execute_result",
          "data": {
            "text/plain": [
              "5"
            ]
          },
          "metadata": {},
          "execution_count": 4
        }
      ]
    },
    {
      "cell_type": "markdown",
      "source": [
        "\n",
        "\n",
        "2. There are many different styles of music and many albums exhibit multiple styles. Create a function that takes a list of musical styles from albums and returns how many styles are unique.\n",
        "\n",
        "Examples\n",
        "\n",
        "unique_styles([\n",
        "  \"Dub,Dancehall\",\n",
        "  \"Industrial,Heavy Metal\",\n",
        "  \"Techno,Dubstep\",\n",
        "  \"Synth-pop,Euro-Disco\",\n",
        "  \"Industrial,Techno,Minimal\"\n",
        "]) ➞ 9\n",
        "\n",
        "unique_styles([\n",
        "  \"Soul\",\n",
        "  \"House,Folk\",\n",
        "  \"Trance,Downtempo,Big Beat,House\",\n",
        "  \"Deep House\",\n",
        "  \"Soul\"\n",
        "]) ➞ 7\n"
      ],
      "metadata": {
        "id": "4SFOuNAOxecC"
      }
    },
    {
      "cell_type": "code",
      "source": [
        "def unique_styles(inp_lst):\n",
        "  X=\",\".join(inp_lst)\n",
        "  X=X.split(\",\")\n",
        "  return len(set(X))\n",
        "\n",
        "unique_styles([ \"Dub,Dancehall\", \"Industrial,Heavy Metal\", \"Techno,Dubstep\", \"Synth-pop,Euro-Disco\", \"Industrial,Techno,Minimal\" ])"
      ],
      "metadata": {
        "colab": {
          "base_uri": "https://localhost:8080/"
        },
        "id": "e-fwszsQyhHm",
        "outputId": "afffc39a-3461-4b81-f132-3b2a49c942c7"
      },
      "execution_count": 12,
      "outputs": [
        {
          "output_type": "execute_result",
          "data": {
            "text/plain": [
              "9"
            ]
          },
          "metadata": {},
          "execution_count": 12
        }
      ]
    },
    {
      "cell_type": "markdown",
      "source": [
        "\n",
        "\n",
        "3. Create a function that finds a target number in a list of prime numbers. Implement a binary search algorithm in your function. The target number will be from 2 through 97. If the target is prime then return \"yes\" else return \"no\".\n",
        "\n",
        "Examples\n",
        "\n",
        "primes = [2, 3, 5, 7, 11, 13, 17, 19, 23, 29, 31, 37, 41, 43, 47, 53, 59, 61, 67, 71, 73, 79, 83, 89, 97]\n",
        "\n",
        "\n",
        "is_prime(primes, 3) ➞ \"yes\"\n",
        "\n",
        "is_prime(primes, 4) ➞ \"no\"\n",
        "\n",
        "is_prime(primes, 67) ➞ \"yes\"\n",
        "\n",
        "is_prime(primes, 36) ➞ \"no\""
      ],
      "metadata": {
        "id": "h88LDRe0xgaq"
      }
    },
    {
      "cell_type": "code",
      "source": [
        "# Binary Search in python\n",
        "\n",
        "\n",
        "def binarySearch(array, x, low, high):\n",
        "\n",
        "    if high >= low:\n",
        "\n",
        "        mid = low + (high - low)//2\n",
        "\n",
        "        # If found at mid, then return it\n",
        "        if array[mid] == x:\n",
        "            return mid\n",
        "\n",
        "        # Search the left half\n",
        "        elif array[mid] > x:\n",
        "            return binarySearch(array, x, low, mid-1)\n",
        "\n",
        "        # Search the right half\n",
        "        else:\n",
        "            return binarySearch(array, x, mid + 1, high)\n",
        "\n",
        "    else:\n",
        "        return -1\n",
        "\n",
        "\n",
        "array = [2, 3, 5, 7, 11, 13, 17, 19, 23, 29, 31, 37, 41, 43, 47, 53, 59, 61, 67, 71, 73, 79, 83, 89, 97]\n",
        "x = 67\n",
        "\n",
        "result = binarySearch(array, x, 0, len(array)-1)\n",
        "\n",
        "if result != -1:\n",
        "    print(\"Element is present at index \" + str(result))\n",
        "else:\n",
        "    print(\"Not found\")"
      ],
      "metadata": {
        "colab": {
          "base_uri": "https://localhost:8080/"
        },
        "id": "MlpEua8MzN_G",
        "outputId": "2c2c50e6-b1cd-4b83-d18b-1dc137597a43"
      },
      "execution_count": 14,
      "outputs": [
        {
          "output_type": "stream",
          "name": "stdout",
          "text": [
            "Element is present at index 18\n"
          ]
        }
      ]
    },
    {
      "cell_type": "markdown",
      "source": [
        "\n",
        "\n",
        "4. Create a function that takes in n, a, b and returns the number of positive values raised in the range [a, b] to the nth power that lie, inclusive.\n",
        "\n",
        "Examples\n",
        "\n",
        "power_ranger(2, 49, 65) ➞ 2\n",
        "'# 2 squares (n^2) lie between 49 and 65, 49 (7^2) and 64 (8^2)\n",
        "\n",
        "power_ranger(3, 1, 27) ➞ 3\n",
        "'# 3 cubes (n^3) lie between 1 and 27, 1 (1^3), 8 (2^3) and 27 (3^3)\n",
        "\n",
        "power_ranger(10, 1, 5) ➞ 1\n",
        "'# 1 value raised to the 10th power lies between 1 and 5, 1 (1^10)\n",
        "\n",
        "power_ranger(5, 31, 33) ➞ 1\n",
        "\n",
        "power_ranger(4, 250, 1300) ➞ 3"
      ],
      "metadata": {
        "id": "cEyqwmZfxihz"
      }
    },
    {
      "cell_type": "markdown",
      "source": [
        "\n",
        "\n",
        "5. Given a number, return the difference between the maximum and minimum numbers that can be formed when the digits are rearranged.\n",
        "\n",
        "Examples\n",
        "\n",
        "rearranged_difference(972882) ➞ 760833\n",
        "\n",
        "'# 988722 - 227889 = 760833\n",
        "\n",
        "rearranged_difference(3320707) ➞ 7709823\n",
        "\n",
        "'# 7733200 - 23377 = 7709823\n",
        "\n",
        "\n",
        "rearranged_difference(90010) ➞ 90981\n",
        "\n",
        "'# 91000 - 19 = 90981\n",
        "\n",
        "\n"
      ],
      "metadata": {
        "id": "ZKamZZV_AZNV"
      }
    },
    {
      "cell_type": "code",
      "source": [
        "def rearranged_difference(n):\n",
        "    second_num = int(str(n)[::-1])\n",
        "    return n - second_num\n",
        "rearranged_difference(90010)"
      ],
      "metadata": {
        "colab": {
          "base_uri": "https://localhost:8080/"
        },
        "id": "ys5u9GaS55kz",
        "outputId": "081cee04-fa10-401f-f960-c67ff21b51e4"
      },
      "execution_count": 15,
      "outputs": [
        {
          "output_type": "execute_result",
          "data": {
            "text/plain": [
              "89001"
            ]
          },
          "metadata": {},
          "execution_count": 15
        }
      ]
    },
    {
      "cell_type": "markdown",
      "source": [
        "``` \n",
        "Python Advance Programming Assignment 8\n",
        "Name : Bhavikkumar Modi\n",
        "E-mail : bmodi700@gmail.com\n",
        "```"
      ],
      "metadata": {
        "id": "HfjCRn2H_q06"
      }
    },
    {
      "cell_type": "markdown",
      "source": [
        "```\n",
        "Assignment/Python Advance Programming Assignment/\n",
        "```\n"
      ],
      "metadata": {
        "id": "Q0E4B_Qw_q07"
      }
    },
    {
      "cell_type": "markdown",
      "source": [
        "1. Given a sentence as txt, return True if any two adjacent words have this property: One word ends with a vowel, while the word immediately after begins with a vowel (a e i o u).\n",
        "\n",
        "Examples\n",
        "\n",
        "vowel_links(\"a very large appliance\") ➞ True\n",
        "\n",
        "vowel_links(\"go to edabit\") ➞ True\n",
        "\n",
        "vowel_links(\"an open fire\") ➞ False\n",
        "\n",
        "vowel_links(\"a sudden applause\") ➞ False"
      ],
      "metadata": {
        "id": "hFZK4wav6bVe"
      }
    },
    {
      "cell_type": "code",
      "source": [
        "def vowel_links(inp_str):\n",
        "  strng=list(inp_str.lower())\n",
        "  print(strng)\n",
        "  vov=\"aeiou\"\n",
        "  for i,j in enumerate(strng):\n",
        "    #print(i,j)\n",
        "    if j==\" \":\n",
        "      if (strng[i-1] in vov) and (strng[i+1] in vov):\n",
        "        return True\n",
        "        break\n",
        "  return False\n",
        "\n",
        "\n",
        "\n",
        "vowel_links(\"a very large appliance\")"
      ],
      "metadata": {
        "colab": {
          "base_uri": "https://localhost:8080/"
        },
        "id": "n9GKeRP26_En",
        "outputId": "396637a7-6283-4827-d1a3-b07f63f9993e"
      },
      "execution_count": 23,
      "outputs": [
        {
          "output_type": "stream",
          "name": "stdout",
          "text": [
            "['a', ' ', 'v', 'e', 'r', 'y', ' ', 'l', 'a', 'r', 'g', 'e', ' ', 'a', 'p', 'p', 'l', 'i', 'a', 'n', 'c', 'e']\n"
          ]
        },
        {
          "output_type": "execute_result",
          "data": {
            "text/plain": [
              "True"
            ]
          },
          "metadata": {},
          "execution_count": 23
        }
      ]
    },
    {
      "cell_type": "markdown",
      "source": [
        "\n",
        "2. You are given three inputs: a string, one letter, and a second letter.\n",
        "\n",
        "Write a function that returns True if every instance of the first letter occurs before every instance of the second letter.\n",
        "\n",
        "Examples\n",
        "\n",
        "first_before_second(\"a rabbit jumps joyfully\", \"a\", \"j\") ➞ True\n",
        "\n",
        "'# Every instance of \"a\" occurs before every instance of \"j\".\n",
        "\n",
        "first_before_second(\"knaves knew about waterfalls\", \"k\", \"w\") ➞  True\n",
        "\n",
        "first_before_second(\"happy birthday\", \"a\", \"y\") ➞ False\n",
        "\n",
        "'# The \"a\" in \"birthday\" occurs after the \"y\" in \"happy\".\n",
        "\n",
        "first_before_second(\"precarious kangaroos\", \"k\", \"a\") ➞ False"
      ],
      "metadata": {
        "id": "epp2OPcG6dqi"
      }
    },
    {
      "cell_type": "code",
      "source": [
        "def first_before_second(inp_str,x,y):\n",
        "  strng=list(inp_str.lower())\n",
        "  print(strng)\n",
        "  x_index=[]\n",
        "  y_index=[]\n",
        "  for i,j in enumerate(strng):\n",
        "    if j==x:\n",
        "      x_index.append(i)\n",
        "    if j==y:\n",
        "      y_index.append(i)\n",
        "  print(x_index,y_index)\n",
        "  for i in range(0,len(x_index)):\n",
        "    if x_index[i]>y_index[i]:\n",
        "      return False\n",
        "      break\n",
        "    else:\n",
        "      continue\n",
        "  return True\n",
        "\n",
        "\n",
        "first_before_second(\"a rabbit jumps joyfully\", \"a\", \"j\")"
      ],
      "metadata": {
        "colab": {
          "base_uri": "https://localhost:8080/"
        },
        "id": "sUJ0f11E8ys8",
        "outputId": "4ae0bce4-583c-47e0-c733-679ad0bd45f3"
      },
      "execution_count": 34,
      "outputs": [
        {
          "output_type": "stream",
          "name": "stdout",
          "text": [
            "['a', ' ', 'r', 'a', 'b', 'b', 'i', 't', ' ', 'j', 'u', 'm', 'p', 's', ' ', 'j', 'o', 'y', 'f', 'u', 'l', 'l', 'y']\n",
            "[0, 3] [9, 15]\n"
          ]
        },
        {
          "output_type": "execute_result",
          "data": {
            "text/plain": [
              "True"
            ]
          },
          "metadata": {},
          "execution_count": 34
        }
      ]
    },
    {
      "cell_type": "markdown",
      "source": [
        "\n",
        "\n",
        "\n",
        "3. Create a function that returns the characters from a list or string r on odd or even positions, depending on the specifier s. The specifier will be \"odd\" for items on odd positions (1, 3, 5, ...) and \"even\" for items on even positions (2, 4, 6, ...).\n",
        "\n",
        "Examples\n",
        "\n",
        "char_at_pos([2, 4, 6, 8, 10], \"even\") ➞ [4, 8]\n",
        "\n",
        "'# 4 & 8 occupy the 2nd & 4th positions\n",
        "\n",
        "char_at_pos(\"EDABIT\", \"odd\") ➞ \"EAI\"\n",
        "\n",
        "'# \"E\", \"A\" and \"I\" occupy the 1st, 3rd and 5th positions\n",
        "\n",
        "char_at_pos([\"A\", \"R\", \"B\", \"I\", \"T\", \"R\", \"A\", \"R\", \"I\", \"L\", \"Y\"], \"odd\") ➞ [\"A\", \"B\", \"T\", \"A\", \"I\", \"Y\"]"
      ],
      "metadata": {
        "id": "u8ACk6yo6iT0"
      }
    },
    {
      "cell_type": "code",
      "source": [
        "def char_at_pos(inp, str):\n",
        "  ans=inp\n",
        "  if str==\"even\":\n",
        "    return ans[1::2]\n",
        "  if str==\"odd\":\n",
        "    return ans[0::2]\n",
        "  \n",
        "char_at_pos(\"EDABIT\", \"odd\")"
      ],
      "metadata": {
        "colab": {
          "base_uri": "https://localhost:8080/",
          "height": 35
        },
        "id": "evtKxpJV9bME",
        "outputId": "555578e6-7608-469b-86fd-6af9016a9068"
      },
      "execution_count": 40,
      "outputs": [
        {
          "output_type": "execute_result",
          "data": {
            "application/vnd.google.colaboratory.intrinsic+json": {
              "type": "string"
            },
            "text/plain": [
              "'EAI'"
            ]
          },
          "metadata": {},
          "execution_count": 40
        }
      ]
    },
    {
      "cell_type": "markdown",
      "source": [
        "\n",
        "\n",
        "5. A number/string is a palindrome if the digits/characters are the same when read both forward and backward. Examples include \"racecar\" and 12321. Given a positive number n, check if n or the binary representation of n is palindromic. Return the following:\n",
        "\n",
        "- \"Decimal only.\" if only n is a palindrome.\n",
        "- \"Binary only.\" if only the binary representation of n is a palindrome.\n",
        "- \"Decimal and binary.\" if both are palindromes.\n",
        "- \"Neither!\" if neither are palindromes.\n",
        "\n",
        "Examples\n",
        "\n",
        "palindrome_type(1306031) ➞ \"Decimal only.\"\n",
        "\n",
        "'# decimal = 1306031\n",
        "\n",
        "'# binary  = \"100111110110110101111\"\n",
        "\n",
        "palindrome_type(427787) ➞ \"Binary only.\"\n",
        "\n",
        "'# decimal = 427787\n",
        "\n",
        "'# binary  = \"1101000011100001011\"\n",
        "\n",
        "palindrome_type(313) ➞ \"Decimal and binary.\"\n",
        "\n",
        "'# decimal = 313\n",
        "\n",
        "'# binary  = 100111001\n",
        "\n",
        "palindrome_type(934) ➞ \"Neither!\"\n",
        "\n",
        "'# decimal = 934\n",
        "\n",
        "'# binary  = \"1110100110\"\n"
      ],
      "metadata": {
        "id": "72AWuxbPAZzn"
      }
    },
    {
      "cell_type": "code",
      "source": [
        "def palindrome_type(num):\n",
        "  bina=bin((num)).replace(\"0b\",\"\")\n",
        "  num=str(num)\n",
        "\n",
        "  if bina==bina[::-1] and num==num[::-1]:\n",
        "    return  \"Decimal and binary.\"\n",
        "  elif bina==bina[::-1] and num!=num[::-1]:\n",
        "    return  \"Binary only.\"\n",
        "  elif bina!=bina[::-1] and num==num[::-1]:\n",
        "    return   \"Decimal only.\"\n",
        "  else:\n",
        "    return \"Neither\"\n",
        "    \n",
        "palindrome_type(313) "
      ],
      "metadata": {
        "colab": {
          "base_uri": "https://localhost:8080/",
          "height": 35
        },
        "id": "suT9JcApBEPU",
        "outputId": "d738b25e-04b3-4468-f207-1d7bc74e3604"
      },
      "execution_count": 60,
      "outputs": [
        {
          "output_type": "execute_result",
          "data": {
            "application/vnd.google.colaboratory.intrinsic+json": {
              "type": "string"
            },
            "text/plain": [
              "'Decimal and binary.'"
            ]
          },
          "metadata": {},
          "execution_count": 60
        }
      ]
    },
    {
      "cell_type": "markdown",
      "source": [
        "``` \n",
        "Python Advance Programming Assignment 9\n",
        "Name : Bhavikkumar Modi\n",
        "E-mail : bmodi700@gmail.com\n",
        "```"
      ],
      "metadata": {
        "id": "7f1ZGXIf_q5L"
      }
    },
    {
      "cell_type": "markdown",
      "source": [
        "```\n",
        "Assignment/Python Advance Programming Assignment/\n",
        "```\n"
      ],
      "metadata": {
        "id": "wjJ_fwNu_q5L"
      }
    },
    {
      "cell_type": "markdown",
      "source": [
        "1. YouTube offers different playback speed options for users. This allows users to increase or decrease the speed of the video content. Given the actual duration and playback speed of the video, calculate the playback duration of the video.\n",
        "\n",
        "Examples\n",
        "\n",
        "playback_duration(\"00:30:00\", 2) ➞ \"00:15:00\"\n",
        "\n",
        "playback_duration(\"01:20:00\", 1.5) ➞ \"00:53:20\"\n",
        "\n",
        "playback_duration(\"51:20:09\", 0.5) ➞ \"102:40:18\""
      ],
      "metadata": {
        "id": "l9O8fc1vDGCP"
      }
    },
    {
      "cell_type": "code",
      "source": [
        "def playback_duration(inp,d):\n",
        "  import datetime\n",
        "  import time\n",
        "  t=\"00:15:00\"\n",
        "  h,m,s = inp.split(':')\n",
        "  seconds=int(datetime.timedelta(hours=int(h),minutes=int(m),seconds=int(s)).total_seconds())\n",
        "  avg=seconds/d\n",
        "  #print(avg)\n",
        "  return time.strftime('%H:%M:%S', time.gmtime(avg))\n",
        "\n",
        "playback_duration(\"01:20:00\", 1.5)"
      ],
      "metadata": {
        "colab": {
          "base_uri": "https://localhost:8080/",
          "height": 35
        },
        "id": "29thdi2-EUQX",
        "outputId": "d8122011-a8d0-4518-c4fc-55d459d32e25"
      },
      "execution_count": 89,
      "outputs": [
        {
          "output_type": "execute_result",
          "data": {
            "application/vnd.google.colaboratory.intrinsic+json": {
              "type": "string"
            },
            "text/plain": [
              "'00:53:20'"
            ]
          },
          "metadata": {},
          "execution_count": 89
        }
      ]
    },
    {
      "cell_type": "markdown",
      "source": [
        "\n",
        "\n",
        "2. We needs your help to construct a building which will be a pile of n cubes. The cube at the bottom will have a volume of n^3, the cube above will have volume of (n-1)^3 and so on until the top which will have a volume of 1^3.\n",
        "\n",
        "Given the total volume m of the building, can you find the number of cubes n required for the building?\n",
        "\n",
        "In other words, you have to return an integer n such that:\n",
        "\n",
        "n^3 + (n-1)^3 + ... + 1^3 == m\n",
        "\n",
        "Return None if there is no such number.\n",
        "\n",
        "Examples\n",
        "\n",
        "pile_of_cubes(1071225) ➞ 45\n",
        "\n",
        "pile_of_cubes(4183059834009) ➞ 2022\n",
        "\n",
        "pile_of_cubes(16) ➞ None"
      ],
      "metadata": {
        "id": "gg4u2NdADIl_"
      }
    },
    {
      "cell_type": "code",
      "source": [
        "def pile_of_cubes(m):\n",
        "    total = 0\n",
        "    n = 0\n",
        "    \n",
        "    while (total < m):\n",
        "        n = n + 1\n",
        "        total = total + n ** 3\n",
        "        \n",
        "    return n if total == m else -1\n",
        "\n",
        "pile_of_cubes(1071225)"
      ],
      "metadata": {
        "colab": {
          "base_uri": "https://localhost:8080/"
        },
        "id": "zKXoobSRGwpQ",
        "outputId": "5d9cb9b2-f8eb-4eec-c9b1-eed9e5306f84"
      },
      "execution_count": 90,
      "outputs": [
        {
          "output_type": "execute_result",
          "data": {
            "text/plain": [
              "45"
            ]
          },
          "metadata": {},
          "execution_count": 90
        }
      ]
    },
    {
      "cell_type": "markdown",
      "source": [
        "\n",
        "\n",
        "3. A fulcrum of a list is an integer such that all elements to the left of it and all elements to the right of it sum to the same value. Write a function that finds the fulcrum of a list.\n",
        "\n",
        "To illustrate:\n",
        "\n",
        "find_fulcrum([3, 1, 5, 2, 4, 6, -1]) ➞ 2\n",
        "\n",
        "// Since [3, 1, 5] and [4, 6, -1] both sum to 9\n",
        "\n",
        "Examples\n",
        "\n",
        "find_fulcrum([1, 2, 4, 9, 10, -10, -9, 3]) ➞ 4\n",
        "\n",
        "find_fulcrum([9, 1, 9]) ➞ 1\n",
        "\n",
        "find_fulcrum([7, -1, 0, -1, 1, 1, 2, 3]) ➞ 0\n",
        "\n",
        "find_fulcrum([8, 8, 8, 8]) ➞ -1"
      ],
      "metadata": {
        "id": "7A_NmZsvDKgk"
      }
    },
    {
      "cell_type": "code",
      "source": [
        "def findElement(arr, size) :\n",
        " \n",
        "    right_sum, left_sum = 0, 0\n",
        " \n",
        "    # Computing right_sum\n",
        "    for i in range(1, size) :\n",
        "        right_sum += arr[i]\n",
        " \n",
        "    i, j = 0, 1\n",
        " \n",
        "    # Checking the point of partition\n",
        "    # i.e. left_Sum == right_sum\n",
        "    while j < size :\n",
        "        right_sum -= arr[j]\n",
        "        left_sum += arr[i]\n",
        " \n",
        "        if left_sum == right_sum :\n",
        "            return arr[i + 1]\n",
        " \n",
        "        j += 1\n",
        "        i += 1\n",
        " \n",
        "    return -1\n",
        " \n",
        "# Driver Code\n",
        "if __name__ == \"__main__\" :\n",
        "     \n",
        "    arr = [1, 2, 4, 9, 10, -10, -9, 3]\n",
        "    n = len(arr)\n",
        "    print(findElement(arr, n))"
      ],
      "metadata": {
        "colab": {
          "base_uri": "https://localhost:8080/"
        },
        "id": "7hMXUy3YKs22",
        "outputId": "9a0c3bdf-293c-49fd-a314-037f5406b595"
      },
      "execution_count": 91,
      "outputs": [
        {
          "output_type": "stream",
          "name": "stdout",
          "text": [
            "4\n"
          ]
        }
      ]
    },
    {
      "cell_type": "markdown",
      "source": [
        "\n",
        "\n",
        "4. Given a list of integers representing the color of each sock, determine how many pairs of socks with matching colors there are. For example, there are 7 socks with colors [1, 2, 1, 2, 1, 3, 2]. There is one pair of color 1 and one of color 2. There are three odd socks left, one of each color. The number of pairs is 2.\n",
        "\n",
        "Create a function that returns an integer representing the number of matching pairs of socks that are available.\n",
        "\n",
        "Examples\n",
        "\n",
        "sock_merchant([10, 20, 20, 10, 10, 30, 50, 10, 20]) ➞ 3\n",
        "\n",
        "sock_merchant([50, 20, 30, 90, 30, 20, 50, 20, 90]) ➞ 4\n",
        "\n",
        "sock_merchant([]) ➞ 0\n"
      ],
      "metadata": {
        "id": "Gzg7esxZDMgd"
      }
    },
    {
      "cell_type": "code",
      "source": [
        "def sock_merchant(inp_lst):\n",
        "  ind=set(inp_lst)\n",
        "  abc=dict()\n",
        "  ans=0\n",
        "  for i in ind:\n",
        "    abc[i]=0\n",
        "  for i,j in enumerate(inp_lst):\n",
        "     abc[j]=abc[j]+1\n",
        "  for key in abc:\n",
        "    ans=ans+abc[key]//2\n",
        "    #print(key)\n",
        "  return ans\n",
        "  #print(abc)\n",
        "\n",
        "sock_merchant([50, 20, 30, 90, 30, 20, 50, 20, 90])"
      ],
      "metadata": {
        "colab": {
          "base_uri": "https://localhost:8080/"
        },
        "id": "tOkvFAusK8B8",
        "outputId": "af95b633-a0b9-4d7e-bffd-fdfc10956096"
      },
      "execution_count": 126,
      "outputs": [
        {
          "output_type": "execute_result",
          "data": {
            "text/plain": [
              "4"
            ]
          },
          "metadata": {},
          "execution_count": 126
        }
      ]
    },
    {
      "cell_type": "markdown",
      "source": [
        "``` \n",
        "Python Advance Programming Assignment 10\n",
        "Name : Bhavikkumar Modi\n",
        "E-mail : bmodi700@gmail.com\n",
        "```"
      ],
      "metadata": {
        "id": "GEmXoYeC_q8l"
      }
    },
    {
      "cell_type": "markdown",
      "source": [
        "```\n",
        "Assignment/Python Advance Programming Assignment/\n",
        "```\n"
      ],
      "metadata": {
        "id": "uJTtbqiN_q8l"
      }
    },
    {
      "cell_type": "markdown",
      "source": [
        "1. Create a function that takes the width, height and character and returns a picture frame as a 2D list.\n",
        "\n",
        "Examples\n",
        "\n",
        "get_frame(4, 5, \"#\") ➞ [\n",
        "  [\"####\"],\n",
        "  [\"#  #\"],\n",
        "  [\"#  #\"],\n",
        "  [\"#  #\"],\n",
        "  [\"####\"]\n",
        "]\n",
        "\n",
        "'# Frame is 4 characters wide and 5 characters tall.\n",
        "\n",
        "\n",
        "get_frame(10, 3, \"*\") ➞ [\n",
        "  [\"**********\"],\n",
        "  [\"*        *\"],\n",
        "  [\"**********\"]\n",
        "]\n",
        "\n",
        "'# Frame is 10 characters and wide and 3 characters tall.\n",
        "\n",
        "\n",
        "get_frame(2, 5, \"0\") ➞ \"invalid\"\n",
        "\n",
        "'# Frame's width is not more than 2."
      ],
      "metadata": {
        "id": "4a48wJsVVZY0"
      }
    },
    {
      "cell_type": "code",
      "source": [
        "def get_frame(c, r, sim):\n",
        "  if c>2:\n",
        "    lst1=[]\n",
        "    lst2=[]\n",
        "    for i in range(r):\n",
        "      if i == 0 or i==r-1:\n",
        "        for k in range(c):\n",
        "          lst2.append(sim)\n",
        "          #print(lst2)\n",
        "        lst1.append(lst2)\n",
        "        lst2=[]\n",
        "      else:\n",
        "        for k in range(c):\n",
        "          if k ==0 or k==c-1:\n",
        "            lst2.append(sim)\n",
        "          else:\n",
        "            lst2.append(\" \")\n",
        "        lst1.append(lst2)\n",
        "        lst2=[]\n",
        "    return lst1\n",
        "  else:\n",
        "    return \"Invalid\"\n",
        "\n",
        "        \n",
        "\n",
        "\n",
        "get_frame(4, 5, \"#\")"
      ],
      "metadata": {
        "colab": {
          "base_uri": "https://localhost:8080/"
        },
        "id": "IpaM4b7gVz2k",
        "outputId": "d18e04ae-14d5-431c-ee95-61126c3a8d23"
      },
      "execution_count": 135,
      "outputs": [
        {
          "output_type": "execute_result",
          "data": {
            "text/plain": [
              "[['#', '#', '#', '#'],\n",
              " ['#', ' ', ' ', '#'],\n",
              " ['#', ' ', ' ', '#'],\n",
              " ['#', ' ', ' ', '#'],\n",
              " ['#', '#', '#', '#']]"
            ]
          },
          "metadata": {},
          "execution_count": 135
        }
      ]
    },
    {
      "cell_type": "markdown",
      "source": [
        "\n",
        "\n",
        "2. Write three functions:\n",
        "\n",
        "  1. boolean_and\n",
        "  2. boolean_or\n",
        "  3. boolean_xor\n",
        "\n",
        "These functions should evaluate a list of True and False values, starting from the leftmost element and evaluating pairwise.\n",
        "\n",
        "Examples\n",
        "\n",
        "boolean_and([True, True, False, True]) ➞ False\n",
        "\n",
        "'# [True, True, False, True] => [True, False, True] => [False, True] => False\n",
        "\n",
        "boolean_or([True, True, False, False]) ➞ True\n",
        "\n",
        "'# [True, True, False, True] => [True, False, False] => [True, False] => True\n",
        "\n",
        "boolean_xor([True, True, False, False]) ➞ False\n",
        "\n",
        "'# [True, True, False, False] => [False, False, False] => [False, False] => False\n"
      ],
      "metadata": {
        "id": "Og6FV5ChVeal"
      }
    },
    {
      "cell_type": "code",
      "source": [
        "def boolean_and(inp):\n",
        "  x=True\n",
        "  for i in  range(len(inp)):\n",
        "    x=x and inp[i]\n",
        "  return x\n",
        "\n",
        "def boolean_or(inp):\n",
        "  x=False\n",
        "  for i in  range(len(inp)):\n",
        "    x=x or inp[i]\n",
        "  return x\n",
        "\n",
        "def boolean_xor(inp):\n",
        "  x=inp[0]\n",
        "  for i in  range(1,len(inp)):\n",
        "    x=x or inp[i]\n",
        "  return x\n",
        "\n",
        "boolean_or([True, True, False, False])   "
      ],
      "metadata": {
        "colab": {
          "base_uri": "https://localhost:8080/"
        },
        "id": "UDpef3Stxujs",
        "outputId": "4e388cab-abab-4c61-8dce-29c9d8472261"
      },
      "execution_count": 141,
      "outputs": [
        {
          "output_type": "execute_result",
          "data": {
            "text/plain": [
              "True"
            ]
          },
          "metadata": {},
          "execution_count": 141
        }
      ]
    },
    {
      "cell_type": "markdown",
      "source": [
        "3. Create a function that creates a box based on dimension n.\n",
        "\n",
        "Examples\n",
        "\n",
        "make_box(5) ➞ [\n",
        "  \"#####\",\n",
        "  \"#   #\",\n",
        "  \"#   #\",\n",
        "  \"#   #\",\n",
        "  \"#####\"\n",
        "]\n",
        "\n",
        "make_box(3) ➞ [\n",
        "  \"###\",\n",
        "  \"# #\",\n",
        "  \"###\"\n",
        "]\n",
        "\n",
        "make_box(2) ➞ [\n",
        "  \"##\",\n",
        "  \"##\"\n",
        "]\n",
        "\n",
        "make_box(1) ➞ [\n",
        "  \"#\"\n",
        "]\n"
      ],
      "metadata": {
        "id": "Jqs4GPaIVg9D"
      }
    },
    {
      "cell_type": "code",
      "source": [
        "def get_frame(c, r, sim):\n",
        "  if c>2:\n",
        "    lst1=[]\n",
        "    lst2=[]\n",
        "    for i in range(r):\n",
        "      if i == 0 or i==r-1:\n",
        "        for k in range(c):\n",
        "          lst2.append(sim)\n",
        "          #print(lst2)\n",
        "        lst1.append(lst2)\n",
        "        lst2=[]\n",
        "      else:\n",
        "        for k in range(c):\n",
        "          if k ==0 or k==c-1:\n",
        "            lst2.append(sim)\n",
        "          else:\n",
        "            lst2.append(\" \")\n",
        "        lst1.append(lst2)\n",
        "        lst2=[]\n",
        "    return lst1\n",
        "  else:\n",
        "    return \"Invalid\"\n",
        "\n",
        "        \n",
        "\n",
        "\n",
        "get_frame(4, 5, \"#\")"
      ],
      "metadata": {
        "colab": {
          "base_uri": "https://localhost:8080/"
        },
        "id": "WOV6l0g41wVQ",
        "outputId": "adb8f060-ce16-456b-d74b-f952b0ec65f3"
      },
      "execution_count": 150,
      "outputs": [
        {
          "output_type": "execute_result",
          "data": {
            "text/plain": [
              "[['#', '#', '#', '#'],\n",
              " ['#', ' ', ' ', '#'],\n",
              " ['#', ' ', ' ', '#'],\n",
              " ['#', ' ', ' ', '#'],\n",
              " ['#', '#', '#', '#']]"
            ]
          },
          "metadata": {},
          "execution_count": 150
        }
      ]
    },
    {
      "cell_type": "markdown",
      "source": [
        "\n",
        "\n",
        "4. Given a common phrase, return False if any individual word in the phrase contains duplicate letters. Return True otherwise.\n",
        "\n",
        "Examples\n",
        "\n",
        "no_duplicate_letters(\"Fortune favours the bold.\") ➞ True\n",
        "\n",
        "no_duplicate_letters(\"You can lead a horse to water, but you can't make him drink.\") ➞ True\n",
        "\n",
        "no_duplicate_letters(\"Look before you leap.\") ➞ False\n",
        "\n",
        "'# Duplicate letters in \"Look\" and \"before\".\n",
        "\n",
        "no_duplicate_letters(\"An apple a day keeps the doctor away.\") ➞ False\n",
        "\n",
        "'# Duplicate letters in \"apple\", \"keeps\", \"doctor\", and \"away\".\n",
        "\n"
      ],
      "metadata": {
        "id": "YmtRtAD4VjFj"
      }
    },
    {
      "cell_type": "code",
      "source": [
        "def no_duplicate_letters(inp_str):\n",
        "  lst1=list(inp_str.split(\" \"))\n",
        "  return len(lst1)==len(set(lst1))\n",
        "\n",
        "no_duplicate_letters(\"Fortune favours the bold.\") "
      ],
      "metadata": {
        "colab": {
          "base_uri": "https://localhost:8080/"
        },
        "id": "2ADqnedb3ctd",
        "outputId": "02c18742-7485-4717-b91f-5e69a2cdb02f"
      },
      "execution_count": 154,
      "outputs": [
        {
          "output_type": "execute_result",
          "data": {
            "text/plain": [
              "True"
            ]
          },
          "metadata": {},
          "execution_count": 154
        }
      ]
    },
    {
      "cell_type": "markdown",
      "source": [
        "\n",
        "5. Write a regular expression that will match the states that voted yes to President Trump's impeachment. You must use RegEx positive lookahead.\n",
        "\n",
        "Example\n",
        "\n",
        "txt = \"Texas = no, California = yes, Florida = yes, Michigan = no\"\n",
        "pattern = \"yourregularexpressionhere\"\n",
        "\n",
        "re.findall(pattern, txt) ➞ [\"California\", \"Florida\"]\n"
      ],
      "metadata": {
        "id": "NtQ70jj9Aa0F"
      }
    },
    {
      "cell_type": "code",
      "source": [
        "import re\n",
        "\n",
        "# replace \"bar\" with \"BAR\" if it IS preceded by \"foo\"\n",
        "pattern = \"(?<=foo)bar\"\n",
        "replacement = \"BAR\"\n",
        "\n",
        "string = \"foo bar foobar\"\n",
        "\n",
        "re.sub(pattern,replacement,string)\n",
        "# 'foo bar fooBAR'"
      ],
      "metadata": {
        "id": "zeQwLkOr7cNd"
      },
      "execution_count": null,
      "outputs": []
    },
    {
      "cell_type": "code",
      "source": [
        "import re\n",
        "pattern=\"\\S*(?=) = yes\"\n",
        "txt = \"Texas = no, California = yes, Florida = yes, Michigan = no\"\n",
        "print(re.findall(pattern,txt))"
      ],
      "metadata": {
        "colab": {
          "base_uri": "https://localhost:8080/"
        },
        "id": "VYvkC3q44Xxm",
        "outputId": "1d0bfe50-3102-4489-a247-3f53c2a0052c"
      },
      "execution_count": 165,
      "outputs": [
        {
          "output_type": "stream",
          "name": "stdout",
          "text": [
            "['California = yes', 'Florida = yes']\n"
          ]
        }
      ]
    }
  ]
}