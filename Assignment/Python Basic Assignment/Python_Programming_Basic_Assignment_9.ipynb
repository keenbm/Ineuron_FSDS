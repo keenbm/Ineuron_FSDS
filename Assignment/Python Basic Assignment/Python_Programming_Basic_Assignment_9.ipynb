{
  "nbformat": 4,
  "nbformat_minor": 0,
  "metadata": {
    "colab": {
      "name": "Python Programming Basic Assignment 9.ipynb",
      "provenance": [],
      "collapsed_sections": [],
      "authorship_tag": "ABX9TyO8N+Bou2wT0GaFULgz0EAA",
      "include_colab_link": true
    },
    "kernelspec": {
      "name": "python3",
      "display_name": "Python 3"
    },
    "language_info": {
      "name": "python"
    }
  },
  "cells": [
    {
      "cell_type": "markdown",
      "metadata": {
        "id": "view-in-github",
        "colab_type": "text"
      },
      "source": [
        "<a href=\"https://colab.research.google.com/github/keenbm/Ineuron_FSDS/blob/main/Assignment/Python%20Basic%20Assignment/Python_Programming_Basic_Assignment_9.ipynb\" target=\"_parent\"><img src=\"https://colab.research.google.com/assets/colab-badge.svg\" alt=\"Open In Colab\"/></a>"
      ]
    },
    {
      "cell_type": "markdown",
      "source": [
        "\n",
        "\n",
        "``` \n",
        "Python Programming Basic Assignment 9\n",
        "Name : Bhavikkumar Modi\n",
        "E-mail : bmodi700@gmail.com\n",
        "```\n",
        "\n",
        "\n"
      ],
      "metadata": {
        "id": "RGipmPgKKPru"
      }
    },
    {
      "cell_type": "markdown",
      "source": [
        "1. Write a Python program to check if the given number is a Disarium Number?"
      ],
      "metadata": {
        "id": "V3M-1R9V7aZX"
      }
    },
    {
      "cell_type": "code",
      "source": [
        "num=int(input())\n",
        "num=str(num)\n",
        "temp=0\n",
        "for i,j in enumerate(num):\n",
        "  temp=(int(j)**(i+1))+temp\n",
        "if temp==int(num):\n",
        "  print(\"Disarium Number\")\n",
        "else:\n",
        "  print(\"Not a Disarium Number\")"
      ],
      "metadata": {
        "colab": {
          "base_uri": "https://localhost:8080/"
        },
        "id": "sz8D_xCA7sL_",
        "outputId": "8e5d79c6-82bd-4c20-cca2-c039194220e5"
      },
      "execution_count": null,
      "outputs": [
        {
          "output_type": "stream",
          "name": "stdout",
          "text": [
            "175\n",
            "Disarium Number\n"
          ]
        }
      ]
    },
    {
      "cell_type": "markdown",
      "source": [
        "2. Write a Python program to print all disarium numbers between 1 to 100?"
      ],
      "metadata": {
        "id": "6wbXa79f7aeb"
      }
    },
    {
      "cell_type": "code",
      "source": [
        "for k in range(1,101):\n",
        "  temp=0\n",
        "  for i,j in enumerate(str(k)):\n",
        "    temp=(int(j)**(i+1))+temp\n",
        "  if temp==int(k):\n",
        "    print(f\"Disarium Number : {k}\")"
      ],
      "metadata": {
        "colab": {
          "base_uri": "https://localhost:8080/"
        },
        "id": "SDZorggs7spA",
        "outputId": "b141f2bc-4f59-4e94-e514-75b15674f02b"
      },
      "execution_count": null,
      "outputs": [
        {
          "output_type": "stream",
          "name": "stdout",
          "text": [
            "Disarium Number : 1\n",
            "Disarium Number : 2\n",
            "Disarium Number : 3\n",
            "Disarium Number : 4\n",
            "Disarium Number : 5\n",
            "Disarium Number : 6\n",
            "Disarium Number : 7\n",
            "Disarium Number : 8\n",
            "Disarium Number : 9\n",
            "Disarium Number : 89\n"
          ]
        }
      ]
    },
    {
      "cell_type": "markdown",
      "source": [
        "3. Write a Python program to check if the given number is Happy Number?\n"
      ],
      "metadata": {
        "id": "uS0H21Ci7ag-"
      }
    },
    {
      "cell_type": "code",
      "source": [
        "k=49\n",
        "temp=k\n",
        "sum=0\n",
        "\n",
        "\n",
        "while True:\n",
        "  sum=0\n",
        "  for i,j in enumerate(str(temp)):\n",
        "    sum=(int(j)**2)+sum    \n",
        "    \n",
        "  if len(str(sum))==1:\n",
        "    if sum==1:\n",
        "      print(\"Happy Number\")\n",
        "    else:\n",
        "      print(\"Not Happy number\")\n",
        "    break\n",
        "  else:\n",
        "    temp=sum\n",
        "    continue\n",
        "    "
      ],
      "metadata": {
        "id": "WBh54XrS7tIO",
        "colab": {
          "base_uri": "https://localhost:8080/"
        },
        "outputId": "9b3dd5f5-9040-4158-b1fb-3259f9966053"
      },
      "execution_count": null,
      "outputs": [
        {
          "output_type": "stream",
          "name": "stdout",
          "text": [
            "Happy Number\n"
          ]
        }
      ]
    },
    {
      "cell_type": "markdown",
      "source": [
        "4. Write a Python program to print all happy numbers between 1 and 100?"
      ],
      "metadata": {
        "id": "wGrsF11t7ajx"
      }
    },
    {
      "cell_type": "code",
      "source": [
        "for k in range(1,101):\n",
        "  temp=k\n",
        "  flag=True\n",
        "  \n",
        "  while flag:\n",
        "    sum=0\n",
        "    for i,j in enumerate(str(temp)):\n",
        "      sum=(int(j)**2)+sum    \n",
        "      \n",
        "    if len(str(sum))==1:\n",
        "      if sum==1:\n",
        "        print(f\"Happy Number {k}\")\n",
        "        flag=False\n",
        "      else:\n",
        "        flag=False\n",
        "    else:\n",
        "      temp=sum"
      ],
      "metadata": {
        "id": "fWd6OE0Z7tlK",
        "colab": {
          "base_uri": "https://localhost:8080/"
        },
        "outputId": "cd1a9eda-e707-4316-e0ef-a60b6649aebc"
      },
      "execution_count": 3,
      "outputs": [
        {
          "output_type": "stream",
          "name": "stdout",
          "text": [
            "Happy Number 1\n",
            "Happy Number 7\n",
            "Happy Number 10\n",
            "Happy Number 13\n",
            "Happy Number 19\n",
            "Happy Number 23\n",
            "Happy Number 28\n",
            "Happy Number 31\n",
            "Happy Number 32\n",
            "Happy Number 44\n",
            "Happy Number 49\n",
            "Happy Number 68\n",
            "Happy Number 70\n",
            "Happy Number 79\n",
            "Happy Number 82\n",
            "Happy Number 86\n",
            "Happy Number 91\n",
            "Happy Number 94\n",
            "Happy Number 97\n",
            "Happy Number 100\n"
          ]
        }
      ]
    },
    {
      "cell_type": "markdown",
      "source": [
        "5. Write a Python program to determine whether the given number is a Harshad Number?"
      ],
      "metadata": {
        "id": "zbnFHght7oEA"
      }
    },
    {
      "cell_type": "code",
      "source": [
        "k=int(input())\n",
        "temp=k\n",
        "sum=0\n",
        "\n",
        "for i,j in enumerate(str(k)):\n",
        "  sum=sum+int(j)\n",
        "\n",
        "if int(k)%sum==0:\n",
        "  print(\"Harshad Number\")\n",
        "else:\n",
        "  print(\"Not a Harshad Number\")"
      ],
      "metadata": {
        "id": "zc0DW8717u21",
        "colab": {
          "base_uri": "https://localhost:8080/"
        },
        "outputId": "b69edfc2-7520-4f13-d2d9-3fd5e00b8d36"
      },
      "execution_count": 7,
      "outputs": [
        {
          "output_type": "stream",
          "name": "stdout",
          "text": [
            "353\n",
            "Not a Harshad Number\n"
          ]
        }
      ]
    }
  ]
}