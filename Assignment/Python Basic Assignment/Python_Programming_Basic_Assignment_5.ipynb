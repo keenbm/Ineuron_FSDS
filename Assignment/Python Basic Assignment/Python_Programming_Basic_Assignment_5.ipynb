{
  "nbformat": 4,
  "nbformat_minor": 0,
  "metadata": {
    "colab": {
      "name": "Python Programming Basic Assignment 5.ipynb",
      "provenance": [],
      "collapsed_sections": [],
      "authorship_tag": "ABX9TyN8prls6UbqwzhPqIBMlEnr",
      "include_colab_link": true
    },
    "kernelspec": {
      "name": "python3",
      "display_name": "Python 3"
    },
    "language_info": {
      "name": "python"
    }
  },
  "cells": [
    {
      "cell_type": "markdown",
      "metadata": {
        "id": "view-in-github",
        "colab_type": "text"
      },
      "source": [
        "<a href=\"https://colab.research.google.com/github/keenbm/Ineuron_FSDS/blob/main/Assignment/Python%20Basic%20Assignment/Python_Programming_Basic_Assignment_5.ipynb\" target=\"_parent\"><img src=\"https://colab.research.google.com/assets/colab-badge.svg\" alt=\"Open In Colab\"/></a>"
      ]
    },
    {
      "cell_type": "markdown",
      "source": [
        "\n",
        "\n",
        "``` \n",
        "Python Programming Basic Assignment 5\n",
        "Name : Bhavikkumar Modi\n",
        "E-mail : bmodi700@gmail.com\n",
        "```\n",
        "\n",
        "\n"
      ],
      "metadata": {
        "id": "RGipmPgKKPru"
      }
    },
    {
      "cell_type": "markdown",
      "source": [
        "1. Write a Python Program to Find LCM?"
      ],
      "metadata": {
        "id": "Gu95XXQaZJ83"
      }
    },
    {
      "cell_type": "code",
      "source": [
        "x=int(input(\"Enter number1 : \"))\n",
        "y=int(input(\"Enter number2 : \"))\n",
        "if x > y:\n",
        "    high = x\n",
        "else:\n",
        "    high = y\n",
        "\n",
        "while(True):\n",
        "    if((high % x == 0) and (high % y == 0)):\n",
        "        lcm = high\n",
        "        break\n",
        "    high += 1\n",
        "\n",
        "print(\"LCM for Number {} and {} is {}\".format(x,y,lcm))"
      ],
      "metadata": {
        "colab": {
          "base_uri": "https://localhost:8080/"
        },
        "id": "LeZQrRJvQOL5",
        "outputId": "fbceebff-299f-4f07-a3c4-5c5b6200bdb9"
      },
      "execution_count": 7,
      "outputs": [
        {
          "output_type": "stream",
          "name": "stdout",
          "text": [
            "Enter number1 : 6\n",
            "Enter number2 : 15\n",
            "LCM for Number 6 and 15 is 30\n"
          ]
        }
      ]
    },
    {
      "cell_type": "markdown",
      "source": [
        "2. Write a Python Program to Find HCF?"
      ],
      "metadata": {
        "id": "43w-nVz8ZNHd"
      }
    },
    {
      "cell_type": "code",
      "source": [
        "x=int(input(\"Enter number1 : \"))\n",
        "y=int(input(\"Enter number2 : \"))\n",
        "if x > y:\n",
        "    high = x\n",
        "else:\n",
        "    high = y\n",
        "\n",
        "while(True):\n",
        "    if((high % x == 0) and (high % y == 0)):\n",
        "        lcm = high\n",
        "        break\n",
        "    high += 1\n",
        "\n",
        "HCF = (x*y)/lcm\n",
        "\n",
        "print(\"HCF for Number {} and {} is {}\".format(x,y,HCF))"
      ],
      "metadata": {
        "colab": {
          "base_uri": "https://localhost:8080/"
        },
        "id": "NuHZUwMDS7Rd",
        "outputId": "f23a58a2-ed85-45bc-fbca-4abb9782538b"
      },
      "execution_count": 8,
      "outputs": [
        {
          "output_type": "stream",
          "name": "stdout",
          "text": [
            "Enter number1 : 10\n",
            "Enter number2 : 12\n",
            "HCF for Number 10 and 12 is 2.0\n"
          ]
        }
      ]
    },
    {
      "cell_type": "markdown",
      "source": [
        "3. Write a Python Program to Convert Decimal to Binary, Octal and Hexadecimal?"
      ],
      "metadata": {
        "id": "5V6M94r0ZO0i"
      }
    },
    {
      "cell_type": "code",
      "source": [
        "x=int(input(\"Enter decimal number : \"))\n",
        "binary=bin(x).replace(\"0b\", \"\")\n",
        "oct=oct(x)\n",
        "Hex=hex(x)\n",
        "\n",
        "print(f\"Decimal = {x}\\nbinary = {binary}\\nOct = {oct}\\nHex = {Hex}\")\n"
      ],
      "metadata": {
        "colab": {
          "base_uri": "https://localhost:8080/"
        },
        "id": "-CO1wpBdW1QN",
        "outputId": "7b4bce7b-d6d8-44bc-e698-e1998be3ecda"
      },
      "execution_count": 1,
      "outputs": [
        {
          "output_type": "stream",
          "name": "stdout",
          "text": [
            "Enter decimal number : 20\n",
            "Decimal = 20\n",
            "binary = 10100\n",
            "Oct = 0o24\n",
            "Hex = 0x14\n"
          ]
        }
      ]
    },
    {
      "cell_type": "markdown",
      "source": [
        "4. Write a Python Program To Find ASCII value of a character?"
      ],
      "metadata": {
        "id": "Q-xdYqcTZQaY"
      }
    },
    {
      "cell_type": "code",
      "source": [
        "x=input(\"Enter decimal number : \")\n",
        "asc=ascii(x)\n",
        "\n",
        "print(f\"Decimal = {x}\\nASCII = {asc}\")"
      ],
      "metadata": {
        "colab": {
          "base_uri": "https://localhost:8080/"
        },
        "id": "LEmXlJUKgnGF",
        "outputId": "3c5ad6f6-b329-400a-a7de-8dccd0c1475d"
      },
      "execution_count": 6,
      "outputs": [
        {
          "output_type": "stream",
          "name": "stdout",
          "text": [
            "Enter decimal number : ABC\n",
            "Decimal = ABC\n",
            "ASCII = 'ABC'\n"
          ]
        }
      ]
    },
    {
      "cell_type": "markdown",
      "source": [
        "5. Write a Python Program to Make a Simple Calculator with 4 basic mathematical operations?"
      ],
      "metadata": {
        "id": "GjIqrsTnZSDL"
      }
    },
    {
      "cell_type": "code",
      "source": [
        "flag=True\n",
        "Answer=0\n",
        "Number=[]\n",
        "Operation=[]\n",
        "\n",
        "def input_fun():\n",
        "  while flag:\n",
        "    Num=input(\"Enter Numbers (enter x to close): \")\n",
        "    if Num=='x' or Op=='x':\n",
        "      print(f'Answer = {Answer}')\n",
        "      break\n",
        "    else:\n",
        "      Number.append(Num)\n",
        "\n",
        "    Op=input(\"Enter Operation (enter x to close): \")\n",
        "    if Num=='x' or Op=='x':\n",
        "      print(f'Answer = {Answer}')\n",
        "      break\n",
        "    else:\n",
        "      Operation.append(Op)\n",
        "\n"
      ],
      "metadata": {
        "colab": {
          "base_uri": "https://localhost:8080/"
        },
        "id": "ZXuWSlv7e4bk",
        "outputId": "c2ba5aa8-13c2-4b87-eb13-3c5fb55ee0aa"
      },
      "execution_count": 8,
      "outputs": [
        {
          "output_type": "stream",
          "name": "stdout",
          "text": [
            "Enter Numbers (enter x to close): x\n",
            "Enter Operation (enter x to close): x\n",
            "Answer = 0\n"
          ]
        }
      ]
    },
    {
      "cell_type": "code",
      "source": [
        ""
      ],
      "metadata": {
        "id": "OyMHkVBmjgo5"
      },
      "execution_count": null,
      "outputs": []
    }
  ]
}