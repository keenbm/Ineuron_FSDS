{
  "nbformat": 4,
  "nbformat_minor": 0,
  "metadata": {
    "colab": {
      "name": "Python Programming Basic Assignment 12.ipynb",
      "provenance": [],
      "collapsed_sections": [],
      "authorship_tag": "ABX9TyPvGUqZmL8vEpgz718jn0Zm",
      "include_colab_link": true
    },
    "kernelspec": {
      "name": "python3",
      "display_name": "Python 3"
    },
    "language_info": {
      "name": "python"
    }
  },
  "cells": [
    {
      "cell_type": "markdown",
      "metadata": {
        "id": "view-in-github",
        "colab_type": "text"
      },
      "source": [
        "<a href=\"https://colab.research.google.com/github/keenbm/Ineuron_FSDS/blob/main/Assignment/Python%20Basic%20Assignment/Python_Programming_Basic_Assignment_12.ipynb\" target=\"_parent\"><img src=\"https://colab.research.google.com/assets/colab-badge.svg\" alt=\"Open In Colab\"/></a>"
      ]
    },
    {
      "cell_type": "markdown",
      "source": [
        "\n",
        "\n",
        "``` \n",
        "Python Programming Basic Assignment 12\n",
        "Name : Bhavikkumar Modi\n",
        "E-mail : bmodi700@gmail.com\n",
        "```\n",
        "\n",
        "\n"
      ],
      "metadata": {
        "id": "RGipmPgKKPru"
      }
    },
    {
      "cell_type": "markdown",
      "source": [
        "1. Write a Python program to Extract Unique values dictionary values?"
      ],
      "metadata": {
        "id": "ajuTKcLu6OBa"
      }
    },
    {
      "cell_type": "code",
      "source": [
        "A={\"A\":123,\"B\":123,\"C\":\"ABC\"}\n",
        "print(f\"Unique values in dict. {A} are {set(A.values())}\")"
      ],
      "metadata": {
        "colab": {
          "base_uri": "https://localhost:8080/"
        },
        "id": "K1J_1TV27Xhh",
        "outputId": "c9950fbc-2466-456f-936d-b413bc19826b"
      },
      "execution_count": null,
      "outputs": [
        {
          "output_type": "stream",
          "name": "stdout",
          "text": [
            "Unique values in dict. {'A': 123, 'B': 123, 'C': 'ABC'} are {123, 'ABC'}\n"
          ]
        }
      ]
    },
    {
      "cell_type": "markdown",
      "source": [
        "2. Write a Python program to find the sum of all items in a dictionary?"
      ],
      "metadata": {
        "id": "i6Inb7No6yWj"
      }
    },
    {
      "cell_type": "code",
      "source": [
        "A={\"A\":123,\"B\":123,\"C\":456}\n",
        "print(f\"Sum of all values is {sum(A.values())}\")"
      ],
      "metadata": {
        "colab": {
          "base_uri": "https://localhost:8080/"
        },
        "id": "6-y6AlRW7YAU",
        "outputId": "ac86645f-b001-48b1-d4b5-a5ffab908941"
      },
      "execution_count": null,
      "outputs": [
        {
          "output_type": "stream",
          "name": "stdout",
          "text": [
            "Sum of all values is 702\n"
          ]
        }
      ]
    },
    {
      "cell_type": "markdown",
      "source": [
        "3. Write a Python program to Merging two Dictionaries?"
      ],
      "metadata": {
        "id": "qaDq7O8P6z6_"
      }
    },
    {
      "cell_type": "code",
      "source": [
        "A={\"A\":123,\"B\":123,\"C\":456}\n",
        "B={\"AB\":134123,\"BC\":11223,\"CD\":\"AdfBC\"}\n",
        "A.update(B)\n",
        "A"
      ],
      "metadata": {
        "colab": {
          "base_uri": "https://localhost:8080/"
        },
        "id": "V-887dJM7Yaj",
        "outputId": "c85da138-81e9-4108-8dda-46e174a29a68"
      },
      "execution_count": null,
      "outputs": [
        {
          "output_type": "execute_result",
          "data": {
            "text/plain": [
              "{'A': 123, 'AB': 134123, 'B': 123, 'BC': 11223, 'C': 456, 'CD': 'AdfBC'}"
            ]
          },
          "metadata": {},
          "execution_count": 6
        }
      ]
    },
    {
      "cell_type": "markdown",
      "source": [
        "4. Write a Python program to convert key-values list to flat dictionary?"
      ],
      "metadata": {
        "id": "vIhTkxt461Rj"
      }
    },
    {
      "cell_type": "code",
      "source": [
        "from itertools import product\n",
        "  \n",
        "\n",
        "test_dict = {'month' : [1, 2, 3],\n",
        "             'name' : ['Jan', 'Feb', 'March']}\n",
        "  \n",
        "\n",
        "print(\"The original dictionary is : \" + str(test_dict))\n",
        "  \n",
        "\n",
        "res = dict(zip(test_dict['month'], test_dict['name']))\n",
        "  \n",
        "print(\"Flattened dictionary : \" + str(res)) "
      ],
      "metadata": {
        "colab": {
          "base_uri": "https://localhost:8080/"
        },
        "id": "EWf0Aun17ZJX",
        "outputId": "6389b0b8-42fe-4637-b918-0e5273214951"
      },
      "execution_count": null,
      "outputs": [
        {
          "output_type": "stream",
          "name": "stdout",
          "text": [
            "The original dictionary is : {'month': [1, 2, 3], 'name': ['Jan', 'Feb', 'March']}\n",
            "Flattened dictionary : {1: 'Jan', 2: 'Feb', 3: 'March'}\n"
          ]
        }
      ]
    },
    {
      "cell_type": "markdown",
      "source": [
        "5. Write a Python program to insertion at the beginning in OrderedDict?"
      ],
      "metadata": {
        "id": "xOfvacTM62qu"
      }
    },
    {
      "cell_type": "code",
      "source": [
        "from collections import OrderedDict\n",
        "\n",
        "ini_dict1 = OrderedDict([('Bhavik', '1'), ('Modi', '2')])\n",
        "ini_dict2 = OrderedDict([(\"Hello\", '4'), (\"Word\", '4')])\n",
        "\n",
        "both = OrderedDict(list(ini_dict2.items()) + list(ini_dict1.items()))\n",
        "\n",
        "print (\"Resultant Dictionary :\"+str(both))"
      ],
      "metadata": {
        "id": "fA-006_Q7ZtS",
        "colab": {
          "base_uri": "https://localhost:8080/"
        },
        "outputId": "053c5da7-f190-4251-c73f-f86976c6ee05"
      },
      "execution_count": 5,
      "outputs": [
        {
          "output_type": "stream",
          "name": "stdout",
          "text": [
            "Resultant Dictionary :OrderedDict([('Hello', '4'), ('Word', '4'), ('Bhavik', '1'), ('Modi', '2')])\n"
          ]
        }
      ]
    },
    {
      "cell_type": "markdown",
      "source": [
        "6. Write a Python program to check order of character in string using OrderedDict()?"
      ],
      "metadata": {
        "id": "OvjXrSPB64HT"
      }
    },
    {
      "cell_type": "code",
      "source": [
        "from collections import OrderedDict \n",
        "  \n",
        "def checkOrder(input, pattern): \n",
        "      \n",
        "    dict = OrderedDict.fromkeys(input) \n",
        "  \n",
        "    ptrlen = 0\n",
        "    for key,value in dict.items(): \n",
        "        if (key == pattern[ptrlen]): \n",
        "            ptrlen = ptrlen + 1\n",
        "          \n",
        "        if (ptrlen == (len(pattern))): \n",
        "            return 'true'\n",
        "  \n",
        "    \n",
        "    return 'false'\n",
        "  \n",
        "input = 'engineers rock'\n",
        "pattern = 'egr'\n",
        "print (checkOrder(input,pattern))"
      ],
      "metadata": {
        "id": "gCwOThxH7aO7",
        "colab": {
          "base_uri": "https://localhost:8080/"
        },
        "outputId": "deabc856-8aed-41f0-9a7d-b653e42bea9d"
      },
      "execution_count": 10,
      "outputs": [
        {
          "output_type": "stream",
          "name": "stdout",
          "text": [
            "true\n"
          ]
        }
      ]
    }
  ]
}