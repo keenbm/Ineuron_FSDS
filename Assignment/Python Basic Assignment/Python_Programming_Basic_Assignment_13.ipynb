{
  "nbformat": 4,
  "nbformat_minor": 0,
  "metadata": {
    "colab": {
      "name": "Python Programming Basic Assignment 13.ipynb",
      "provenance": [],
      "collapsed_sections": [],
      "authorship_tag": "ABX9TyPdDJ/+dIQxhqZqNDR5k7/D",
      "include_colab_link": true
    },
    "kernelspec": {
      "name": "python3",
      "display_name": "Python 3"
    },
    "language_info": {
      "name": "python"
    }
  },
  "cells": [
    {
      "cell_type": "markdown",
      "metadata": {
        "id": "view-in-github",
        "colab_type": "text"
      },
      "source": [
        "<a href=\"https://colab.research.google.com/github/keenbm/Ineuron_FSDS/blob/main/Assignment/Python%20Basic%20Assignment/Python_Programming_Basic_Assignment_13.ipynb\" target=\"_parent\"><img src=\"https://colab.research.google.com/assets/colab-badge.svg\" alt=\"Open In Colab\"/></a>"
      ]
    },
    {
      "cell_type": "markdown",
      "source": [
        "\n",
        "\n",
        "``` \n",
        "Python Programming Basic Assignment 13\n",
        "Name : Bhavikkumar Modi\n",
        "E-mail : bmodi700@gmail.com\n",
        "```\n",
        "\n",
        "\n"
      ],
      "metadata": {
        "id": "RGipmPgKKPru"
      }
    },
    {
      "cell_type": "markdown",
      "source": [
        "Question 1:\n",
        "Write a program that calculates and prints the value according to the given formula:\n",
        "\n",
        "Q = Square root of [(2 * C * D)/H]\n",
        "Following are the fixed values of C and H:\n",
        "\n",
        "C is 50. H is 30.\n",
        "\n",
        "D is the variable whose values should be input to your program in a comma-separated sequence.\n",
        "\n",
        "Example\n",
        "\n",
        "Let us assume the following comma separated input sequence is given to the program:\n",
        "100,150,180\n",
        "The output of the program should be:\n",
        "18,22,24"
      ],
      "metadata": {
        "id": "PslJLgopNNiu"
      }
    },
    {
      "cell_type": "code",
      "source": [
        "import math\n",
        "D= input(\"Enter 3 Values of D: \").split(',')\n",
        "C=50\n",
        "H=30\n",
        "print(D)\n",
        "for val in D:\n",
        "  Q = math.sqrt((2 * int(C) * int(val))/int(H))\n",
        "  print(int(Q))"
      ],
      "metadata": {
        "colab": {
          "base_uri": "https://localhost:8080/"
        },
        "id": "0zGjOcBnhMq9",
        "outputId": "039d85c5-389c-48b9-918b-3a31a460db28"
      },
      "execution_count": null,
      "outputs": [
        {
          "output_type": "stream",
          "name": "stdout",
          "text": [
            "Enter 3 Values of D: 100,150,180\n",
            "['100', '150', '180']\n",
            "18\n",
            "22\n",
            "24\n"
          ]
        }
      ]
    },
    {
      "cell_type": "markdown",
      "source": [
        "Question 2:\n",
        "\n",
        "Write a program which takes 2 digits, X,Y as input and generates a 2-dimensional array. The element value in the i-th row and j-th column of the array should be i*j.\n",
        "\n",
        "Note: i=0,1.., X-1; j=0,1,¡Y-1.\n",
        "\n",
        "Example\n",
        "\n",
        "Suppose the following inputs are given to the program: 3,5\n",
        "\n",
        "Then, the output of the program should be:\n",
        "\n",
        "[[0, 0, 0, 0, 0], [0, 1, 2, 3, 4], [0, 2, 4, 6, 8]]"
      ],
      "metadata": {
        "id": "5oxnVnp6k-Eb"
      }
    },
    {
      "cell_type": "code",
      "source": [
        "X,Y= input(\"Enter Values of X,Y: \").split(',')\n",
        "X=int(X)\n",
        "Y=int(Y)\n",
        "list1=[]\n",
        "list2=[]\n",
        "for i in range(0,X):\n",
        "  for j in range(0,Y):\n",
        "    list2.append(i*j)\n",
        "  list1.append(list2)\n",
        "  list2=[]\n",
        "\n",
        "print(list1)"
      ],
      "metadata": {
        "id": "AKGCUXVYlHWD",
        "colab": {
          "base_uri": "https://localhost:8080/"
        },
        "outputId": "6a3b6ba0-287e-4476-97b8-261bf1e76010"
      },
      "execution_count": 14,
      "outputs": [
        {
          "output_type": "stream",
          "name": "stdout",
          "text": [
            "Enter Values of X,Y: 3,5\n",
            "[[0, 0, 0, 0, 0], [0, 1, 2, 3, 4], [0, 2, 4, 6, 8]]\n"
          ]
        }
      ]
    },
    {
      "cell_type": "markdown",
      "source": [
        "Question 3:\n",
        "\n",
        "Write a program that accepts a comma separated sequence of words as input and prints the words in a comma-separated sequence after sorting them alphabetically.\n",
        "\n",
        "Suppose the following input is supplied to the program:\n",
        "\n",
        "without,hello,bag,world\n",
        "\n",
        "Then, the output should be:\n",
        "\n",
        "bag,hello,without,world"
      ],
      "metadata": {
        "id": "fjFBA4q-Og6j"
      }
    },
    {
      "cell_type": "code",
      "source": [
        "words= input(\"Enter Values : \").split(',')\n",
        "#print(words)\n",
        "words.sort()\n",
        "#print(str(words))\n",
        "\",\".join(words)"
      ],
      "metadata": {
        "id": "NXk2tm6YlGtn",
        "colab": {
          "base_uri": "https://localhost:8080/",
          "height": 52
        },
        "outputId": "4c29e85f-f6fc-4476-a740-2c4e03be2878"
      },
      "execution_count": 38,
      "outputs": [
        {
          "name": "stdout",
          "output_type": "stream",
          "text": [
            "Enter Values : without,hello,bag,world\n"
          ]
        },
        {
          "output_type": "execute_result",
          "data": {
            "application/vnd.google.colaboratory.intrinsic+json": {
              "type": "string"
            },
            "text/plain": [
              "'bag,hello,without,world'"
            ]
          },
          "metadata": {},
          "execution_count": 38
        }
      ]
    },
    {
      "cell_type": "markdown",
      "source": [
        "Question 4:\n",
        "\n",
        "Write a program that accepts a sequence of whitespace separated words as input and prints the words after removing all duplicate words and sorting them alphanumerically.\n",
        "\n",
        "Suppose the following input is supplied to the program:\n",
        "\n",
        "hello world and practice makes perfect and hello world again\n",
        "\n",
        "Then, the output should be:\n",
        "\n",
        "again and hello makes perfect practice world"
      ],
      "metadata": {
        "id": "dbYV9XspOuPX"
      }
    },
    {
      "cell_type": "code",
      "source": [
        "words= input(\"Enter Values : \").split(' ')\n",
        "words=set(words)\n",
        "words=list(words)\n",
        "words.sort()\n",
        "print(\" \".join(words))"
      ],
      "metadata": {
        "colab": {
          "base_uri": "https://localhost:8080/"
        },
        "id": "Dl_XQgckRSYS",
        "outputId": "2adb090c-e4d1-4b62-d437-daaeb705edc4"
      },
      "execution_count": 39,
      "outputs": [
        {
          "output_type": "stream",
          "name": "stdout",
          "text": [
            "Enter Values : hello world and practice makes perfect and hello world again\n",
            "again and hello makes perfect practice world\n"
          ]
        }
      ]
    },
    {
      "cell_type": "markdown",
      "source": [
        "Question 5:\n",
        "\n",
        "Write a program that accepts a sentence and calculate the number of letters and digits.\n",
        "\n",
        "Suppose the following input is supplied to the program:\n",
        "\n",
        "hello world! 123\n",
        "\n",
        "Then, the output should be:\n",
        "\n",
        "LETTERS 10\n",
        "\n",
        "DIGITS 3"
      ],
      "metadata": {
        "id": "DP3paplMO4s5"
      }
    },
    {
      "cell_type": "code",
      "source": [
        "words= str(input(\"Enter string: \"))\n",
        "words1=words.replace(\" \",\"\")\n",
        "digits = sum(d.isdigit() for d in words1)\n",
        "letters = sum(l.isalpha() for l in words1)\n",
        "print(\"LETTERS \",letters)\n",
        "print(\"DIGITS \",digits)\n"
      ],
      "metadata": {
        "colab": {
          "base_uri": "https://localhost:8080/"
        },
        "id": "nXzRTNtMUWwZ",
        "outputId": "79073d75-e325-4cea-f4dc-81df38eecf47"
      },
      "execution_count": 37,
      "outputs": [
        {
          "output_type": "stream",
          "name": "stdout",
          "text": [
            "Enter string: hello world! 123\n",
            "LETTERS  10\n",
            "DIGITS  3\n"
          ]
        }
      ]
    },
    {
      "cell_type": "markdown",
      "source": [
        "Question 6:\n",
        "\n",
        "A website requires the users to input username and password to register. Write a program to check the validity of password input by users.\n",
        "\n",
        "Following are the criteria for checking the password:\n",
        "\n",
        "1. At least 1 letter between [a-z]\n",
        "2. At least 1 number between [0-9]\n",
        "1. At least 1 letter between [A-Z]\n",
        "3. At least 1 character from [$#@]\n",
        "4. Minimum length of transaction password: 6\n",
        "5. Maximum length of transaction password: 12\n",
        "\n",
        "Your program should accept a sequence of comma separated passwords and will check them according to the above criteria. Passwords that match the criteria are to be printed, each separated by a comma.\n",
        "\n",
        "Example\n",
        "\n",
        "If the following passwords are given as input to the program:\n",
        "\n",
        "ABd1234@1,a F1#,2w3E*,2We3345\n",
        "\n",
        "Then, the output of the program should be:\n",
        "\n",
        "ABd1234@1"
      ],
      "metadata": {
        "id": "G1sphUYUPDSW"
      }
    },
    {
      "cell_type": "code",
      "source": [
        "def check_pwd(password):\n",
        "  word=password\n",
        "\n",
        "  digit = sum(l.isnumeric() for l in word)\n",
        "  if digit>=1:\n",
        "    digit_flag=True\n",
        "  else:\n",
        "    digit_flag=False\n",
        "\n",
        "  lower = sum(l.islower() for l in word)\n",
        "  if lower>=1:\n",
        "    lower_flag=True\n",
        "  else:\n",
        "    lower_flag=False\n",
        "\n",
        "  upper= sum(l.islower() for l in word)\n",
        "  if upper>=1:\n",
        "    upper_flag=True\n",
        "  else:\n",
        "    upper_flag=False\n",
        "\n",
        "  if (\"@\" in word) or (\"#\" in word) or (\"$\" in word):\n",
        "    alp_flag=True\n",
        "  else:\n",
        "    alp_flag=False\n",
        "\n",
        "  leng=len(word)\n",
        "  if leng>=6 and leng<=12:\n",
        "    len_flag=True\n",
        "  else:\n",
        "    len_flag=False\n",
        "\n",
        "  pass_flag= digit_flag and lower_flag and upper_flag and alp_flag and len_flag\n",
        "  \n",
        "  return(pass_flag)"
      ],
      "metadata": {
        "id": "J5flc4i_Xyni"
      },
      "execution_count": 79,
      "outputs": []
    },
    {
      "cell_type": "code",
      "source": [
        "password= input(\"Enter Values : \").split(',')\n",
        "\n",
        "for password in password:\n",
        "  check=check_pwd(password)\n",
        "  if check==True:\n",
        "    print(f\"{password} is acceptable password\")"
      ],
      "metadata": {
        "id": "3IoohRJWNlf_",
        "colab": {
          "base_uri": "https://localhost:8080/"
        },
        "outputId": "c9a5a659-621d-42e0-8ad5-81f7f0f8e07e"
      },
      "execution_count": 80,
      "outputs": [
        {
          "output_type": "stream",
          "name": "stdout",
          "text": [
            "Enter Values : ABd1234@1,a F1#,2w3E*,2We3345\n",
            "ABd1234@1 is acceptable password\n"
          ]
        }
      ]
    },
    {
      "cell_type": "markdown",
      "source": [
        "Assignment/Python Basic Assignment/"
      ],
      "metadata": {
        "id": "smN_V3V8e2hU"
      }
    },
    {
      "cell_type": "code",
      "source": [
        ""
      ],
      "metadata": {
        "id": "vKegE6yLe4oj"
      },
      "execution_count": null,
      "outputs": []
    }
  ]
}