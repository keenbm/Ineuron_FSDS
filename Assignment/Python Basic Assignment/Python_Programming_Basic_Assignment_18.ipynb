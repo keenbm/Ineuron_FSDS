{
  "nbformat": 4,
  "nbformat_minor": 0,
  "metadata": {
    "colab": {
      "name": "Python Programming Basic Assignment 18.ipynb",
      "provenance": [],
      "collapsed_sections": [],
      "authorship_tag": "ABX9TyPNoI3flzRBa7DYN6jr84ly",
      "include_colab_link": true
    },
    "kernelspec": {
      "name": "python3",
      "display_name": "Python 3"
    },
    "language_info": {
      "name": "python"
    }
  },
  "cells": [
    {
      "cell_type": "markdown",
      "metadata": {
        "id": "view-in-github",
        "colab_type": "text"
      },
      "source": [
        "<a href=\"https://colab.research.google.com/github/keenbm/Ineuron_FSDS/blob/main/Assignment/Python%20Basic%20Assignment/Python_Programming_Basic_Assignment_18.ipynb\" target=\"_parent\"><img src=\"https://colab.research.google.com/assets/colab-badge.svg\" alt=\"Open In Colab\"/></a>"
      ]
    },
    {
      "cell_type": "markdown",
      "source": [
        "``` \n",
        "Python Programming Basic Assignment 18\n",
        "Name : Bhavikkumar Modi\n",
        "E-mail : bmodi700@gmail.com\n",
        "```"
      ],
      "metadata": {
        "id": "RGipmPgKKPru"
      }
    },
    {
      "cell_type": "markdown",
      "source": [
        "```\n",
        "Assignment/Python Basic Assignment/\n",
        "```\n",
        "\n"
      ],
      "metadata": {
        "id": "e8wNOIbQvFZm"
      }
    },
    {
      "cell_type": "markdown",
      "source": [
        "Question 1\n",
        "\n",
        "Create a function that takes a list of non-negative integers and strings and return a new list without the strings.\n",
        "\n",
        "Examples\n",
        "\n",
        "filter_list([1, 2, &quot;a&quot;, &quot;b&quot;]) ➞ [1, 2]\n",
        "\n",
        "filter_list([1, &quot;a&quot;, &quot;b&quot;, 0, 15]) ➞ [1, 0, 15]\n",
        "\n",
        "filter_list([1, 2, &quot;aasf&quot;, &quot;1&quot;, &quot;123&quot;, 123]) ➞ [1, 2, 123]"
      ],
      "metadata": {
        "id": "1yq8qYCpBFTo"
      }
    },
    {
      "cell_type": "code",
      "source": [
        "def filter_list(inpt):\n",
        "  filt_list=[]\n",
        "  for i,j in enumerate(inpt):\n",
        "    if inpt[i].isnumeric():\n",
        "      filt_list.append(j)\n",
        "    else:\n",
        "      continue\n",
        "  return filt_list\n",
        "\n",
        "inp_list=list(input(\"Enter List \").split(\",\"))\n",
        "print(inp_list)\n",
        "print(f\"result is {filter_list(inp_list)}\")"
      ],
      "metadata": {
        "id": "JWwaeuBaBHo8",
        "colab": {
          "base_uri": "https://localhost:8080/"
        },
        "outputId": "55dbd5fb-3789-4a55-a9d0-b571f38eebfc"
      },
      "execution_count": 42,
      "outputs": [
        {
          "output_type": "stream",
          "name": "stdout",
          "text": [
            "Enter List iwuf,123,sdiff,1,2,3\n",
            "['iwuf', '123', 'sdiff', '1', '2', '3']\n",
            "result is ['123', '1', '2', '3']\n"
          ]
        }
      ]
    },
    {
      "cell_type": "markdown",
      "source": [
        "Question 2\n",
        "\n",
        "The &quot;Reverser&quot; takes a string as input and returns that string in reverse order, with the opposite case.\n",
        "\n",
        "Examples\n",
        "\n",
        "reverse(&quot;Hello World&quot;) ➞ &quot;DLROw OLLEh&quot;\n",
        "\n",
        "reverse(&quot;ReVeRsE&quot;) ➞ &quot;eSrEvEr&quot;\n",
        "\n",
        "reverse(&quot;Radar&quot;) ➞ &quot;RADAr&quot;"
      ],
      "metadata": {
        "id": "3YXBeyoSBJso"
      }
    },
    {
      "cell_type": "code",
      "source": [
        "def reverser(inp):\n",
        "    return inp[-1::-1]\n",
        "inp=(input(\"Enter List \"))\n",
        "print(inp)\n",
        "print(f\"result is '{reverser(inp)}'\")"
      ],
      "metadata": {
        "id": "zoTFBS1CBMxz",
        "colab": {
          "base_uri": "https://localhost:8080/"
        },
        "outputId": "39c069d0-b8ca-4f31-9889-99654d8978bd"
      },
      "execution_count": 48,
      "outputs": [
        {
          "output_type": "stream",
          "name": "stdout",
          "text": [
            "Enter List Hellow World\n",
            "Hellow World\n",
            "result is 'dlroW wolleH'\n"
          ]
        }
      ]
    },
    {
      "cell_type": "markdown",
      "source": [
        "\n",
        "Question 3\n",
        "\n",
        "You can assign variables from lists like this:\n",
        "\n",
        "lst = [1, 2, 3, 4, 5, 6]\n",
        "\n",
        "first = lst[0]\n",
        "\n",
        "middle = lst[1:-1]\n",
        "\n",
        "last = lst[-1]\n",
        "\n",
        "print(first) ➞ outputs 1\n",
        "\n",
        "print(middle) ➞ outputs [2, 3, 4, 5]\n",
        "\n",
        "print(last) ➞ outputs 6\n",
        "\n",
        "With Python 3, you can assign variables from lists in a much more succinct way. \n",
        "Create variables first, middle and last from the given list using destructuring assignment\n",
        "\n",
        "(check the Resources tab for some examples), where:\n",
        "\n",
        "first ➞ 1\n",
        "\n",
        "middle ➞ [2, 3, 4, 5]\n",
        "\n",
        "last ➞ 6\n",
        "\n",
        "Your task is to unpack the list write your code here into three variables, being first, middle, and last, with middle being everything in between the first and last element. Then print all three variables."
      ],
      "metadata": {
        "id": "XxEKoz26BNP4"
      }
    },
    {
      "cell_type": "code",
      "source": [
        "def new_list(inp_list):\n",
        "  first=inp_list[0]\n",
        "  middle=inp_list[1:-1]\n",
        "  last=inp_list[-1]\n",
        "  return first,middle,last\n",
        "  \n",
        "inp_list=list(input(\"Enter List \").split(\",\"))\n",
        "print(inp_list)\n",
        "reslt=new_list(inp_list)\n",
        "print(f\"First {reslt[0]} \\nMiddle {reslt[1]} \\nMiddle {reslt[2]}\")"
      ],
      "metadata": {
        "id": "38Epa20ABUNF",
        "colab": {
          "base_uri": "https://localhost:8080/"
        },
        "outputId": "14cf950b-7aef-43c9-e3a0-c77d22db91f9"
      },
      "execution_count": 58,
      "outputs": [
        {
          "output_type": "stream",
          "name": "stdout",
          "text": [
            "Enter List 1,2,3,4,5\n",
            "['1', '2', '3', '4', '5']\n",
            "First 1 \n",
            "Middle ['2', '3', '4'] \n",
            "Middle 5\n"
          ]
        }
      ]
    }
  ]
}