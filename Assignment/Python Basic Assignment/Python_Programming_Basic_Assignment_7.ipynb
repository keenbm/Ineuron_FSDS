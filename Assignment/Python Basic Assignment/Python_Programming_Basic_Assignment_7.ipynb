{
  "nbformat": 4,
  "nbformat_minor": 0,
  "metadata": {
    "colab": {
      "name": "Python Programming Basic Assignment 7.ipynb",
      "provenance": [],
      "collapsed_sections": [],
      "authorship_tag": "ABX9TyND42UGlnlVf/DKnKcLGcbK",
      "include_colab_link": true
    },
    "kernelspec": {
      "name": "python3",
      "display_name": "Python 3"
    },
    "language_info": {
      "name": "python"
    }
  },
  "cells": [
    {
      "cell_type": "markdown",
      "metadata": {
        "id": "view-in-github",
        "colab_type": "text"
      },
      "source": [
        "<a href=\"https://colab.research.google.com/github/keenbm/Ineuron_FSDS/blob/main/Assignment/Python%20Basic%20Assignment/Python_Programming_Basic_Assignment_7.ipynb\" target=\"_parent\"><img src=\"https://colab.research.google.com/assets/colab-badge.svg\" alt=\"Open In Colab\"/></a>"
      ]
    },
    {
      "cell_type": "markdown",
      "source": [
        "\n",
        "\n",
        "``` \n",
        "Python Programming Basic Assignment 7\n",
        "Name : Bhavikkumar Modi\n",
        "E-mail : bmodi700@gmail.com\n",
        "```\n",
        "\n",
        "\n"
      ],
      "metadata": {
        "id": "RGipmPgKKPru"
      }
    },
    {
      "cell_type": "markdown",
      "source": [
        "1. Write a Python Program to find sum of array?"
      ],
      "metadata": {
        "id": "Vib29FfwERsv"
      }
    },
    {
      "cell_type": "code",
      "source": [
        "\n",
        "a=[1,2,3,4]\n",
        "sum(a)"
      ],
      "metadata": {
        "colab": {
          "base_uri": "https://localhost:8080/"
        },
        "id": "IZeKmsfrEUJL",
        "outputId": "ca60630f-9cf6-4507-d212-821f9178fa13"
      },
      "execution_count": null,
      "outputs": [
        {
          "output_type": "execute_result",
          "data": {
            "text/plain": [
              "10"
            ]
          },
          "metadata": {},
          "execution_count": 4
        }
      ]
    },
    {
      "cell_type": "markdown",
      "source": [
        "2. Write a Python Program to find largest element in an array?"
      ],
      "metadata": {
        "id": "7dVikRxoEUiD"
      }
    },
    {
      "cell_type": "code",
      "source": [
        "# list used instead of array\n",
        "a=[1,2,3,4]\n",
        "max(a)"
      ],
      "metadata": {
        "colab": {
          "base_uri": "https://localhost:8080/"
        },
        "id": "Qy7NRRexEWxH",
        "outputId": "7c3a2fb3-b739-49dc-b5e1-ce83fa8ad4c3"
      },
      "execution_count": null,
      "outputs": [
        {
          "output_type": "execute_result",
          "data": {
            "text/plain": [
              "4"
            ]
          },
          "metadata": {},
          "execution_count": 5
        }
      ]
    },
    {
      "cell_type": "markdown",
      "source": [
        "3. Write a Python Program for array rotation?"
      ],
      "metadata": {
        "id": "r34p1a66EXpI"
      }
    },
    {
      "cell_type": "code",
      "source": [
        "# list used instead of array\n",
        "a=[1,2,3,4,5]\n",
        "rotation_num=2\n",
        "direction=\"Left\"\n",
        "\n",
        "if direction==\"Right\":\n",
        "  a = a[rotation_num:] + a[:rotation_num]\n",
        "elif direction==\"Left\":\n",
        "  a = a[-rotation_num:] + a[:-rotation_num]\n",
        "\n",
        "a"
      ],
      "metadata": {
        "colab": {
          "base_uri": "https://localhost:8080/"
        },
        "id": "W1CMNDkfEYmh",
        "outputId": "25d7940c-16fb-49d3-c7c6-ab98938ce351"
      },
      "execution_count": 12,
      "outputs": [
        {
          "output_type": "execute_result",
          "data": {
            "text/plain": [
              "[4, 5, 1, 2, 3]"
            ]
          },
          "metadata": {},
          "execution_count": 12
        }
      ]
    },
    {
      "cell_type": "markdown",
      "source": [
        "4. Write a Python Program to Split the array and add the first part to the end?"
      ],
      "metadata": {
        "id": "Q3Q2rwDzEZQq"
      }
    },
    {
      "cell_type": "code",
      "source": [
        "# list used instead of array\n",
        "a=[1,2,3,4,5,6]\n",
        "split=len(a)/2\n",
        "split=int(split)\n",
        "split\n",
        "a = a[split:] + a[:split]\n",
        "a"
      ],
      "metadata": {
        "id": "uwNnaCKtEak8",
        "colab": {
          "base_uri": "https://localhost:8080/"
        },
        "outputId": "6a09a08d-2f0d-40f9-ae89-aad1df4642f7"
      },
      "execution_count": 23,
      "outputs": [
        {
          "output_type": "execute_result",
          "data": {
            "text/plain": [
              "[4, 5, 6, 1, 2, 3]"
            ]
          },
          "metadata": {},
          "execution_count": 23
        }
      ]
    },
    {
      "cell_type": "markdown",
      "source": [
        "5. Write a Python Program to check if given array is Monotonic?"
      ],
      "metadata": {
        "id": "RbskKWNGEa_i"
      }
    },
    {
      "cell_type": "code",
      "source": [
        "word=input(\"Input word : \")\n",
        "print(word)\n",
        "for i,j in enumerate(word):\n",
        "  i=i+1\n",
        "  if word[i-1]==word[-i]:\n",
        "    continue\n",
        "    print(\"Monotonic\")\n",
        "  else:\n",
        "    break\n",
        "print(\"Not Monotonic\")"
      ],
      "metadata": {
        "id": "URRp8R6fEbf9",
        "colab": {
          "base_uri": "https://localhost:8080/"
        },
        "outputId": "3ce472a6-d799-42cc-cfe1-56703aa35fbd"
      },
      "execution_count": 43,
      "outputs": [
        {
          "output_type": "stream",
          "name": "stdout",
          "text": [
            "Input word : pop\n",
            "pop\n",
            "Not Monotonic\n"
          ]
        }
      ]
    },
    {
      "cell_type": "code",
      "source": [
        ""
      ],
      "metadata": {
        "id": "bk3vlrGXv5AG"
      },
      "execution_count": 35,
      "outputs": []
    }
  ]
}