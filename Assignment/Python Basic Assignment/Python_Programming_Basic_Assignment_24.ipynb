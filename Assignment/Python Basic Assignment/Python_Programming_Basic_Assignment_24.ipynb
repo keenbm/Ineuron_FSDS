{
  "nbformat": 4,
  "nbformat_minor": 0,
  "metadata": {
    "colab": {
      "name": "Python Programming Basic Assignment 24.ipynb",
      "provenance": [],
      "collapsed_sections": [],
      "authorship_tag": "ABX9TyNYSBEMwRON0Cmz7Z6pbDBv",
      "include_colab_link": true
    },
    "kernelspec": {
      "name": "python3",
      "display_name": "Python 3"
    },
    "language_info": {
      "name": "python"
    }
  },
  "cells": [
    {
      "cell_type": "markdown",
      "metadata": {
        "id": "view-in-github",
        "colab_type": "text"
      },
      "source": [
        "<a href=\"https://colab.research.google.com/github/keenbm/Ineuron_FSDS/blob/main/Assignment/Python%20Basic%20Assignment/Python_Programming_Basic_Assignment_24.ipynb\" target=\"_parent\"><img src=\"https://colab.research.google.com/assets/colab-badge.svg\" alt=\"Open In Colab\"/></a>"
      ]
    },
    {
      "cell_type": "markdown",
      "source": [
        "``` \n",
        "Python Programming Basic Assignment 24\n",
        "Name : Bhavikkumar Modi\n",
        "E-mail : bmodi700@gmail.com\n",
        "```"
      ],
      "metadata": {
        "id": "RGipmPgKKPru"
      }
    },
    {
      "cell_type": "markdown",
      "source": [
        "```\n",
        "Assignment/Python Basic Assignment/\n",
        "```\n"
      ],
      "metadata": {
        "id": "e8wNOIbQvFZm"
      }
    },
    {
      "cell_type": "markdown",
      "source": [
        "Question1\n",
        "\n",
        "Create a function that takes an integer and returns a list from 1 to the given number, where:\n",
        "\n",
        "1. If the number can be divided evenly by 4, amplify it by 10 (i.e. return 10 times the\n",
        "number).\n",
        "\n",
        "2. If the number cannot be divided evenly by 4, simply return the number.\n",
        "\n",
        "Examples\n",
        "\n",
        "amplify(4) ➞ [1, 2, 3, 40]\n",
        "\n",
        "amplify(3) ➞ [1, 2, 3]\n",
        "\n",
        "amplify(25) ➞ [1, 2, 3, 40, 5, 6, 7, 80, 9, 10, 11, 120, 13, 14, 15, 160,\n",
        "17, 18, 19, 200, 21, 22, 23, 240, 25]\n",
        "\n",
        "Notes\n",
        " The given integer will always be equal to or greater than 1.\n",
        "\n",
        " Include the number (see example above).\n",
        "\n",
        " To perform this problem with its intended purpose, try doing it with list\n",
        "comprehensions. If that&#39;s too difficult, just solve the challenge any way you can."
      ],
      "metadata": {
        "id": "GSwHKo2nD_xI"
      }
    },
    {
      "cell_type": "code",
      "source": [
        "def amplify(num):\n",
        "  ans=[]\n",
        "  for i in range(num+1):\n",
        "    if i%4==0:\n",
        "      ans.append(i*10)\n",
        "    else:\n",
        "      ans.append(i)\n",
        "  return ans\n",
        "amplify(4)"
      ],
      "metadata": {
        "colab": {
          "base_uri": "https://localhost:8080/"
        },
        "id": "oAChwWYpEG-9",
        "outputId": "61c29684-06d7-413f-dcf4-2c3c064ee464"
      },
      "execution_count": null,
      "outputs": [
        {
          "output_type": "execute_result",
          "data": {
            "text/plain": [
              "[0, 1, 2, 3, 40]"
            ]
          },
          "metadata": {},
          "execution_count": 64
        }
      ]
    },
    {
      "cell_type": "code",
      "source": [
        "unique([3, 3, 3, 7, 3, 3])"
      ],
      "metadata": {
        "id": "XZkI5cdGELdl"
      },
      "execution_count": null,
      "outputs": []
    },
    {
      "cell_type": "markdown",
      "source": [
        "Question3\n",
        "\n",
        "Your task is to create a Circle constructor that creates a circle with a radius provided by an argument. The circles constructed must have two getters getArea() (PIr^2) and getPerimeter() (2PI*r) which give both respective areas and perimeter (circumference).\n",
        "\n",
        "For help with this class, I have provided you with a Rectangle constructor which you can use as a base example.\n",
        "\n",
        "Examples\n",
        "\n",
        "circy = Circle(11)\n",
        "\n",
        "circy.getArea()\n",
        "\n",
        "'# Should return 380.132711084365\n",
        "\n",
        "circy = Circle(4.44)\n",
        "\n",
        "circy.getPerimeter()\n",
        "\n",
        "'# Should return 27.897342763877365\n",
        "\n",
        "Notes\n",
        "\n",
        "Round results up to the nearest integer."
      ],
      "metadata": {
        "id": "fkJtW9FMELzN"
      }
    },
    {
      "cell_type": "code",
      "source": [
        "class circle():\n",
        "  def __init__(self,radius):\n",
        "    self.radius=radius\n",
        "  \n",
        "  def getArea(self):\n",
        "    try:\n",
        "      return (3.14*(self.radius**2))\n",
        "    except Exception as e:\n",
        "      print(f\"Exception : {e}\")\n",
        "\n",
        "  def getPerimeter(self):\n",
        "    try:\n",
        "      return (2*3.14*self.radius**2)\n",
        "    except Exception as e:\n",
        "      print(f\"Exception : {e}\")\n"
      ],
      "metadata": {
        "id": "QtKsg5mtEOlV"
      },
      "execution_count": 12,
      "outputs": []
    },
    {
      "cell_type": "code",
      "source": [
        "circy = circle(11)\n",
        "print(f\"Area is {round(circy.getArea())} , Perimeter is {round(circy.getPerimeter())}\")"
      ],
      "metadata": {
        "colab": {
          "base_uri": "https://localhost:8080/"
        },
        "id": "bVGtRhHgC48Q",
        "outputId": "ff0c1bff-72e9-4e8e-fdad-7e137891d035"
      },
      "execution_count": 19,
      "outputs": [
        {
          "output_type": "stream",
          "name": "stdout",
          "text": [
            "Area is 380 , Perimeter is 760\n"
          ]
        }
      ]
    },
    {
      "cell_type": "markdown",
      "source": [
        "Question5\n",
        "\n",
        "Create a function that validates whether three given integers form a Pythagorean triplet. The sum of the squares of the two smallest integers must equal the square of the largest number to\n",
        "be validated.\n",
        "\n",
        "Examples\n",
        "\n",
        "is_triplet(3, 4, 5) ➞ True\n",
        "\n",
        "'# 3² + 4² = 25\n",
        "\n",
        "'# 5² = 25\n",
        "\n",
        "is_triplet(13, 5, 12) ➞ True\n",
        "\n",
        "'# 5² + 12² = 169\n",
        "\n",
        "'# 13² = 169\n",
        "\n",
        "is_triplet(1, 2, 3) ➞ False\n",
        "\n",
        "'# 1² + 2² = 5\n",
        "\n",
        "'# 3² = 9\n",
        "\n",
        "Notes\n",
        "\n",
        "Numbers may not be given in a sorted order."
      ],
      "metadata": {
        "id": "JsEmhwtwEdBQ"
      }
    },
    {
      "cell_type": "code",
      "source": [
        "def is_triplet(a,b,c):\n",
        "  list=[]\n",
        "  list.extend([a,b,c])\n",
        "  print(list)\n",
        "  list.sort()\n",
        "  print(list)\n",
        "  if ((list[0]**2)+(list[1]**2))==list[2]**2:\n",
        "    return True\n",
        "  else:\n",
        "     return False\n",
        "\n",
        "is_triplet(13,5,12)"
      ],
      "metadata": {
        "id": "79CHeauiEoMF",
        "colab": {
          "base_uri": "https://localhost:8080/"
        },
        "outputId": "4513a81a-d1af-4e4c-f7e3-5a356f73c128"
      },
      "execution_count": 31,
      "outputs": [
        {
          "output_type": "stream",
          "name": "stdout",
          "text": [
            "[13, 5, 12]\n",
            "[5, 12, 13]\n"
          ]
        },
        {
          "output_type": "execute_result",
          "data": {
            "text/plain": [
              "True"
            ]
          },
          "metadata": {},
          "execution_count": 31
        }
      ]
    },
    {
      "cell_type": "code",
      "source": [
        ""
      ],
      "metadata": {
        "id": "-skhW3qEFQ2Q"
      },
      "execution_count": null,
      "outputs": []
    }
  ]
}