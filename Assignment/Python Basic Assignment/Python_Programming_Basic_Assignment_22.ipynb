{
  "nbformat": 4,
  "nbformat_minor": 0,
  "metadata": {
    "colab": {
      "name": "Python Programming Basic Assignment 22.ipynb",
      "provenance": [],
      "collapsed_sections": [],
      "authorship_tag": "ABX9TyNtUkyLlQqC5Bvoi18/ksPF",
      "include_colab_link": true
    },
    "kernelspec": {
      "name": "python3",
      "display_name": "Python 3"
    },
    "language_info": {
      "name": "python"
    }
  },
  "cells": [
    {
      "cell_type": "markdown",
      "metadata": {
        "id": "view-in-github",
        "colab_type": "text"
      },
      "source": [
        "<a href=\"https://colab.research.google.com/github/keenbm/Ineuron_FSDS/blob/main/Assignment/Python%20Basic%20Assignment/Python_Programming_Basic_Assignment_22.ipynb\" target=\"_parent\"><img src=\"https://colab.research.google.com/assets/colab-badge.svg\" alt=\"Open In Colab\"/></a>"
      ]
    },
    {
      "cell_type": "markdown",
      "source": [
        "``` \n",
        "Python Programming Basic Assignment 22\n",
        "Name : Bhavikkumar Modi\n",
        "E-mail : bmodi700@gmail.com\n",
        "```"
      ],
      "metadata": {
        "id": "RGipmPgKKPru"
      }
    },
    {
      "cell_type": "markdown",
      "source": [
        "```\n",
        "Assignment/Python Basic Assignment/\n",
        "```\n"
      ],
      "metadata": {
        "id": "e8wNOIbQvFZm"
      }
    },
    {
      "cell_type": "markdown",
      "source": [
        "Question1\n",
        "\n",
        "Create a function that takes three parameters where:\n",
        "\n",
        " x is the start of the range (inclusive).\n",
        "\n",
        " y is the end of the range (inclusive).\n",
        "\n",
        " n is the divisor to be checked against.\n",
        "\n",
        "Return an ordered list with numbers in the range that are divisible by the third parameter n.\n",
        "\n",
        "Return an empty list if there are no numbers that are divisible by n.\n",
        "\n",
        "Examples\n",
        "\n",
        "list_operation(1, 10, 3) ➞ [3, 6, 9]\n",
        "\n",
        "list_operation(7, 9, 2) ➞ [8]\n",
        "\n",
        "list_operation(15, 20, 7) ➞ []"
      ],
      "metadata": {
        "id": "iPMvSZss2WrY"
      }
    },
    {
      "cell_type": "code",
      "source": [
        "def list_operation(x,y,n):\n",
        "  ans=[]\n",
        "  for i in range(x,y):\n",
        "    if i%n==0:\n",
        "      ans.append(i)\n",
        "  return ans\n",
        "\n",
        "list_operation(1, 10, 3)"
      ],
      "metadata": {
        "colab": {
          "base_uri": "https://localhost:8080/"
        },
        "id": "bo4O4Kb72fFc",
        "outputId": "a73d7ed5-d38a-4847-9d02-bfa32c14d60b"
      },
      "execution_count": 18,
      "outputs": [
        {
          "output_type": "execute_result",
          "data": {
            "text/plain": [
              "[3, 6, 9]"
            ]
          },
          "metadata": {},
          "execution_count": 18
        }
      ]
    },
    {
      "cell_type": "markdown",
      "source": [
        "Question2\n",
        "\n",
        "Create a function that takes in two lists and returns True if the second list follows the first list by one element, and False otherwise. In other words, determine if the second list is the first list shifted to the right by 1.\n",
        "\n",
        "Examples\n",
        "\n",
        "simon_says([1, 2], [5, 1]) ➞ True\n",
        "\n",
        "simon_says([1, 2], [5, 5]) ➞ False\n",
        "\n",
        "simon_says([1, 2, 3, 4, 5], [0, 1, 2, 3, 4]) ➞ True\n",
        "\n",
        "simon_says([1, 2, 3, 4, 5], [5, 5, 1, 2, 3]) ➞ False\n",
        "\n",
        "Notes\n",
        "\n",
        " Both input lists will be of the same length, and will have a minimum length of 2.\n",
        "\n",
        " The values of the 0-indexed element in the second list and the n-1th indexed element in the first list do not matter."
      ],
      "metadata": {
        "id": "8nu9M9MW2wUB"
      }
    },
    {
      "cell_type": "code",
      "source": [
        "def simon_says(x,y):\n",
        "  x.sort()\n",
        "  y.sort()\n",
        "  count=0\n",
        "  for i in range(len(x)):\n",
        "    if x[i]!=y[i]:\n",
        "      count=count+1\n",
        "    else:\n",
        "      pass\n",
        "  if count==1:\n",
        "    return True\n",
        "  else:\n",
        "    return False\n",
        "simon_says([1, 2], [5, 1])"
      ],
      "metadata": {
        "colab": {
          "base_uri": "https://localhost:8080/"
        },
        "id": "LTd8XY5e25ln",
        "outputId": "26da1d28-7428-4912-ba41-bf5ba186f0bc"
      },
      "execution_count": 30,
      "outputs": [
        {
          "output_type": "execute_result",
          "data": {
            "text/plain": [
              "True"
            ]
          },
          "metadata": {},
          "execution_count": 30
        }
      ]
    },
    {
      "cell_type": "markdown",
      "source": [
        "Question3\n",
        "\n",
        "A group of friends have decided to start a secret society. The name will be the first letter of each of their names, sorted in alphabetical order.\n",
        "\n",
        "Create a function that takes in a list of names and returns the name of the secret society.\n",
        "\n",
        "Examples\n",
        "\n",
        "society_name([&quot;Adam&quot;, &quot;Sarah&quot;, &quot;Malcolm&quot;]) ➞ &quot;AMS&quot;\n",
        "\n",
        "society_name([&quot;Harry&quot;, &quot;Newt&quot;, &quot;Luna&quot;, &quot;Cho&quot;]) ➞ &quot;CHLN&quot;\n",
        "\n",
        "society_name([&quot;Phoebe&quot;, &quot;Chandler&quot;, &quot;Rachel&quot;, &quot;Ross&quot;, &quot;Monica&quot;, &quot;Joey&quot;])"
      ],
      "metadata": {
        "id": "jSuixKA_258K"
      }
    },
    {
      "cell_type": "code",
      "source": [
        "def society_name(list1):\n",
        "  ans=[]\n",
        "  for i in list1:\n",
        "    ans.append(i[0])\n",
        "  return \"\".join(ans)\n",
        "society_name([\"Adam\", \"Sarah\", \"Malcolm\"])"
      ],
      "metadata": {
        "colab": {
          "base_uri": "https://localhost:8080/",
          "height": 35
        },
        "id": "JyRQs9z82_sC",
        "outputId": "9509f3c7-9f39-443f-d1d9-08aed725d5a3"
      },
      "execution_count": 31,
      "outputs": [
        {
          "output_type": "execute_result",
          "data": {
            "application/vnd.google.colaboratory.intrinsic+json": {
              "type": "string"
            },
            "text/plain": [
              "'ASM'"
            ]
          },
          "metadata": {},
          "execution_count": 31
        }
      ]
    },
    {
      "cell_type": "markdown",
      "source": [
        "Question4\n",
        "\n",
        "An isogram is a word that has no duplicate letters. Create a function that takes a string and returns either True or False depending on whether or not it&#39;s an &quot;isogram&quot;.\n",
        "\n",
        "Examples\n",
        "\n",
        "is_isogram(&quot;Algorism&quot;) ➞ True\n",
        "\n",
        "is_isogram(&quot;PasSword&quot;) ➞ False\n",
        "\n",
        "'# Not case sensitive.\n",
        "\n",
        "is_isogram(&quot;Consecutive&quot;) ➞ False\n",
        "\n",
        "Notes\n",
        "\n",
        " Ignore letter case (should not be case sensitive).\n",
        "\n",
        " All test cases contain valid one word strings."
      ],
      "metadata": {
        "id": "m9w0JdXw3AUT"
      }
    },
    {
      "cell_type": "code",
      "source": [
        "def is_isogram(string):\n",
        "  x=len(set(string))\n",
        "  y=len(string)\n",
        "\n",
        "  if x==y:\n",
        "    return True\n",
        "  else:\n",
        "    return False\n",
        "\n",
        "\n",
        "is_isogram(\"Algorism\")"
      ],
      "metadata": {
        "colab": {
          "base_uri": "https://localhost:8080/"
        },
        "id": "DhzMgW8c3DzO",
        "outputId": "0cf51557-1b6e-4891-9e69-2ce9f8d65811"
      },
      "execution_count": 35,
      "outputs": [
        {
          "output_type": "execute_result",
          "data": {
            "text/plain": [
              "True"
            ]
          },
          "metadata": {},
          "execution_count": 35
        }
      ]
    },
    {
      "cell_type": "code",
      "source": [
        ""
      ],
      "metadata": {
        "id": "jeHqJDyq3RWH"
      },
      "execution_count": null,
      "outputs": []
    }
  ]
}