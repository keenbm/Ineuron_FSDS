{
  "nbformat": 4,
  "nbformat_minor": 0,
  "metadata": {
    "colab": {
      "name": "Python Programming Basic Assignment 2.ipynb",
      "provenance": [],
      "collapsed_sections": [],
      "authorship_tag": "ABX9TyPQuPCFuIC4OkmBhvLOTf2e",
      "include_colab_link": true
    },
    "kernelspec": {
      "name": "python3",
      "display_name": "Python 3"
    },
    "language_info": {
      "name": "python"
    }
  },
  "cells": [
    {
      "cell_type": "markdown",
      "metadata": {
        "id": "view-in-github",
        "colab_type": "text"
      },
      "source": [
        "<a href=\"https://colab.research.google.com/github/keenbm/Ineuron_FSDS/blob/main/Assignment/Python%20Basic%20Assignment/Python_Programming_Basic_Assignment_2.ipynb\" target=\"_parent\"><img src=\"https://colab.research.google.com/assets/colab-badge.svg\" alt=\"Open In Colab\"/></a>"
      ]
    },
    {
      "cell_type": "markdown",
      "source": [
        "\n",
        "\n",
        "``` \n",
        "Python Programming Basic Assignment 2\n",
        "Name : Bhavikkumar Modi\n",
        "E-mail : bmodi700@gmail.com\n",
        "```\n",
        "\n",
        "\n"
      ],
      "metadata": {
        "id": "RGipmPgKKPru"
      }
    },
    {
      "cell_type": "markdown",
      "source": [
        "Write a Python program to convert kilometers to miles?"
      ],
      "metadata": {
        "id": "sponyiNVKAb9"
      }
    },
    {
      "cell_type": "code",
      "source": [
        "Km=input(\"Enter KM value \")\n",
        "Mile=float(Km)*1.609\n",
        "print(\"Mile = \",Mile)"
      ],
      "metadata": {
        "colab": {
          "base_uri": "https://localhost:8080/"
        },
        "id": "kCO8daBBKGN7",
        "outputId": "3b7d15b7-6701-40dd-86df-5c1a84a32bf9"
      },
      "execution_count": 15,
      "outputs": [
        {
          "output_type": "stream",
          "name": "stdout",
          "text": [
            "Enter KM value 1\n",
            "Mile =  1.609\n"
          ]
        }
      ]
    },
    {
      "cell_type": "markdown",
      "source": [
        "Write a Python program to convert Celsius to Fahrenheit?"
      ],
      "metadata": {
        "id": "Ft11BDwJKGW5"
      }
    },
    {
      "cell_type": "code",
      "source": [
        "Cel=input(\"Enter Celsius \")\n",
        "Fah=(float(Cel)*(9/5))+ 32\n",
        "print(\"Fahrenheit = \",Fah)"
      ],
      "metadata": {
        "colab": {
          "base_uri": "https://localhost:8080/"
        },
        "id": "0ZbwVfZkLXjw",
        "outputId": "7248f3ad-33d5-4c1b-da3f-a6ce05db7661"
      },
      "execution_count": 17,
      "outputs": [
        {
          "output_type": "stream",
          "name": "stdout",
          "text": [
            "Enter Celsius 10\n",
            "Fahrenheit =  50.0\n"
          ]
        }
      ]
    },
    {
      "cell_type": "markdown",
      "source": [
        "Write a Python program to display calendar?"
      ],
      "metadata": {
        "id": "RNMczjfzKVhh"
      }
    },
    {
      "cell_type": "code",
      "source": [
        "import calendar\n",
        "yy = int(input(\"Enter year in yy: \"))\n",
        "mm = int(input(\"Enter month in mm: \"))\n",
        "print(calendar.month(yy, mm))"
      ],
      "metadata": {
        "colab": {
          "base_uri": "https://localhost:8080/"
        },
        "id": "m_pQdM8QMIR-",
        "outputId": "d23a6bee-eb6d-40cc-e558-4ff799176a69"
      },
      "execution_count": 19,
      "outputs": [
        {
          "output_type": "stream",
          "name": "stdout",
          "text": [
            "Enter year in yy: 94\n",
            "Enter month in mm: 7\n",
            "      July 94\n",
            "Mo Tu We Th Fr Sa Su\n",
            "          1  2  3  4\n",
            " 5  6  7  8  9 10 11\n",
            "12 13 14 15 16 17 18\n",
            "19 20 21 22 23 24 25\n",
            "26 27 28 29 30 31\n",
            "\n"
          ]
        }
      ]
    },
    {
      "cell_type": "markdown",
      "source": [
        "Write a Python program to solve quadratic equation?"
      ],
      "metadata": {
        "id": "APNJH12XKefy"
      }
    },
    {
      "cell_type": "code",
      "source": [
        "import cmath\n",
        "\n",
        "a = 1\n",
        "b = 5\n",
        "c = 6\n",
        "\n",
        "d = (b**2) - (4*a*c)\n",
        "\n",
        "sl1 = (-b-cmath.sqrt(d))/(2*a)\n",
        "sl2 = (-b+cmath.sqrt(d))/(2*a)\n",
        "\n",
        "print('The solution are {0} and {1}'.format(sl1,sl2))"
      ],
      "metadata": {
        "colab": {
          "base_uri": "https://localhost:8080/"
        },
        "id": "RS7TL8MfMWJz",
        "outputId": "125e0f4f-5291-4cc5-8bd1-996072af85d8"
      },
      "execution_count": 20,
      "outputs": [
        {
          "output_type": "stream",
          "name": "stdout",
          "text": [
            "The solution are (-3+0j) and (-2+0j)\n"
          ]
        }
      ]
    },
    {
      "cell_type": "markdown",
      "source": [
        "Write a Python program to swap two variables without temp variable?"
      ],
      "metadata": {
        "id": "JIAM4-vyKi0x"
      }
    },
    {
      "cell_type": "code",
      "source": [
        "A=\"Hello\"\n",
        "B=\"Welcom\"\n",
        "print(\"Before \" + \"A = \"+ A + \" B = \"+B)\n",
        "A,B=B,A\n",
        "print(\"After \" + \"A = \"+ A + \" B = \"+B)"
      ],
      "metadata": {
        "colab": {
          "base_uri": "https://localhost:8080/"
        },
        "id": "djhqQ0gZMy57",
        "outputId": "8da39537-66df-4973-bd6e-caf83f3b3c12"
      },
      "execution_count": 26,
      "outputs": [
        {
          "output_type": "stream",
          "name": "stdout",
          "text": [
            "Before A = Hello B = Welcom\n",
            "After A = Welcom B = Hello\n"
          ]
        }
      ]
    }
  ]
}