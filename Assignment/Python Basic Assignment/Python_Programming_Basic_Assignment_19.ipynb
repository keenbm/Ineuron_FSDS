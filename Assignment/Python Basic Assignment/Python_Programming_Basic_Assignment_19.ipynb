{
  "nbformat": 4,
  "nbformat_minor": 0,
  "metadata": {
    "colab": {
      "name": "Python Programming Basic Assignment 19.ipynb",
      "provenance": [],
      "collapsed_sections": [],
      "authorship_tag": "ABX9TyNWfqPVl7YMJwgbC0jiIHZ6",
      "include_colab_link": true
    },
    "kernelspec": {
      "name": "python3",
      "display_name": "Python 3"
    },
    "language_info": {
      "name": "python"
    }
  },
  "cells": [
    {
      "cell_type": "markdown",
      "metadata": {
        "id": "view-in-github",
        "colab_type": "text"
      },
      "source": [
        "<a href=\"https://colab.research.google.com/github/keenbm/Ineuron_FSDS/blob/main/Assignment/Python%20Basic%20Assignment/Python_Programming_Basic_Assignment_19.ipynb\" target=\"_parent\"><img src=\"https://colab.research.google.com/assets/colab-badge.svg\" alt=\"Open In Colab\"/></a>"
      ]
    },
    {
      "cell_type": "markdown",
      "source": [
        "``` \n",
        "Python Programming Basic Assignment 19\n",
        "Name : Bhavikkumar Modi\n",
        "E-mail : bmodi700@gmail.com\n",
        "```"
      ],
      "metadata": {
        "id": "RGipmPgKKPru"
      }
    },
    {
      "cell_type": "markdown",
      "source": [
        "```\n",
        "Assignment/Python Basic Assignment/\n",
        "```\n",
        "\n"
      ],
      "metadata": {
        "id": "e8wNOIbQvFZm"
      }
    },
    {
      "cell_type": "markdown",
      "source": [
        "Question1\n",
        "\n",
        "Create a function that takes a string and returns a string in which each character is repeated once.\n",
        "\n",
        "Examples\n",
        "\n",
        "double_char(&quot;String&quot;) ➞ &quot;SSttrriinngg&quot;\n",
        "\n",
        "double_char(&quot;Hello World!&quot;) ➞ &quot;HHeelllloo WWoorrlldd!!&quot;\n",
        "\n",
        "double_char(&quot;1234!_ &quot;) ➞ &quot;11223344!!__ &quot;"
      ],
      "metadata": {
        "id": "FIizSIN0d_Yb"
      }
    },
    {
      "cell_type": "code",
      "source": [
        "inp=(input(\"Enter String \"))\n",
        "print(inp)\n",
        "print(f\"result is '{double_char(inp)}'\")"
      ],
      "metadata": {
        "colab": {
          "base_uri": "https://localhost:8080/"
        },
        "id": "gh5p-z-_eFqc",
        "outputId": "69ad5a28-b4ec-4e05-b68d-d5d2ff09bb1b"
      },
      "execution_count": 79,
      "outputs": [
        {
          "output_type": "stream",
          "name": "stdout",
          "text": [
            "Enter String String\n",
            "String\n",
            "result is 'SSttrriinngg'\n"
          ]
        }
      ]
    },
    {
      "cell_type": "code",
      "source": [
        "def double_char(inp):\n",
        "  new_string=[]\n",
        "  for i,j in enumerate(inp):\n",
        "    new_string.append(j)\n",
        "    new_string.append(j)\n",
        "  new_string=\"\".join(new_string)\n",
        "  return str(new_string)"
      ],
      "metadata": {
        "id": "8XCy3HjtgET8"
      },
      "execution_count": 77,
      "outputs": []
    },
    {
      "cell_type": "markdown",
      "source": [
        "Question2\n",
        "\n",
        "Create a function that reverses a boolean value and returns the string &quot;boolean expected&quot;\n",
        "\n",
        "if another variable type is given.\n",
        "\n",
        "Examples\n",
        "\n",
        "reverse(True) ➞ False\n",
        "\n",
        "reverse(False) ➞ True\n",
        "\n",
        "reverse(0) ➞ &quot;boolean expected&quot;\n",
        "\n",
        "reverse(None) ➞ &quot;boolean expected&quot;"
      ],
      "metadata": {
        "id": "EzVVZ8kgeJFk"
      }
    },
    {
      "cell_type": "code",
      "source": [
        "def reverse(state):\n",
        "  if state==\"True\":\n",
        "    return \"False\"\n",
        "  elif state==\"False\":\n",
        "    return \"True\"\n",
        "  else:\n",
        "    return \"boolean expected\"\n",
        "\n",
        "inp=input(\"Enter Bool. value : \")\n",
        "print(f\"reverse val is : {reverse(inp)}\")\n",
        "\n"
      ],
      "metadata": {
        "colab": {
          "base_uri": "https://localhost:8080/"
        },
        "id": "hDPJCOE7eLdP",
        "outputId": "717494dc-62fe-4d57-949f-76eaf8eedb2f"
      },
      "execution_count": 81,
      "outputs": [
        {
          "output_type": "stream",
          "name": "stdout",
          "text": [
            "Enter Bool. value : 0\n",
            "reverse val is : boolean expected\n"
          ]
        }
      ]
    },
    {
      "cell_type": "markdown",
      "source": [
        "Question3\n",
        "\n",
        "Create a function that returns the thickness (in meters) of a piece of paper after folding it n\n",
        "number of times. The paper starts off with a thickness of 0.5mm.\n",
        "\n",
        "Examples\n",
        "\n",
        "num_layers(1) ➞ &quot;0.001m&quot;\n",
        "\n",
        "'# Paper folded once is 1mm (equal to 0.001m)\n",
        "\n",
        "num_layers(4) ➞ &quot;0.008m&quot;\n",
        "\n",
        "'# Paper folded 4 times is 8mm (equal to 0.008m)\n",
        "\n",
        "num_layers(21) ➞ &quot;1048.576m&quot;\n",
        "\n",
        "'# Paper folded 21 times is 1048576mm (equal to 1048.576m)"
      ],
      "metadata": {
        "id": "zoehPeBZeUZr"
      }
    },
    {
      "cell_type": "code",
      "source": [
        "def num_layers(num):\n",
        "  return num*0.001\n",
        "\n",
        "num=int(input(\"Enter number of fold : \"))\n",
        "print(f\"Thickness of {num} fold is {num_layers(num)}\")"
      ],
      "metadata": {
        "colab": {
          "base_uri": "https://localhost:8080/"
        },
        "id": "lwstMtvdeU0S",
        "outputId": "0da96514-8ad5-492d-ea94-9e697b281d58"
      },
      "execution_count": 83,
      "outputs": [
        {
          "output_type": "stream",
          "name": "stdout",
          "text": [
            "Enter number of fold : 5\n",
            "Thickness of 5 fold is 0.005\n"
          ]
        }
      ]
    },
    {
      "cell_type": "markdown",
      "source": [
        "Question4\n",
        "\n",
        "Create a function that takes a single string as argument and returns an ordered list containing the indices of all capital letters in the string.\n",
        "\n",
        "Examples\n",
        "\n",
        "index_of_caps(&quot;eDaBiT&quot;) ➞ [1, 3, 5]\n",
        "\n",
        "index_of_caps(&quot;eQuINoX&quot;) ➞ [1, 3, 4, 6]\n",
        "\n",
        "index_of_caps(&quot;determine&quot;) ➞ []\n",
        "\n",
        "index_of_caps(&quot;STRIKE&quot;) ➞ [0, 1, 2, 3, 4, 5]\n",
        "\n",
        "index_of_caps(&quot;sUn&quot;) ➞ [1]"
      ],
      "metadata": {
        "id": "W1iD_P5eeVea"
      }
    },
    {
      "cell_type": "code",
      "source": [
        "def index_of_caps(inp):\n",
        "  ans=[]\n",
        "  for i,j in enumerate(inp):\n",
        "    if j.isupper:\n",
        "      ans.append(i)\n",
        "    else:\n",
        "      continue\n",
        "\n",
        "  return ans\n",
        "\n",
        "\n",
        "inp=input(\"Enter string : \")\n",
        "print(f\"Answer is : {index_of_caps(inp)}\")"
      ],
      "metadata": {
        "id": "y2fn96xdeass"
      },
      "execution_count": null,
      "outputs": []
    },
    {
      "cell_type": "markdown",
      "source": [
        "Question5\n",
        "\n",
        "Using list comprehensions, create a function that finds all even numbers from 1 to the given number.\n",
        "\n",
        "Examples\n",
        "\n",
        "find_even_nums(8) ➞ [2, 4, 6, 8]\n",
        "\n",
        "find_even_nums(4) ➞ [2, 4]\n",
        "\n",
        "find_even_nums(2) ➞ [2]"
      ],
      "metadata": {
        "id": "JDT3McbLebXr"
      }
    },
    {
      "cell_type": "code",
      "source": [
        "num=int(input(\"Enter Nth num : \"))\n",
        "[i for i in range(0,num) if i%2==0]"
      ],
      "metadata": {
        "colab": {
          "base_uri": "https://localhost:8080/"
        },
        "id": "HH13BSrieqVz",
        "outputId": "105cc388-eb0d-4edb-a9e2-a021d468befe"
      },
      "execution_count": 101,
      "outputs": [
        {
          "name": "stdout",
          "output_type": "stream",
          "text": [
            "Enter Nth num : 5\n"
          ]
        },
        {
          "output_type": "execute_result",
          "data": {
            "text/plain": [
              "[0, 2, 4]"
            ]
          },
          "metadata": {},
          "execution_count": 101
        }
      ]
    }
  ]
}