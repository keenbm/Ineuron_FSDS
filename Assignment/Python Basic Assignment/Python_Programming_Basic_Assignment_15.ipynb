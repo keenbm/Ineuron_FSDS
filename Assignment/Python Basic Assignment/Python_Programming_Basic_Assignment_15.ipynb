{
  "nbformat": 4,
  "nbformat_minor": 0,
  "metadata": {
    "colab": {
      "name": "Python Programming Basic Assignment 15.ipynb",
      "provenance": [],
      "collapsed_sections": [],
      "authorship_tag": "ABX9TyM0uNDlyPBasubKXS5Wq1kB",
      "include_colab_link": true
    },
    "kernelspec": {
      "name": "python3",
      "display_name": "Python 3"
    },
    "language_info": {
      "name": "python"
    }
  },
  "cells": [
    {
      "cell_type": "markdown",
      "metadata": {
        "id": "view-in-github",
        "colab_type": "text"
      },
      "source": [
        "<a href=\"https://colab.research.google.com/github/keenbm/Ineuron_FSDS/blob/main/Assignment/Python%20Basic%20Assignment/Python_Programming_Basic_Assignment_15.ipynb\" target=\"_parent\"><img src=\"https://colab.research.google.com/assets/colab-badge.svg\" alt=\"Open In Colab\"/></a>"
      ]
    },
    {
      "cell_type": "markdown",
      "source": [
        "\n",
        "\n",
        "``` \n",
        "Python Programming Basic Assignment 15\n",
        "Name : Bhavikkumar Modi\n",
        "E-mail : bmodi700@gmail.com\n",
        "```\n",
        "\n",
        "\n"
      ],
      "metadata": {
        "id": "RGipmPgKKPru"
      }
    },
    {
      "cell_type": "markdown",
      "source": [
        "```\n",
        "Assignment/Python Basic Assignment/\n",
        "```\n",
        "\n"
      ],
      "metadata": {
        "id": "e8wNOIbQvFZm"
      }
    },
    {
      "cell_type": "markdown",
      "source": [
        "Question 1:\n",
        "\n",
        "Please write a program using generator to print the numbers which can be divisible by 5 and 7 between 0 and n in comma separated form while n is input by console.\n",
        "\n",
        "Example:\n",
        "\n",
        "If the following n is given as input to the program:\n",
        "\n",
        "100\n",
        "\n",
        "Then, the output of the program should be:\n",
        "\n",
        "0,35,70"
      ],
      "metadata": {
        "id": "PxSq1upUvKhE"
      }
    },
    {
      "cell_type": "code",
      "source": [
        "num=int(input(\"Enter Nth number : \"))\n",
        "for i in range(0,num):\n",
        "  if i%5==0 and i%7==0:\n",
        "    print(i)"
      ],
      "metadata": {
        "id": "5eLwHaSEvQkD",
        "colab": {
          "base_uri": "https://localhost:8080/"
        },
        "outputId": "83f3a2b0-4107-4224-e0fe-31e331765661"
      },
      "execution_count": 2,
      "outputs": [
        {
          "output_type": "stream",
          "name": "stdout",
          "text": [
            "Enter Nth number : 100\n",
            "0\n",
            "35\n",
            "70\n"
          ]
        }
      ]
    },
    {
      "cell_type": "markdown",
      "source": [
        "Question 2:\n",
        "\n",
        "Please write a program using generator to print the even numbers between 0 and n in comma separated form while n is input by console.\n",
        "\n",
        "Example:\n",
        "\n",
        "If the following n is given as input to the program:\n",
        "\n",
        "10\n",
        "\n",
        "Then, the output of the program should be:\n",
        "\n",
        "0,2,4,6,8,10"
      ],
      "metadata": {
        "id": "AGCGUu1tvU9O"
      }
    },
    {
      "cell_type": "code",
      "source": [
        "num=int(input(\"Enter Nth number : \"))\n",
        "even=[]\n",
        "for i in range(0,num):\n",
        "  if i%2==0:\n",
        "    even.append(i)\n",
        "print(even)"
      ],
      "metadata": {
        "colab": {
          "base_uri": "https://localhost:8080/"
        },
        "id": "qKCVo6iAoRLn",
        "outputId": "90d86c8f-2411-4b80-9bf5-6c99b492caa9"
      },
      "execution_count": 7,
      "outputs": [
        {
          "output_type": "stream",
          "name": "stdout",
          "text": [
            "Enter Nth number : 10\n",
            "[0, 2, 4, 6, 8]\n"
          ]
        }
      ]
    },
    {
      "cell_type": "markdown",
      "source": [
        "Question 3:\n",
        "\n",
        "The Fibonacci Sequence is computed based on the following formula:\n",
        "\n",
        "f(n)=0 if n=0\n",
        "f(n)=1 if n=1\n",
        "f(n)=f(n-1)+f(n-2) if n&gt;1\n",
        "\n",
        "Please write a program using list comprehension to print the Fibonacci Sequence in comma separated form with a given n input by console.\n",
        "\n",
        "Example:\n",
        "\n",
        "If the following n is given as input to the program:\n",
        "\n",
        "7\n",
        "\n",
        "Then, the output of the program should be:\n",
        "\n",
        "0,1,1,2,3,5,8,13"
      ],
      "metadata": {
        "id": "6dLWv3C0vdje"
      }
    },
    {
      "cell_type": "code",
      "source": [
        "num=int(input(\"Enter Nth number : \"))\n",
        "mylist=[0,1]  \n",
        "[mylist.append(mylist[-2]+mylist[-1]) for num in range(num-1)]\n",
        "print(mylist) "
      ],
      "metadata": {
        "colab": {
          "base_uri": "https://localhost:8080/"
        },
        "id": "BiXHA84ypyhv",
        "outputId": "b91f1107-cdac-4350-bcba-314889c3c885"
      },
      "execution_count": 11,
      "outputs": [
        {
          "output_type": "stream",
          "name": "stdout",
          "text": [
            "Enter Nth number : 7\n",
            "[0, 1, 1, 2, 3, 5, 8, 13]\n"
          ]
        }
      ]
    },
    {
      "cell_type": "markdown",
      "source": [
        "Question 5:\n",
        "\n",
        "Assuming that we have some email addresses in the &quot;username@companyname.com&quot; format, please write program to print the user name of a given email address. Both user names and company names are composed of letters only.\n",
        "\n",
        "Example:\n",
        "\n",
        "If the following email address is given as input to the program:\n",
        "\n",
        "john@google.com\n",
        "\n",
        "Then, the output of the program should be:\n",
        "\n",
        "john"
      ],
      "metadata": {
        "id": "OWGSHnDGvlDa"
      }
    },
    {
      "cell_type": "code",
      "source": [
        "num=input(\"Enter Email : \")\n",
        "ind=num.index(\"@\")\n",
        "print(num[0:ind])"
      ],
      "metadata": {
        "colab": {
          "base_uri": "https://localhost:8080/"
        },
        "id": "8hF1vXuDrKr7",
        "outputId": "ba59153c-480d-41ce-9ca7-1731f591bd80"
      },
      "execution_count": 14,
      "outputs": [
        {
          "output_type": "stream",
          "name": "stdout",
          "text": [
            "Enter Email : john@google.com\n",
            "john\n"
          ]
        }
      ]
    }
  ]
}