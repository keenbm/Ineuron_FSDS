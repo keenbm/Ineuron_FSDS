{
  "nbformat": 4,
  "nbformat_minor": 0,
  "metadata": {
    "colab": {
      "name": "Python Programming Basic Assignment 11.ipynb",
      "provenance": [],
      "collapsed_sections": [],
      "authorship_tag": "ABX9TyPqq7KBd+e7N1F4j3hdbbAm",
      "include_colab_link": true
    },
    "kernelspec": {
      "name": "python3",
      "display_name": "Python 3"
    },
    "language_info": {
      "name": "python"
    }
  },
  "cells": [
    {
      "cell_type": "markdown",
      "metadata": {
        "id": "view-in-github",
        "colab_type": "text"
      },
      "source": [
        "<a href=\"https://colab.research.google.com/github/keenbm/Ineuron_FSDS/blob/main/Assignment/Python%20Basic%20Assignment/Python_Programming_Basic_Assignment_11.ipynb\" target=\"_parent\"><img src=\"https://colab.research.google.com/assets/colab-badge.svg\" alt=\"Open In Colab\"/></a>"
      ]
    },
    {
      "cell_type": "markdown",
      "source": [
        "\n",
        "\n",
        "``` \n",
        "Python Programming Basic Assignment 11\n",
        "Name : Bhavikkumar Modi\n",
        "E-mail : bmodi700@gmail.com\n",
        "```\n",
        "\n",
        "\n"
      ],
      "metadata": {
        "id": "RGipmPgKKPru"
      }
    },
    {
      "cell_type": "markdown",
      "source": [
        "1. Write a Python program to find words which are greater than given length k?"
      ],
      "metadata": {
        "id": "e2D0PqI10_oG"
      }
    },
    {
      "cell_type": "code",
      "source": [
        "word=str(input(\"Enter word : \"))\n",
        "number=int(input(\"Enter number : \"))\n",
        "\n",
        "if len(word)>number:\n",
        "  print(f\"Lenght of {word} is higher than {number}\")"
      ],
      "metadata": {
        "colab": {
          "base_uri": "https://localhost:8080/"
        },
        "id": "aillSI1hOSJZ",
        "outputId": "2bf7c97b-5b90-4d9e-ce17-9edd0838e761"
      },
      "execution_count": null,
      "outputs": [
        {
          "output_type": "stream",
          "name": "stdout",
          "text": [
            "Enter word : Bhavik\n",
            "Enter number : 3\n",
            "Lenght of Bhavik is higher than 3\n"
          ]
        }
      ]
    },
    {
      "cell_type": "markdown",
      "source": [
        "2. Write a Python program for removing i-th character from a string?"
      ],
      "metadata": {
        "id": "AnXnZnOVH6b2"
      }
    },
    {
      "cell_type": "code",
      "source": [
        "word=str(input(\"Enter word : \"))\n",
        "number=int(input(\"Enter number : \"))\n",
        "a = word[ : number] \n",
        "b = word[number + 1: ]\n",
        "print(f\"New String is {a+b}\")"
      ],
      "metadata": {
        "colab": {
          "base_uri": "https://localhost:8080/"
        },
        "id": "FZVFoPHSORwA",
        "outputId": "0b7f4975-31b8-4f08-84db-264ad82ffc03"
      },
      "execution_count": null,
      "outputs": [
        {
          "output_type": "stream",
          "name": "stdout",
          "text": [
            "Enter word : Bhavik\n",
            "Enter number : 3\n",
            "New String is Bhaik\n"
          ]
        }
      ]
    },
    {
      "cell_type": "markdown",
      "source": [
        "3. Write a Python program to split and join a string?"
      ],
      "metadata": {
        "id": "b5552JEuH8OZ"
      }
    },
    {
      "cell_type": "code",
      "source": [
        "word1=\"Hello World.\"\n",
        "word2=\"Hello Python.\"\n",
        "splitstr=word1.split()\n",
        "print(f\"Splited string is {splitstr}\")\n",
        "print(f\"Joined string is {word1+word2}\")"
      ],
      "metadata": {
        "colab": {
          "base_uri": "https://localhost:8080/"
        },
        "id": "dMYAT_NSSo_i",
        "outputId": "ea4daf49-0026-422a-c84b-1bc0c292dd9c"
      },
      "execution_count": null,
      "outputs": [
        {
          "output_type": "stream",
          "name": "stdout",
          "text": [
            "Splited string is ['Hello', 'World.']\n",
            "Joined string is Hello World.Hello Python.\n"
          ]
        }
      ]
    },
    {
      "cell_type": "markdown",
      "source": [
        "4. Write a Python to check if a given string is binary string or not?"
      ],
      "metadata": {
        "id": "1s43fUfVH-0W"
      }
    },
    {
      "cell_type": "code",
      "source": [
        "word=str(input(\"Enter word : \"))\n",
        "word_set=set(word)\n",
        "s = {'0', '1'}\n",
        "if s == word_set or word_set == {'0'} or word_set == {'1'}:\n",
        "  print(\"Entered string is Binary\")\n",
        "else :\n",
        "  print(\"Entered string is Not Binary\")\n",
        " "
      ],
      "metadata": {
        "colab": {
          "base_uri": "https://localhost:8080/"
        },
        "id": "LvQgfFAjTy1m",
        "outputId": "16a1bb1a-664a-4888-8984-591b9334ea54"
      },
      "execution_count": null,
      "outputs": [
        {
          "output_type": "stream",
          "name": "stdout",
          "text": [
            "Enter word : 111101\n",
            "Entered string is Binary\n"
          ]
        }
      ]
    },
    {
      "cell_type": "markdown",
      "source": [
        "5. Write a Python program to find uncommon words from two Strings?"
      ],
      "metadata": {
        "id": "CYzi5Z1hIAZ4"
      }
    },
    {
      "cell_type": "code",
      "source": [
        "Word1=\"Bhavik Modi\"\n",
        "Word2=\"Bhavik Python\"\n",
        "flag=[]\n",
        "Word1=Word1.split()\n",
        "Word2=Word2.split()\n",
        "\n",
        "for word in Word1:\n",
        "  if word not in Word2:\n",
        "    flag.append(word)\n",
        "for word in Word2:\n",
        "  if word not in Word1:\n",
        "    flag.append(word)\n",
        "\n",
        "print(f\"Uncommon words are : {flag}\")\n"
      ],
      "metadata": {
        "id": "dz3oV2dCn-1P",
        "colab": {
          "base_uri": "https://localhost:8080/"
        },
        "outputId": "a73fffb2-171c-48d6-c6fd-4fecaaf7797e"
      },
      "execution_count": 5,
      "outputs": [
        {
          "output_type": "stream",
          "name": "stdout",
          "text": [
            "Uncommon words are : ['Modi', 'Python']\n"
          ]
        }
      ]
    },
    {
      "cell_type": "markdown",
      "source": [
        "6. Write a Python to find all duplicate characters in string?"
      ],
      "metadata": {
        "id": "MHkiWojyICOX"
      }
    },
    {
      "cell_type": "code",
      "source": [
        "String=\"Bhavik Modi\"\n",
        "flag=[]\n",
        "for i in String.lower():\n",
        "  if String.lower().count(i)>1:\n",
        "    flag.append(i)\n",
        "\n",
        "print(f\"Duplicated value in string are : {set(flag)} \")\n"
      ],
      "metadata": {
        "colab": {
          "base_uri": "https://localhost:8080/"
        },
        "id": "Mnu68T8_t-xz",
        "outputId": "80d17d29-6ea2-4575-fcd3-f469b348c9d0"
      },
      "execution_count": 15,
      "outputs": [
        {
          "output_type": "stream",
          "name": "stdout",
          "text": [
            "Duplicated value in string are : {'i'} \n"
          ]
        }
      ]
    },
    {
      "cell_type": "markdown",
      "source": [
        "7. Write a Python Program to check if a string contains any special character?"
      ],
      "metadata": {
        "id": "u5QPfRHbIDrX"
      }
    },
    {
      "cell_type": "code",
      "source": [
        "import re\n",
        "def spc(string):\n",
        "    regex = re.compile('[@_!#$%^&*()<>?/\\|}{~:]')  \n",
        "    if(regex.search(string) == None):\n",
        "        print(\"String dont have any special char\")\n",
        "          \n",
        "    else:\n",
        "        print(\"String contains special char.\")\n",
        "spc(\"udf723498723r*&^*^\")"
      ],
      "metadata": {
        "id": "tCsKirmNH5wo",
        "colab": {
          "base_uri": "https://localhost:8080/"
        },
        "outputId": "e797d53c-a5cd-4e00-eaaf-7ae1aba65a15"
      },
      "execution_count": 17,
      "outputs": [
        {
          "output_type": "stream",
          "name": "stdout",
          "text": [
            "String contains special char.\n"
          ]
        }
      ]
    }
  ]
}