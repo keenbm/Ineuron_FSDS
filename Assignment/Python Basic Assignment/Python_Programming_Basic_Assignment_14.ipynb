{
  "nbformat": 4,
  "nbformat_minor": 0,
  "metadata": {
    "colab": {
      "name": "Python Programming Basic Assignment 14.ipynb",
      "provenance": [],
      "collapsed_sections": [],
      "authorship_tag": "ABX9TyPI5eHw0pgxD1Uakmqq2MNB",
      "include_colab_link": true
    },
    "kernelspec": {
      "name": "python3",
      "display_name": "Python 3"
    },
    "language_info": {
      "name": "python"
    }
  },
  "cells": [
    {
      "cell_type": "markdown",
      "metadata": {
        "id": "view-in-github",
        "colab_type": "text"
      },
      "source": [
        "<a href=\"https://colab.research.google.com/github/keenbm/Ineuron_FSDS/blob/main/Assignment/Python%20Basic%20Assignment/Python_Programming_Basic_Assignment_14.ipynb\" target=\"_parent\"><img src=\"https://colab.research.google.com/assets/colab-badge.svg\" alt=\"Open In Colab\"/></a>"
      ]
    },
    {
      "cell_type": "markdown",
      "source": [
        "\n",
        "\n",
        "``` \n",
        "Python Programming Basic Assignment 14\n",
        "Name : Bhavikkumar Modi\n",
        "E-mail : bmodi700@gmail.com\n",
        "```\n",
        "\n",
        "\n"
      ],
      "metadata": {
        "id": "RGipmPgKKPru"
      }
    },
    {
      "cell_type": "markdown",
      "source": [
        "Question 1:\n",
        "\n",
        "Define a class with a generator which can iterate the numbers, which are divisible by\n",
        "7, between a given range 0 and n."
      ],
      "metadata": {
        "id": "fiu_WNMAft7q"
      }
    },
    {
      "cell_type": "code",
      "source": [
        "itr=int(int(input(\"Enter Nth number >7 : \")))\n",
        "for i in range(0,itr,7):\n",
        "  print(i)"
      ],
      "metadata": {
        "colab": {
          "base_uri": "https://localhost:8080/"
        },
        "id": "ufhvJ_i5gvzi",
        "outputId": "1e3a33e8-a1c6-4ffc-948e-d5582fd6f205"
      },
      "execution_count": 98,
      "outputs": [
        {
          "output_type": "stream",
          "name": "stdout",
          "text": [
            "Enter Nth number >7 : 100\n",
            "0\n",
            "7\n",
            "14\n",
            "21\n",
            "28\n",
            "35\n",
            "42\n",
            "49\n",
            "56\n",
            "63\n",
            "70\n",
            "77\n",
            "84\n",
            "91\n",
            "98\n"
          ]
        }
      ]
    },
    {
      "cell_type": "markdown",
      "source": [
        "Question 2:\n",
        "\n",
        "Write a program to compute the frequency of the words from the input. The output\n",
        "should output after sorting the key alphanumerically.\n",
        "\n",
        "Suppose the following input is supplied to the program:\n",
        "\n",
        "New to Python or choosing between Python 2 and Python 3? Read Python 2 or\n",
        "Python 3.\n",
        "\n",
        "Then, the output should be:\n",
        "\n",
        "2:2\n",
        "\n",
        "3.:1\n",
        "\n",
        "3?:1\n",
        "\n",
        "New:1\n",
        "\n",
        "Python:5\n",
        "\n",
        "Read:1\n",
        "\n",
        "and:1\n",
        "\n",
        "between:1\n",
        "\n",
        "choosing:1\n",
        "\n",
        "or:2\n",
        "\n",
        "to:1"
      ],
      "metadata": {
        "id": "oEn65EMafxDZ"
      }
    },
    {
      "cell_type": "code",
      "source": [
        "sen=str(input(\"Enter sentence : \"))\n",
        "sen_list=sen.split(\" \")\n",
        "lib=set(sen_list)\n",
        "\n",
        "for i,word in enumerate(lib):\n",
        "  count=sen_list.count(word)\n",
        "  print(f\"Frequency of {word} is {count}  \")\n",
        "  "
      ],
      "metadata": {
        "colab": {
          "base_uri": "https://localhost:8080/"
        },
        "id": "zSIZXaDEf6WG",
        "outputId": "8d9a41ea-e98f-431a-c16a-6bb827ef2bc5"
      },
      "execution_count": 100,
      "outputs": [
        {
          "output_type": "stream",
          "name": "stdout",
          "text": [
            "Enter sentence : New to Python or choosing between Python 2 and Python 3? Read Python 2 or Python 3.\n",
            "Frequency of New is 1  \n",
            "Frequency of Python is 5  \n",
            "Frequency of choosing is 1  \n",
            "Frequency of or is 2  \n",
            "Frequency of 3. is 1  \n",
            "Frequency of 3? is 1  \n",
            "Frequency of to is 1  \n",
            "Frequency of and is 1  \n",
            "Frequency of 2 is 2  \n",
            "Frequency of Read is 1  \n",
            "Frequency of between is 1  \n"
          ]
        }
      ]
    },
    {
      "cell_type": "markdown",
      "source": [
        "Question 3:\n",
        "\n",
        "Define a class Person and its two child classes: Male and Female. All classes have a\n",
        "method &quot;getGender&quot; which can print &quot;Male&quot; for Male class and &quot;Female&quot; for Female\n",
        "class."
      ],
      "metadata": {
        "id": "tIO8GmUHf9qa"
      }
    },
    {
      "cell_type": "code",
      "source": [
        "class Person(object):\n",
        "    def getGender(self):\n",
        "        return \"Unknown\"\n",
        "\n",
        "class Male(Person):\n",
        "    def getGender(self):\n",
        "        return \"Male\"\n",
        "\n",
        "class Female(Person):\n",
        "    def getGender(self):\n",
        "        return \"Female\"\n",
        "\n",
        "Male = Male()\n",
        "Female= Female()\n",
        "print(Male.getGender())\n",
        "print(Female.getGender())"
      ],
      "metadata": {
        "colab": {
          "base_uri": "https://localhost:8080/"
        },
        "id": "a2g9zSgSmej1",
        "outputId": "031cc952-cdf7-4cf0-e2c9-ddda69252e5f"
      },
      "execution_count": 104,
      "outputs": [
        {
          "output_type": "stream",
          "name": "stdout",
          "text": [
            "Male\n",
            "Female\n"
          ]
        }
      ]
    },
    {
      "cell_type": "markdown",
      "source": [
        "Question 4:\n",
        "Please write a program to generate all sentences where subject is in [&quot;I&quot;, &quot;You&quot;] and\n",
        "verb is in [&quot;Play&quot;, &quot;Love&quot;] and the object is in [&quot;Hockey&quot;,&quot;Football&quot;]."
      ],
      "metadata": {
        "id": "c4jaH3zJgBDb"
      }
    },
    {
      "cell_type": "code",
      "source": [
        "List1=[\"I\", \"You\"]\n",
        "List2=[\"Play\", \"Love\"]\n",
        "List3=[\"Hockey\",\"Football\"]\n",
        "\n",
        "for i in List1:\n",
        " \n",
        "  for j in List2:\n",
        "    \n",
        "    for k in List3:\n",
        "      print(i,j,k)"
      ],
      "metadata": {
        "colab": {
          "base_uri": "https://localhost:8080/"
        },
        "id": "9pkdPdFSrasu",
        "outputId": "d14632eb-989a-4e18-c858-f0e6bd1d622a"
      },
      "execution_count": 114,
      "outputs": [
        {
          "output_type": "stream",
          "name": "stdout",
          "text": [
            "I Play Hockey\n",
            "I Play Football\n",
            "I Love Hockey\n",
            "I Love Football\n",
            "You Play Hockey\n",
            "You Play Football\n",
            "You Love Hockey\n",
            "You Love Football\n"
          ]
        }
      ]
    },
    {
      "cell_type": "markdown",
      "source": [
        "Question 5:\n",
        "Please write a program to compress and decompress the string \n",
        "\n",
        "&quot;hello world!hello world!hello world!hello world!&quot;."
      ],
      "metadata": {
        "id": "aw8e3CbwgDkr"
      }
    },
    {
      "cell_type": "code",
      "source": [
        "import zlib\n",
        "sen = \"hello world!hello world!hello world!hello world!\"\n",
        "y = bytes(sen, 'utf-8')\n",
        "t = zlib.compress(y)\n",
        "print(t)\n",
        "print(zlib.decompress(t))"
      ],
      "metadata": {
        "colab": {
          "base_uri": "https://localhost:8080/"
        },
        "id": "mJYBp0JLtNs1",
        "outputId": "bed26037-df83-4f26-96aa-9dc2a8bc8c38"
      },
      "execution_count": 123,
      "outputs": [
        {
          "output_type": "stream",
          "name": "stdout",
          "text": [
            "b'x\\x9c\\xcbH\\xcd\\xc9\\xc9W(\\xcf/\\xcaIQ\\xcc \\x82\\r\\x00\\xbd[\\x11\\xf5'\n",
            "b'hello world!hello world!hello world!hello world!'\n"
          ]
        }
      ]
    },
    {
      "cell_type": "markdown",
      "source": [
        "Question 6:\n",
        "Please write a binary search function which searches an item in a sorted list. The\n",
        "function should return the index of element to be searched in the list."
      ],
      "metadata": {
        "id": "413_xqPggFo7"
      }
    },
    {
      "cell_type": "code",
      "source": [
        "import math\n",
        "def bin_search(li, element):\n",
        "    bottom = 0\n",
        "    top = len(li)-1\n",
        "    index = -1\n",
        "    while top>=bottom and index==-1:\n",
        "        mid = int(math.floor((top+bottom)/2.0))\n",
        "        if li[mid]==element:\n",
        "            index = mid\n",
        "        elif li[mid]>element:\n",
        "            top = mid-1\n",
        "        else:\n",
        "            bottom = mid+1\n",
        "\n",
        "    return index\n",
        "\n",
        "li=[2,5,7,9,11,17,222]\n",
        "print(bin_search(li,11))\n",
        "print(bin_search(li,12))"
      ],
      "metadata": {
        "colab": {
          "base_uri": "https://localhost:8080/"
        },
        "id": "-2IH0hmJgIky",
        "outputId": "3c8cd267-59b2-4538-b0ca-4a1448d9f037"
      },
      "execution_count": 125,
      "outputs": [
        {
          "output_type": "stream",
          "name": "stdout",
          "text": [
            "4\n",
            "-1\n"
          ]
        }
      ]
    },
    {
      "cell_type": "code",
      "source": [
        ""
      ],
      "metadata": {
        "id": "t1NGbPRagmTa"
      },
      "execution_count": null,
      "outputs": []
    }
  ]
}