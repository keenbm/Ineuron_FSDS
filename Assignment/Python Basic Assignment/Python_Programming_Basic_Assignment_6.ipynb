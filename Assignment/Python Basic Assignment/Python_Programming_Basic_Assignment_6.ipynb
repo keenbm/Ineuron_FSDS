{
  "nbformat": 4,
  "nbformat_minor": 0,
  "metadata": {
    "colab": {
      "name": "Python Programming Basic Assignment 6.ipynb",
      "provenance": [],
      "collapsed_sections": [],
      "authorship_tag": "ABX9TyPba7VB0aXdoG2kygzgUqOZ",
      "include_colab_link": true
    },
    "kernelspec": {
      "name": "python3",
      "display_name": "Python 3"
    },
    "language_info": {
      "name": "python"
    }
  },
  "cells": [
    {
      "cell_type": "markdown",
      "metadata": {
        "id": "view-in-github",
        "colab_type": "text"
      },
      "source": [
        "<a href=\"https://colab.research.google.com/github/keenbm/Ineuron_FSDS/blob/main/Assignment/Python%20Basic%20Assignment/Python_Programming_Basic_Assignment_6.ipynb\" target=\"_parent\"><img src=\"https://colab.research.google.com/assets/colab-badge.svg\" alt=\"Open In Colab\"/></a>"
      ]
    },
    {
      "cell_type": "markdown",
      "source": [
        "\n",
        "\n",
        "``` \n",
        "Python Programming Basic Assignment 6\n",
        "Name : Bhavikkumar Modi\n",
        "E-mail : bmodi700@gmail.com\n",
        "```\n",
        "\n",
        "\n"
      ],
      "metadata": {
        "id": "RGipmPgKKPru"
      }
    },
    {
      "cell_type": "markdown",
      "source": [
        "1. Write a Python Program to Display Fibonacci Sequence Using Recursion?"
      ],
      "metadata": {
        "id": "0qefQ6Gbldtt"
      }
    },
    {
      "cell_type": "code",
      "source": [
        "def input_fun():\n",
        "  flag=True\n",
        "  while flag:\n",
        "    try:\n",
        "      Terms=int(input(\"Input Number terms (>0) : \"))\n",
        "      if Terms<=0:\n",
        "        raise Exception(\"Input Should not be <=0 \")     \n",
        "      flag=False\n",
        "      return Terms\n",
        "    except Exception as Ex:\n",
        "      print(f\"Enter valid Positive integer number\\nError : {Ex}\")\n",
        "\n",
        "def rec_fib(Terms):\n",
        "  if Terms<= 1:\n",
        "    return Terms\n",
        "  return rec_fib(Terms-1)+rec_fib(Terms-2)\n"
      ],
      "metadata": {
        "id": "nuiu3jLUlmrf"
      },
      "execution_count": 54,
      "outputs": []
    },
    {
      "cell_type": "code",
      "source": [
        "Terms=input_fun()\n",
        "a=[]\n",
        "for i in range(0,Terms):\n",
        "  a.append(rec_fib(i))\n",
        "a"
      ],
      "metadata": {
        "colab": {
          "base_uri": "https://localhost:8080/"
        },
        "id": "6jJWcqTeuJDB",
        "outputId": "2391e2e6-cc44-4aa5-8d3d-e7f38f2f8c97"
      },
      "execution_count": 55,
      "outputs": [
        {
          "name": "stdout",
          "output_type": "stream",
          "text": [
            "Input Number terms (>0) : 10\n"
          ]
        },
        {
          "output_type": "execute_result",
          "data": {
            "text/plain": [
              "[0, 1, 1, 2, 3, 5, 8, 13, 21, 34]"
            ]
          },
          "metadata": {},
          "execution_count": 55
        }
      ]
    },
    {
      "cell_type": "markdown",
      "source": [
        "2. Write a Python Program to Find Factorial of Number Using Recursion?"
      ],
      "metadata": {
        "id": "2-kSgMOtlfzL"
      }
    },
    {
      "cell_type": "code",
      "source": [
        "def fact(Terms):\n",
        "  if Terms<= 1:\n",
        "    return 1\n",
        "  return Terms*fact(Terms-1)\n",
        "\n",
        "Terms=input_fun()\n",
        "fact(Terms)"
      ],
      "metadata": {
        "colab": {
          "base_uri": "https://localhost:8080/"
        },
        "id": "PWOi6SB4xpHS",
        "outputId": "33833d43-ec4a-4fb7-8b61-777a2de5f45a"
      },
      "execution_count": 63,
      "outputs": [
        {
          "name": "stdout",
          "output_type": "stream",
          "text": [
            "Input Number terms (>0) : 10\n"
          ]
        },
        {
          "output_type": "execute_result",
          "data": {
            "text/plain": [
              "3628800"
            ]
          },
          "metadata": {},
          "execution_count": 63
        }
      ]
    },
    {
      "cell_type": "markdown",
      "source": [
        "3. Write a Python Program to calculate your Body Mass Index?"
      ],
      "metadata": {
        "id": "WRpqP9rxliQB"
      }
    },
    {
      "cell_type": "code",
      "source": [
        "We=float(input(\"Enter Body weight in kg : \"))\n",
        "He=float(input(\"Enter Body Height in m : \"))\n",
        "BMI=We/(He**2)\n",
        "print(f\"You BMI is {BMI}\")"
      ],
      "metadata": {
        "colab": {
          "base_uri": "https://localhost:8080/"
        },
        "id": "uFthedlyBNnx",
        "outputId": "851d096e-4131-44bf-d016-cf883caaf595"
      },
      "execution_count": 65,
      "outputs": [
        {
          "output_type": "stream",
          "name": "stdout",
          "text": [
            "Enter Body weight in kg : 72\n",
            "Enter Body Height in m : 1.79\n",
            "You BMI is 22.47120876377142\n"
          ]
        }
      ]
    },
    {
      "cell_type": "markdown",
      "source": [
        "4. Write a Python Program to calculate the natural logarithm of any number?"
      ],
      "metadata": {
        "id": "XpKLptlhlj-A"
      }
    },
    {
      "cell_type": "code",
      "source": [
        "import math\n",
        "Num=float(input(\"Enter number : \"))\n",
        "print (f\"Natural logarithm of {Num} is : {math.log(Num)}\")"
      ],
      "metadata": {
        "colab": {
          "base_uri": "https://localhost:8080/"
        },
        "id": "IJeH4jLsB3Iz",
        "outputId": "2491915d-f7b5-493d-828c-063e61c55572"
      },
      "execution_count": 71,
      "outputs": [
        {
          "output_type": "stream",
          "name": "stdout",
          "text": [
            "Enter number : 10\n",
            "Natural logarithm of 10.0 is : 2.302585092994046\n"
          ]
        }
      ]
    },
    {
      "cell_type": "markdown",
      "source": [
        "5. Write a Python Program for cube sum of first n natural numbers?"
      ],
      "metadata": {
        "id": "T5uadxC5llqJ"
      }
    },
    {
      "cell_type": "code",
      "source": [
        "def cube_fun(Terms):\n",
        "  if Terms<=1:\n",
        "    return 1\n",
        "  return ((Terms**3)+(cube_fun(Terms-1)))\n",
        "\n",
        "\n",
        "Terms=input_fun()\n",
        "print(f\"Cube of the first {Terms} naurral number is {cube_fun(Terms)}\")"
      ],
      "metadata": {
        "colab": {
          "base_uri": "https://localhost:8080/"
        },
        "id": "OyMHkVBmjgo5",
        "outputId": "3d12b2f6-8ee7-419e-866c-e6502eaa78f1"
      },
      "execution_count": 79,
      "outputs": [
        {
          "output_type": "stream",
          "name": "stdout",
          "text": [
            "Input Number terms (>0) : 10\n",
            "Cube of the first 10 naurral number is 3025\n"
          ]
        }
      ]
    },
    {
      "cell_type": "code",
      "source": [
        ""
      ],
      "metadata": {
        "id": "1Eqs43WtB7pD"
      },
      "execution_count": null,
      "outputs": []
    }
  ]
}