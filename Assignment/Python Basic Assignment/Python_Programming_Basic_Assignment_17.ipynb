{
  "nbformat": 4,
  "nbformat_minor": 0,
  "metadata": {
    "colab": {
      "name": "Python Programming Basic Assignment 17.ipynb",
      "provenance": [],
      "collapsed_sections": [],
      "authorship_tag": "ABX9TyNnQvJRUSZcX5WWZfeZjlY6",
      "include_colab_link": true
    },
    "kernelspec": {
      "name": "python3",
      "display_name": "Python 3"
    },
    "language_info": {
      "name": "python"
    }
  },
  "cells": [
    {
      "cell_type": "markdown",
      "metadata": {
        "id": "view-in-github",
        "colab_type": "text"
      },
      "source": [
        "<a href=\"https://colab.research.google.com/github/keenbm/Ineuron_FSDS/blob/main/Assignment/Python%20Basic%20Assignment/Python_Programming_Basic_Assignment_17.ipynb\" target=\"_parent\"><img src=\"https://colab.research.google.com/assets/colab-badge.svg\" alt=\"Open In Colab\"/></a>"
      ]
    },
    {
      "cell_type": "markdown",
      "source": [
        "``` \n",
        "Python Programming Basic Assignment 17\n",
        "Name : Bhavikkumar Modi\n",
        "E-mail : bmodi700@gmail.com\n",
        "```"
      ],
      "metadata": {
        "id": "RGipmPgKKPru"
      }
    },
    {
      "cell_type": "markdown",
      "source": [
        "```\n",
        "Assignment/Python Basic Assignment/\n",
        "```\n",
        "\n"
      ],
      "metadata": {
        "id": "e8wNOIbQvFZm"
      }
    },
    {
      "cell_type": "markdown",
      "source": [
        "Question1. \n",
        "\n",
        "Create a function that takes three arguments a, b, c and returns the sum of the\n",
        "numbers that are evenly divided by c from the range a, b inclusive.\n",
        "\n",
        "Examples\n",
        "\n",
        "evenly_divisible(1, 10, 20) ➞ 0\n",
        "\n",
        "'# No number between 1 and 10 can be evenly divided by 20.\n",
        "\n",
        "evenly_divisible(1, 10, 2) ➞ 30\n",
        "\n",
        "'# 2 + 4 + 6 + 8 + 10 = 30\n",
        "\n",
        "evenly_divisible(1, 10, 3) ➞ 18\n",
        "\n",
        "'# 3 + 6 + 9 = 18"
      ],
      "metadata": {
        "id": "6OuhxG6I1ElX"
      }
    },
    {
      "cell_type": "code",
      "source": [
        "def evenly(a,b,c):\n",
        "  sum=0\n",
        "  for i in range(a,b):\n",
        "    if i%c==0:\n",
        "      sum=sum+i\n",
        "  return sum\n",
        "a,b,c=input(\"Enter a,b,c :\").split(\",\")\n",
        "print(f\"Sum is : {evenly(int(a),int(b),int(c))}\")"
      ],
      "metadata": {
        "colab": {
          "base_uri": "https://localhost:8080/"
        },
        "id": "wqcU5Pj71HVM",
        "outputId": "513898de-33b6-46b5-d39c-112472d827be"
      },
      "execution_count": 42,
      "outputs": [
        {
          "output_type": "stream",
          "name": "stdout",
          "text": [
            "Enter a,b,c :1,10,3\n",
            "Sum is : 18\n"
          ]
        }
      ]
    },
    {
      "cell_type": "markdown",
      "source": [
        "Question2. \n",
        "\n",
        "Create a function that returns True if a given inequality expression is correct and False otherwise.\n",
        "\n",
        "Examples\n",
        "\n",
        "correct_signs(&quot;3 &lt; 7 &lt; 11&quot;) ➞ True\n",
        "\n",
        "correct_signs(&quot;13 &gt; 44 &gt; 33 &gt; 1&quot;) ➞ False\n",
        "\n",
        "correct_signs(&quot;1 &lt; 2 &lt; 6 &lt; 9 &gt; 3&quot;) ➞ True"
      ],
      "metadata": {
        "id": "Wf7nkLU61Hww"
      }
    },
    {
      "cell_type": "code",
      "source": [
        "def correct_signs(string):\n",
        "  length=len(string)\n",
        "  list2=string[1:length:2]\n",
        "  list1=list(string[0:length:2])\n",
        "  list3=list1.copy()  \n",
        "  \n",
        "  if list2[0]==\"<\":\n",
        "    \n",
        "    list1.sort(reverse=False)\n",
        "    if list1==list3:\n",
        "      print(\"True\")\n",
        "    else:\n",
        "      print(\"False\")\n",
        "  \n",
        "  if list2[0]==\">\":\n",
        "    \n",
        "    list1.sort(reverse=True)\n",
        "    if list1==list3:\n",
        "      print(\"True\")\n",
        "    else:\n",
        "      print(\"False\")\n",
        "\n",
        "inpt=input(\"Enter String : \")\n",
        "correct_signs(inpt)"
      ],
      "metadata": {
        "colab": {
          "base_uri": "https://localhost:8080/"
        },
        "id": "ESB_Kf8V1MO-",
        "outputId": "ab308517-ed5c-4ae6-d053-370c571c6ee8"
      },
      "execution_count": 89,
      "outputs": [
        {
          "output_type": "stream",
          "name": "stdout",
          "text": [
            "Enter String : 1<2<3\n",
            "True\n"
          ]
        }
      ]
    },
    {
      "cell_type": "markdown",
      "source": [
        "Question3.\n",
        "\n",
        "Create a function that replaces all the vowels in a string with a specified character.\n",
        "\n",
        "Examples\n",
        "\n",
        "replace_vowels(&quot;the aardvark&quot;, &quot;#&quot;) ➞ &quot;th# ##rdv#rk&quot;\n",
        "\n",
        "replace_vowels(&quot;minnie mouse&quot;, &quot;?&quot;) ➞ &quot;m?nn?? m??s?&quot;\n",
        "\n",
        "replace_vowels(&quot;shakespeare&quot;, &quot;*&quot;) ➞ &quot;sh*k*sp**r*&quot;"
      ],
      "metadata": {
        "id": "cLiNS3N41Mnf"
      }
    },
    {
      "cell_type": "code",
      "source": [
        "def replace_vowels(strng,sign):\n",
        "  vowels=\"aeiouAEIOU\"\n",
        "  list_strng=list(strng)\n",
        "  for i,j in enumerate(list_strng):\n",
        "    if j in vowels:\n",
        "      list_strng[i]=sign\n",
        "  new_strng=\"\".join(list_strng)\n",
        "  return new_strng\n",
        "\n",
        "strng,sign=input(\"Enter string and Sign: \").split(\",\")\n",
        "replace_vowels(strng,sign)\n"
      ],
      "metadata": {
        "colab": {
          "base_uri": "https://localhost:8080/",
          "height": 52
        },
        "id": "70HrS_NW1QPz",
        "outputId": "5366f93d-92bc-435c-ae94-59d297113597"
      },
      "execution_count": 108,
      "outputs": [
        {
          "name": "stdout",
          "output_type": "stream",
          "text": [
            "Enter string and Sign: the aardvark,#\n"
          ]
        },
        {
          "output_type": "execute_result",
          "data": {
            "application/vnd.google.colaboratory.intrinsic+json": {
              "type": "string"
            },
            "text/plain": [
              "'th# ##rdv#rk'"
            ]
          },
          "metadata": {},
          "execution_count": 108
        }
      ]
    },
    {
      "cell_type": "markdown",
      "source": [
        "Question4. \n",
        "\n",
        "Write a function that calculates the factorial of a number recursively.\n",
        "\n",
        "Examples\n",
        "\n",
        "factorial(5) ➞ 120\n",
        "\n",
        "factorial(3) ➞ 6\n",
        "\n",
        "factorial(1) ➞ 1\n",
        "\n",
        "factorial(0) ➞ 1"
      ],
      "metadata": {
        "id": "szqa4DsN1SXw"
      }
    },
    {
      "cell_type": "code",
      "source": [
        "def factorial(num):\n",
        "  if num == 1:\n",
        "       return num\n",
        "  else:\n",
        "       return num*factorial(num-1)\n",
        "\n",
        "num=int(input(\"Enter NUm : \"))\n",
        "print(f\"Factorial is {factorial(num)}\")"
      ],
      "metadata": {
        "colab": {
          "base_uri": "https://localhost:8080/"
        },
        "id": "ICkO5viH9M2h",
        "outputId": "10c4745b-e601-4ac7-b587-744828c0b089"
      },
      "execution_count": 114,
      "outputs": [
        {
          "output_type": "stream",
          "name": "stdout",
          "text": [
            "Enter NUm : 1\n",
            "Factorial is 1\n"
          ]
        }
      ]
    },
    {
      "cell_type": "markdown",
      "source": [
        "Question 5\n",
        "\n",
        "Hamming distance is the number of characters that differ between two strings.\n",
        "\n",
        "To illustrate:\n",
        "\n",
        "String1: &quot;abcbba&quot;\n",
        "\n",
        "String2: &quot;abcbda&quot;\n",
        "\n",
        "Hamming Distance: 1 - &quot;b&quot; vs. &quot;d&quot; is the only difference.\n",
        "\n",
        "Create a function that computes the hamming distance between two strings.\n",
        "\n",
        "Examples\n",
        "\n",
        "hamming_distance(&quot;abcde&quot;, &quot;bcdef&quot;) ➞ 5\n",
        "\n",
        "hamming_distance(&quot;abcde&quot;, &quot;abcde&quot;) ➞ 0\n",
        "\n",
        "hamming_distance(&quot;strong&quot;, &quot;strung&quot;) ➞ 1"
      ],
      "metadata": {
        "id": "dNW_lR-m1URI"
      }
    },
    {
      "cell_type": "code",
      "source": [
        "def hamming_distance(str1,str2):\n",
        "  sum=0\n",
        "  for i in range(len(str1)):\n",
        "    if str1[i]!=str2[i]:\n",
        "      sum=sum+1\n",
        "    else:\n",
        "      continue\n",
        "  return sum\n",
        "str1,str2=input(\"Enter str1 and str2 : \").split(\",\")\n",
        "print(f\"hamming_distance is {hamming_distance(str1,str2)}\")"
      ],
      "metadata": {
        "colab": {
          "base_uri": "https://localhost:8080/"
        },
        "id": "6oggH2dg1aRD",
        "outputId": "4fb953de-7c40-4445-ac66-5570032bb894"
      },
      "execution_count": 118,
      "outputs": [
        {
          "output_type": "stream",
          "name": "stdout",
          "text": [
            "Enter str1 and str2 : abcde,bcdef\n",
            "hamming_distance is 5\n"
          ]
        }
      ]
    }
  ]
}