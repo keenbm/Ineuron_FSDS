{
  "nbformat": 4,
  "nbformat_minor": 0,
  "metadata": {
    "colab": {
      "name": "Python Programming Basic Assignment 4.ipynb",
      "provenance": [],
      "collapsed_sections": [],
      "authorship_tag": "ABX9TyOxBbCpdtD6Oa5l1Gxg62QH",
      "include_colab_link": true
    },
    "kernelspec": {
      "name": "python3",
      "display_name": "Python 3"
    },
    "language_info": {
      "name": "python"
    }
  },
  "cells": [
    {
      "cell_type": "markdown",
      "metadata": {
        "id": "view-in-github",
        "colab_type": "text"
      },
      "source": [
        "<a href=\"https://colab.research.google.com/github/keenbm/Ineuron_FSDS/blob/main/Assignment/Python%20Basic%20Assignment/Python_Programming_Basic_Assignment_4.ipynb\" target=\"_parent\"><img src=\"https://colab.research.google.com/assets/colab-badge.svg\" alt=\"Open In Colab\"/></a>"
      ]
    },
    {
      "cell_type": "markdown",
      "source": [
        "\n",
        "\n",
        "``` \n",
        "Python Programming Basic Assignment 4\n",
        "Name : Bhavikkumar Modi\n",
        "E-mail : bmodi700@gmail.com\n",
        "```\n",
        "\n",
        "\n"
      ],
      "metadata": {
        "id": "RGipmPgKKPru"
      }
    },
    {
      "cell_type": "markdown",
      "source": [
        "1. Write a Python Program to Find the Factorial of a Number?"
      ],
      "metadata": {
        "id": "tPOGRWvcZBFH"
      }
    },
    {
      "cell_type": "code",
      "source": [
        "Num= int(input(\"Enter Number : \"))\n",
        "fact = 1\n",
        "for i in range(Num,1,-1):\n",
        "  fact=fact*i\n",
        "print(\"Factorial of \" , Num , \" is \", fact)"
      ],
      "metadata": {
        "colab": {
          "base_uri": "https://localhost:8080/"
        },
        "id": "eHGIXK-PjLDZ",
        "outputId": "0c8a46de-451d-491f-85c3-8704f1fb2418"
      },
      "execution_count": 105,
      "outputs": [
        {
          "output_type": "stream",
          "name": "stdout",
          "text": [
            "Enter Number : 7\n",
            "Factorial of  7  is  5040\n"
          ]
        }
      ]
    },
    {
      "cell_type": "markdown",
      "source": [
        "2. Write a Python Program to Display the multiplication Table?"
      ],
      "metadata": {
        "id": "Vu5Gisr6Y5r6"
      }
    },
    {
      "cell_type": "code",
      "source": [
        "Num= int(input(\"Enter Number : \"))\n",
        "for i in range(1, 11):\n",
        "   print(Num, 'x', i, '=', Num*i)"
      ],
      "metadata": {
        "colab": {
          "base_uri": "https://localhost:8080/"
        },
        "id": "reCrNKG6tS8Q",
        "outputId": "ce765632-9c5a-4e32-9294-1bf9eb4e8ccb"
      },
      "execution_count": 108,
      "outputs": [
        {
          "output_type": "stream",
          "name": "stdout",
          "text": [
            "Enter Number : 3\n",
            "3 x 1 = 3\n",
            "3 x 2 = 6\n",
            "3 x 3 = 9\n",
            "3 x 4 = 12\n",
            "3 x 5 = 15\n",
            "3 x 6 = 18\n",
            "3 x 7 = 21\n",
            "3 x 8 = 24\n",
            "3 x 9 = 27\n",
            "3 x 10 = 30\n"
          ]
        }
      ]
    },
    {
      "cell_type": "markdown",
      "source": [
        "3. Write a Python Program to Print the Fibonacci sequence?"
      ],
      "metadata": {
        "id": "ATx6xTjMY7sD"
      }
    },
    {
      "cell_type": "code",
      "source": [
        "Num= int(input(\"Enter total required number : \"))\n",
        "A=0\n",
        "B=1\n",
        "\n",
        "for i in range(0,Num):\n",
        "  print(A)\n",
        "  next = A + B\n",
        "  A = B\n",
        "  B = next"
      ],
      "metadata": {
        "colab": {
          "base_uri": "https://localhost:8080/"
        },
        "id": "za1tyJ9PMxXU",
        "outputId": "e83bb6fc-aa8c-46af-9c37-1e77942e8db9"
      },
      "execution_count": 133,
      "outputs": [
        {
          "output_type": "stream",
          "name": "stdout",
          "text": [
            "Enter total required number : 6\n",
            "0\n",
            "1\n",
            "1\n",
            "2\n",
            "3\n",
            "5\n"
          ]
        }
      ]
    },
    {
      "cell_type": "markdown",
      "source": [
        "4. Write a Python Program to Check Armstrong Number?"
      ],
      "metadata": {
        "id": "1kr82VqiY9DN"
      }
    },
    {
      "cell_type": "code",
      "source": [
        "Num= str(input(\"Enter number : \"))\n",
        "len(Num)\n",
        "x=0\n",
        "sum=0\n",
        "for i in Num:\n",
        "  sum=sum+int(i)**3\n",
        "print(sum)\n",
        "if sum==int(Num):\n",
        "  print(\"Armstrong NUmber\")\n",
        "else:\n",
        "  print(\"Not Armstrong\")"
      ],
      "metadata": {
        "colab": {
          "base_uri": "https://localhost:8080/"
        },
        "id": "jtB_ZGg7QogS",
        "outputId": "5acb18b4-4cb9-4da4-8484-6d5e2a975a98"
      },
      "execution_count": 164,
      "outputs": [
        {
          "output_type": "stream",
          "name": "stdout",
          "text": [
            "Enter number : 153\n",
            "153\n",
            "Armstrong NUmber\n"
          ]
        }
      ]
    },
    {
      "cell_type": "markdown",
      "source": [
        "5. Write a Python Program to Find Armstrong Number in an Interval?"
      ],
      "metadata": {
        "id": "jjN0lT_DY-nB"
      }
    },
    {
      "cell_type": "code",
      "source": [
        "st= int(input(\"Enter start number : \"))\n",
        "ed= int(input(\"Enter end number : \"))\n",
        "\n",
        "for i in range(st,ed+1):\n",
        "  temp=0\n",
        "  Num=str(i)\n",
        "  for j in Num:\n",
        "    temp=temp+(int(j)**3)\n",
        "  if temp==int(Num):\n",
        "    print(Num)"
      ],
      "metadata": {
        "colab": {
          "base_uri": "https://localhost:8080/"
        },
        "id": "zCveuX59QpSM",
        "outputId": "8600f79b-724d-4769-e16b-81c17a56c905"
      },
      "execution_count": 189,
      "outputs": [
        {
          "output_type": "stream",
          "name": "stdout",
          "text": [
            "Enter start number : 0\n",
            "Enter end number : 500\n",
            "0\n",
            "1\n",
            "153\n",
            "370\n",
            "371\n",
            "407\n"
          ]
        }
      ]
    },
    {
      "cell_type": "markdown",
      "source": [
        "6. Write a Python Program to Find the Sum of Natural Numbers?"
      ],
      "metadata": {
        "id": "EVh36XLCZALX"
      }
    },
    {
      "cell_type": "code",
      "source": [
        "st= int(input(\"Enter start number : \"))\n",
        "ed= int(input(\"Enter end number : \"))\n",
        "temp=0\n",
        "for i in range(st,ed+1):\n",
        "  temp=temp+i\n",
        "print(temp)"
      ],
      "metadata": {
        "colab": {
          "base_uri": "https://localhost:8080/"
        },
        "id": "zNZIMEpWQp1z",
        "outputId": "683fb674-1d29-4e1a-f187-ea67f0149d2f"
      },
      "execution_count": 191,
      "outputs": [
        {
          "output_type": "stream",
          "name": "stdout",
          "text": [
            "Enter start number : 0\n",
            "Enter end number : 5\n",
            "15\n"
          ]
        }
      ]
    }
  ]
}