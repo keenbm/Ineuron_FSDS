{
  "nbformat": 4,
  "nbformat_minor": 0,
  "metadata": {
    "colab": {
      "name": "Python Programming Basic Assignment 10.ipynb",
      "provenance": [],
      "collapsed_sections": [],
      "authorship_tag": "ABX9TyOjFq40lNy6jpPoE9QjOm3h",
      "include_colab_link": true
    },
    "kernelspec": {
      "name": "python3",
      "display_name": "Python 3"
    },
    "language_info": {
      "name": "python"
    }
  },
  "cells": [
    {
      "cell_type": "markdown",
      "metadata": {
        "id": "view-in-github",
        "colab_type": "text"
      },
      "source": [
        "<a href=\"https://colab.research.google.com/github/keenbm/Ineuron_FSDS/blob/main/Assignment/Python%20Basic%20Assignment/Python_Programming_Basic_Assignment_10.ipynb\" target=\"_parent\"><img src=\"https://colab.research.google.com/assets/colab-badge.svg\" alt=\"Open In Colab\"/></a>"
      ]
    },
    {
      "cell_type": "markdown",
      "source": [
        "\n",
        "\n",
        "``` \n",
        "Python Programming Basic Assignment 10\n",
        "Name : Bhavikkumar Modi\n",
        "E-mail : bmodi700@gmail.com\n",
        "```\n",
        "\n",
        "\n"
      ],
      "metadata": {
        "id": "RGipmPgKKPru"
      }
    },
    {
      "cell_type": "markdown",
      "source": [
        "1. Write a Python program to find sum of elements in list?"
      ],
      "metadata": {
        "id": "e2D0PqI10_oG"
      }
    },
    {
      "cell_type": "code",
      "source": [
        "a=[1,2,3,4,5,6,7]\n",
        "print(f\"sum of list {a} is {sum(a)}\")"
      ],
      "metadata": {
        "colab": {
          "base_uri": "https://localhost:8080/"
        },
        "id": "Q8LlMZlg4Hve",
        "outputId": "ae9b352d-ab56-4952-f976-d9c21c2c0967"
      },
      "execution_count": 3,
      "outputs": [
        {
          "output_type": "stream",
          "name": "stdout",
          "text": [
            "sum of list [1, 2, 3, 4, 5, 6, 7] is 28\n"
          ]
        }
      ]
    },
    {
      "cell_type": "markdown",
      "source": [
        "2. Write a Python program to Multiply all numbers in the list?"
      ],
      "metadata": {
        "id": "tMwQv5D93szL"
      }
    },
    {
      "cell_type": "code",
      "source": [
        "a=[1,2,3,4,5,6,7]\n",
        "new_list=[value*2 for value in a]\n",
        "new_list"
      ],
      "metadata": {
        "colab": {
          "base_uri": "https://localhost:8080/"
        },
        "id": "hZkadtnO4IuP",
        "outputId": "b9fa896b-afd7-4c11-f216-e7e88ccce11a"
      },
      "execution_count": 9,
      "outputs": [
        {
          "output_type": "execute_result",
          "data": {
            "text/plain": [
              "[2, 4, 6, 8, 10, 12, 14]"
            ]
          },
          "metadata": {},
          "execution_count": 9
        }
      ]
    },
    {
      "cell_type": "markdown",
      "source": [
        "3. Write a Python program to find smallest number in a list?"
      ],
      "metadata": {
        "id": "TPIqLNa43ua3"
      }
    },
    {
      "cell_type": "code",
      "source": [
        "a=[1,2,3,4,0,6,7]\n",
        "min(a)"
      ],
      "metadata": {
        "colab": {
          "base_uri": "https://localhost:8080/"
        },
        "id": "ngUvXIKf4Jc2",
        "outputId": "e4b78440-cb9c-48e1-c947-4ee31a00bf6b"
      },
      "execution_count": 11,
      "outputs": [
        {
          "output_type": "execute_result",
          "data": {
            "text/plain": [
              "0"
            ]
          },
          "metadata": {},
          "execution_count": 11
        }
      ]
    },
    {
      "cell_type": "markdown",
      "source": [
        "4. Write a Python program to find largest number in a list?"
      ],
      "metadata": {
        "id": "AxHdHWrh3wBN"
      }
    },
    {
      "cell_type": "code",
      "source": [
        "a=[1,2,3,4,0,6,7]\n",
        "max(a)"
      ],
      "metadata": {
        "colab": {
          "base_uri": "https://localhost:8080/"
        },
        "id": "XuUOr9q34Kko",
        "outputId": "a082c35b-df5d-4986-c157-60ffca145218"
      },
      "execution_count": 12,
      "outputs": [
        {
          "output_type": "execute_result",
          "data": {
            "text/plain": [
              "7"
            ]
          },
          "metadata": {},
          "execution_count": 12
        }
      ]
    },
    {
      "cell_type": "markdown",
      "source": [
        "5. Write a Python program to find second largest number in a list?"
      ],
      "metadata": {
        "id": "IxgUOWdw3xkL"
      }
    },
    {
      "cell_type": "code",
      "source": [
        "a=[1,2,3,4,0,6,7]\n",
        "k=a.copy()\n",
        "k.remove(max(k))\n",
        "print(f\"Second max value in {a} is {max(k)}\")"
      ],
      "metadata": {
        "colab": {
          "base_uri": "https://localhost:8080/"
        },
        "id": "35vIc9Wp4LUa",
        "outputId": "18aba95a-fdfa-442e-940c-6decb827683a"
      },
      "execution_count": 17,
      "outputs": [
        {
          "output_type": "stream",
          "name": "stdout",
          "text": [
            "Second max value in [1, 2, 3, 4, 0, 6, 7] is 6\n"
          ]
        }
      ]
    },
    {
      "cell_type": "markdown",
      "source": [
        "6. Write a Python program to find N largest elements from a list?"
      ],
      "metadata": {
        "id": "lecQnbHF3y6e"
      }
    },
    {
      "cell_type": "code",
      "source": [
        "a=[1,2,3,4,0,6,7]\n",
        "k=a.copy()\n",
        "k.sort()\n",
        "n=int(input(\"Input n number : \"))\n",
        "print(f\"{n} largest number in {a} is {k[-n]}\")"
      ],
      "metadata": {
        "colab": {
          "base_uri": "https://localhost:8080/"
        },
        "id": "24n06Omm4Lyk",
        "outputId": "0e11dde0-08ef-46bf-82cb-420fbfed83e3"
      },
      "execution_count": 29,
      "outputs": [
        {
          "output_type": "stream",
          "name": "stdout",
          "text": [
            "Input n number : 3\n",
            "3 largest number in [1, 2, 3, 4, 0, 6, 7] is 4\n"
          ]
        }
      ]
    },
    {
      "cell_type": "markdown",
      "source": [
        "7. Write a Python program to print even numbers in a list?"
      ],
      "metadata": {
        "id": "jZjxvu1F30VQ"
      }
    },
    {
      "cell_type": "code",
      "source": [
        "a=[1,2,3,4,5,6,7,8,9,10]\n",
        "even=[]\n",
        "for i,j in enumerate(a):\n",
        "  if j%2==0:\n",
        "    even.append(j)\n",
        "print(f\"Even number are {even}\")"
      ],
      "metadata": {
        "colab": {
          "base_uri": "https://localhost:8080/"
        },
        "id": "kjXeigeF4MxZ",
        "outputId": "0cce2eac-8c1b-49c3-fca9-79f697fc66d1"
      },
      "execution_count": 31,
      "outputs": [
        {
          "output_type": "stream",
          "name": "stdout",
          "text": [
            "Even number are [2, 4, 6, 8, 10]\n"
          ]
        }
      ]
    },
    {
      "cell_type": "markdown",
      "source": [
        "8. Write a Python program to print odd numbers in a List?"
      ],
      "metadata": {
        "id": "ldaTgwdc31nm"
      }
    },
    {
      "cell_type": "code",
      "source": [
        "a=[1,2,3,4,5,6,7,8,9,10]\n",
        "even=[]\n",
        "for i,j in enumerate(a):\n",
        "  if j%2!=0:\n",
        "    even.append(j)\n",
        "print(f\"Odd number are {even}\")"
      ],
      "metadata": {
        "colab": {
          "base_uri": "https://localhost:8080/"
        },
        "id": "DZD5wsle4NQt",
        "outputId": "a91298e6-a729-492b-d89d-0fcd644664a6"
      },
      "execution_count": 32,
      "outputs": [
        {
          "output_type": "stream",
          "name": "stdout",
          "text": [
            "Odd number are [1, 3, 5, 7, 9]\n"
          ]
        }
      ]
    },
    {
      "cell_type": "markdown",
      "source": [
        "9. Write a Python program to Remove empty List from List?"
      ],
      "metadata": {
        "id": "3UVF0e2q33NE"
      }
    },
    {
      "cell_type": "code",
      "source": [
        "a=[1,2,3,[],4]\n",
        "b=a.copy()\n",
        "b.remove([])\n",
        "print(f\"Old list {a} \\n new list {b}\")"
      ],
      "metadata": {
        "colab": {
          "base_uri": "https://localhost:8080/"
        },
        "id": "2RA_mWRUD65D",
        "outputId": "baab0fae-5c1b-4543-98fd-e245b07c900a"
      },
      "execution_count": 42,
      "outputs": [
        {
          "output_type": "stream",
          "name": "stdout",
          "text": [
            "Old list [1, 2, 3, [], 4] \n",
            " new list [1, 2, 3, 4]\n"
          ]
        }
      ]
    },
    {
      "cell_type": "markdown",
      "source": [
        "10. Write a Python program to Cloning or Copying a list?"
      ],
      "metadata": {
        "id": "6hvEO5U234pW"
      }
    },
    {
      "cell_type": "code",
      "source": [
        "a=[1,2,3,[],4]\n",
        "b=a.copy()\n",
        "print(f\"Old list {a} \\n Copied list {b}\")"
      ],
      "metadata": {
        "colab": {
          "base_uri": "https://localhost:8080/"
        },
        "id": "CPwYqKNg4PMC",
        "outputId": "c3d77506-73ec-4858-8900-63f7da4d6b7b"
      },
      "execution_count": 43,
      "outputs": [
        {
          "output_type": "stream",
          "name": "stdout",
          "text": [
            "Old list [1, 2, 3, [], 4] \n",
            " Copied list [1, 2, 3, [], 4]\n"
          ]
        }
      ]
    },
    {
      "cell_type": "markdown",
      "source": [
        "11. Write a Python program to Count occurrences of an element in a list?"
      ],
      "metadata": {
        "id": "o9DvvYEQ36y2"
      }
    },
    {
      "cell_type": "code",
      "source": [
        "a=[1,2,3,1,1,4]\n",
        "print(f\"1 is present {a.count(1)} times\")\n"
      ],
      "metadata": {
        "colab": {
          "base_uri": "https://localhost:8080/"
        },
        "id": "RDa0uGBz4R11",
        "outputId": "9e03f7d7-c674-48e8-9a7c-f030b1cae502"
      },
      "execution_count": 46,
      "outputs": [
        {
          "output_type": "stream",
          "name": "stdout",
          "text": [
            "1 is present 3 times\n"
          ]
        }
      ]
    },
    {
      "cell_type": "code",
      "source": [
        ""
      ],
      "metadata": {
        "id": "nth7XT_8En_A"
      },
      "execution_count": null,
      "outputs": []
    }
  ]
}